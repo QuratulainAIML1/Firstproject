{
 "cells": [
  {
   "cell_type": "markdown",
   "metadata": {},
   "source": [
    "<center> Name:Quratulain<br>\n",
    "Email:QuratulainkhanAIML1@outlook.com<br>\n",
    "Github:QuratulainkhanAIML1<br>\n",
    "Title:Practicebyq</center>"
   ]
  },
  {
   "cell_type": "markdown",
   "metadata": {},
   "source": [
    "# This is my first python file."
   ]
  },
  {
   "cell_type": "code",
   "execution_count": 63,
   "metadata": {},
   "outputs": [
    {
     "name": "stdout",
     "output_type": "stream",
     "text": [
      "Hello, Welcome to Python\n"
     ]
    }
   ],
   "source": [
    "# This is a code to print hello welcome to python.\n",
    "print(\"Hello, Welcome to Python\")"
   ]
  },
  {
   "cell_type": "code",
   "execution_count": 64,
   "metadata": {},
   "outputs": [
    {
     "name": "stdout",
     "output_type": "stream",
     "text": [
      "3.13.2 (tags/v3.13.2:4f8bb39, Feb  4 2025, 15:23:48) [MSC v.1942 64 bit (AMD64)]\n"
     ]
    }
   ],
   "source": [
    "# This is a code to print version of system.\n",
    "import sys\n",
    "\n",
    "print(sys.version)"
   ]
  },
  {
   "cell_type": "code",
   "execution_count": 65,
   "metadata": {},
   "outputs": [
    {
     "name": "stdout",
     "output_type": "stream",
     "text": [
      "Five is greater than two!\n"
     ]
    }
   ],
   "source": [
    "#This is a  code for while statement\n",
    "if 5 > 2:\n",
    "  print(\"Five is greater than two!\")"
   ]
  },
  {
   "cell_type": "code",
   "execution_count": 66,
   "metadata": {},
   "outputs": [
    {
     "name": "stdout",
     "output_type": "stream",
     "text": [
      "5\n"
     ]
    },
    {
     "data": {
      "text/plain": [
       "'Hello, World!'"
      ]
     },
     "execution_count": 66,
     "metadata": {},
     "output_type": "execute_result"
    }
   ],
   "source": [
    "# This is a code to create variable and assign values to it and then print values\n",
    "x = 5\n",
    "y = \"Hello, World!\"\n",
    "print(x)\n",
    "y"
   ]
  },
  {
   "cell_type": "code",
   "execution_count": 67,
   "metadata": {},
   "outputs": [
    {
     "name": "stdout",
     "output_type": "stream",
     "text": [
      "9\n"
     ]
    }
   ],
   "source": [
    "# This is a code for declaring data type of variable \n",
    "# through casting\n",
    "y=int(9)\n",
    "print(y)"
   ]
  },
  {
   "cell_type": "code",
   "execution_count": 68,
   "metadata": {},
   "outputs": [
    {
     "name": "stdout",
     "output_type": "stream",
     "text": [
      "6\n",
      "1\n",
      "5\n",
      "1.0\n"
     ]
    }
   ],
   "source": [
    "a=2\n",
    "b=3\n",
    "p=a*b\n",
    "m=b-a\n",
    "s=a+b\n",
    "d=a/2\n",
    "print(p)\n",
    "print(m)\n",
    "print(s)\n",
    "print(d)"
   ]
  },
  {
   "cell_type": "code",
   "execution_count": 69,
   "metadata": {},
   "outputs": [
    {
     "name": "stdout",
     "output_type": "stream",
     "text": [
      "Sum:  5\n",
      "Subtraction:  -1\n",
      "Multiplication:  6\n",
      "Division:  0.6666666666666666\n",
      "Floor Division:  0\n",
      "Modulo:  2\n",
      "Power:  8\n"
     ]
    }
   ],
   "source": [
    " # addition\n",
    "print ('Sum: ', a + b)  \n",
    "\n",
    "# subtraction\n",
    "print ('Subtraction: ', a - b)   \n",
    "\n",
    "# multiplication\n",
    "print ('Multiplication: ', a * b)  \n",
    "\n",
    "# division\n",
    "print ('Division: ', a / b) \n",
    "\n",
    "# floor division\n",
    "print ('Floor Division: ', a // b)\n",
    "\n",
    "# modulo\n",
    "print ('Modulo: ', a % b)  \n",
    "\n",
    "# a to the power b\n",
    "print ('Power: ', a ** b) "
   ]
  },
  {
   "cell_type": "code",
   "execution_count": 70,
   "metadata": {},
   "outputs": [
    {
     "name": "stdout",
     "output_type": "stream",
     "text": [
      "True\n",
      "False\n"
     ]
    }
   ],
   "source": [
    "a = 5\n",
    "b = 2\n",
    "\n",
    "print (a > b)\n",
    "print(b>a) "
   ]
  },
  {
   "cell_type": "code",
   "execution_count": 71,
   "metadata": {},
   "outputs": [
    {
     "name": "stdout",
     "output_type": "stream",
     "text": [
      "False\n"
     ]
    }
   ],
   "source": [
    "a = 6\n",
    "b = 4\n",
    "print((a > 2) and (b >= 6))"
   ]
  },
  {
   "cell_type": "code",
   "execution_count": 72,
   "metadata": {},
   "outputs": [
    {
     "name": "stdout",
     "output_type": "stream",
     "text": [
      "False\n",
      "True\n"
     ]
    }
   ],
   "source": [
    "message = 'I live in Pakistan'\n",
    "# check if 'H' is present in message string\n",
    "print('H' in message) \n",
    "\n",
    "# check if 'Pakistan' is present in message string\n",
    "print('Pakistan'in message)"
   ]
  },
  {
   "cell_type": "code",
   "execution_count": 73,
   "metadata": {},
   "outputs": [
    {
     "name": "stdout",
     "output_type": "stream",
     "text": [
      "Negative number\n",
      "This statement is always executed\n"
     ]
    }
   ],
   "source": [
    "number = -5\n",
    "\n",
    "if number > 0:\n",
    "    print('Positive number')\n",
    "else:\n",
    "    print(\"Negative number\")\n",
    "\n",
    "print('This statement is always executed')"
   ]
  },
  {
   "cell_type": "code",
   "execution_count": 74,
   "metadata": {},
   "outputs": [
    {
     "name": "stdout",
     "output_type": "stream",
     "text": [
      "Number is negative\n"
     ]
    }
   ],
   "source": [
    "number = -2\n",
    "\n",
    "# outer if statement\n",
    "if number >= 0:\n",
    "    # inner if statement\n",
    "    if number == 0:\n",
    "      print('Number is 0')\n",
    "    \n",
    "    # inner else statement\n",
    "    else:\n",
    "        print('Number is positive')\n",
    "\n",
    "# outer else statement\n",
    "else:\n",
    "    print('Number is negative')"
   ]
  },
  {
   "cell_type": "code",
   "execution_count": 75,
   "metadata": {},
   "outputs": [
    {
     "name": "stdout",
     "output_type": "stream",
     "text": [
      "['apple', 'banana', 'cherry']\n"
     ]
    }
   ],
   "source": [
    "thislist = [\"apple\", \"banana\", \"cherry\"]\n",
    "print(thislist)"
   ]
  },
  {
   "cell_type": "markdown",
   "metadata": {},
   "source": [
    "step1.Install library"
   ]
  },
  {
   "cell_type": "code",
   "execution_count": 1,
   "metadata": {},
   "outputs": [
    {
     "name": "stdout",
     "output_type": "stream",
     "text": [
      "Requirement already satisfied: pandas in c:\\users\\qurat\\appdata\\local\\programs\\python\\python313\\lib\\site-packages (2.2.3)\n",
      "Requirement already satisfied: numpy>=1.26.0 in c:\\users\\qurat\\appdata\\local\\programs\\python\\python313\\lib\\site-packages (from pandas) (2.2.3)\n",
      "Requirement already satisfied: python-dateutil>=2.8.2 in c:\\users\\qurat\\appdata\\roaming\\python\\python313\\site-packages (from pandas) (2.9.0.post0)\n",
      "Requirement already satisfied: pytz>=2020.1 in c:\\users\\qurat\\appdata\\local\\programs\\python\\python313\\lib\\site-packages (from pandas) (2025.1)\n",
      "Requirement already satisfied: tzdata>=2022.7 in c:\\users\\qurat\\appdata\\local\\programs\\python\\python313\\lib\\site-packages (from pandas) (2025.1)\n",
      "Requirement already satisfied: six>=1.5 in c:\\users\\qurat\\appdata\\roaming\\python\\python313\\site-packages (from python-dateutil>=2.8.2->pandas) (1.17.0)\n",
      "Note: you may need to restart the kernel to use updated packages.\n"
     ]
    }
   ],
   "source": [
    "%pip install pandas"
   ]
  },
  {
   "cell_type": "markdown",
   "metadata": {},
   "source": [
    "step2.import pandas\n"
   ]
  },
  {
   "cell_type": "code",
   "execution_count": 2,
   "metadata": {},
   "outputs": [],
   "source": [
    "import pandas as pd"
   ]
  },
  {
   "cell_type": "markdown",
   "metadata": {},
   "source": [
    "Step3. Loading data set"
   ]
  },
  {
   "cell_type": "code",
   "execution_count": 3,
   "metadata": {},
   "outputs": [
    {
     "data": {
      "text/html": [
       "<div>\n",
       "<style scoped>\n",
       "    .dataframe tbody tr th:only-of-type {\n",
       "        vertical-align: middle;\n",
       "    }\n",
       "\n",
       "    .dataframe tbody tr th {\n",
       "        vertical-align: top;\n",
       "    }\n",
       "\n",
       "    .dataframe thead th {\n",
       "        text-align: right;\n",
       "    }\n",
       "</style>\n",
       "<table border=\"1\" class=\"dataframe\">\n",
       "  <thead>\n",
       "    <tr style=\"text-align: right;\">\n",
       "      <th></th>\n",
       "      <th>Name</th>\n",
       "      <th>Designation</th>\n",
       "      <th>Gender</th>\n",
       "      <th>Age</th>\n",
       "      <th>Salary</th>\n",
       "    </tr>\n",
       "  </thead>\n",
       "  <tbody>\n",
       "    <tr>\n",
       "      <th>0</th>\n",
       "      <td>Mukhtar</td>\n",
       "      <td>Professor</td>\n",
       "      <td>M</td>\n",
       "      <td>37.0</td>\n",
       "      <td>115000.0</td>\n",
       "    </tr>\n",
       "    <tr>\n",
       "      <th>1</th>\n",
       "      <td>Azziz</td>\n",
       "      <td>Teacher</td>\n",
       "      <td>M</td>\n",
       "      <td>30.0</td>\n",
       "      <td>35000.0</td>\n",
       "    </tr>\n",
       "    <tr>\n",
       "      <th>2</th>\n",
       "      <td>Mohsin</td>\n",
       "      <td>Engineer</td>\n",
       "      <td>M</td>\n",
       "      <td>29.0</td>\n",
       "      <td>50000.0</td>\n",
       "    </tr>\n",
       "    <tr>\n",
       "      <th>3</th>\n",
       "      <td>Naveed Fatima</td>\n",
       "      <td>Analyst</td>\n",
       "      <td>F</td>\n",
       "      <td>30.0</td>\n",
       "      <td>70000.0</td>\n",
       "    </tr>\n",
       "    <tr>\n",
       "      <th>4</th>\n",
       "      <td>Babar</td>\n",
       "      <td>Engineer</td>\n",
       "      <td>F</td>\n",
       "      <td>25.0</td>\n",
       "      <td>1500000.0</td>\n",
       "    </tr>\n",
       "    <tr>\n",
       "      <th>5</th>\n",
       "      <td>Aqsa</td>\n",
       "      <td>Scientist</td>\n",
       "      <td>F</td>\n",
       "      <td>22.0</td>\n",
       "      <td>NaN</td>\n",
       "    </tr>\n",
       "    <tr>\n",
       "      <th>6</th>\n",
       "      <td>Rafia</td>\n",
       "      <td>Analyst</td>\n",
       "      <td>F</td>\n",
       "      <td>29.0</td>\n",
       "      <td>20000.0</td>\n",
       "    </tr>\n",
       "    <tr>\n",
       "      <th>7</th>\n",
       "      <td>Samra</td>\n",
       "      <td>Scientist</td>\n",
       "      <td>F</td>\n",
       "      <td>26.0</td>\n",
       "      <td>115000.0</td>\n",
       "    </tr>\n",
       "    <tr>\n",
       "      <th>8</th>\n",
       "      <td>Eman</td>\n",
       "      <td>Engineer</td>\n",
       "      <td>F</td>\n",
       "      <td>28.0</td>\n",
       "      <td>35000.0</td>\n",
       "    </tr>\n",
       "    <tr>\n",
       "      <th>9</th>\n",
       "      <td>Abdullah</td>\n",
       "      <td>Teacher</td>\n",
       "      <td>M</td>\n",
       "      <td>55.0</td>\n",
       "      <td>NaN</td>\n",
       "    </tr>\n",
       "    <tr>\n",
       "      <th>10</th>\n",
       "      <td>Mosib</td>\n",
       "      <td>professor</td>\n",
       "      <td>M</td>\n",
       "      <td>60.0</td>\n",
       "      <td>70000.0</td>\n",
       "    </tr>\n",
       "    <tr>\n",
       "      <th>11</th>\n",
       "      <td>Ahmed</td>\n",
       "      <td>engineer</td>\n",
       "      <td>M</td>\n",
       "      <td>NaN</td>\n",
       "      <td>90000.0</td>\n",
       "    </tr>\n",
       "    <tr>\n",
       "      <th>12</th>\n",
       "      <td>Ahsan</td>\n",
       "      <td>trainer</td>\n",
       "      <td>M</td>\n",
       "      <td>156.0</td>\n",
       "      <td>110000.0</td>\n",
       "    </tr>\n",
       "    <tr>\n",
       "      <th>13</th>\n",
       "      <td>Wajid</td>\n",
       "      <td>teacher</td>\n",
       "      <td>M</td>\n",
       "      <td>67.0</td>\n",
       "      <td>2000.0</td>\n",
       "    </tr>\n",
       "    <tr>\n",
       "      <th>14</th>\n",
       "      <td>Naeem</td>\n",
       "      <td>trainer</td>\n",
       "      <td>M</td>\n",
       "      <td>80.0</td>\n",
       "      <td>16000.0</td>\n",
       "    </tr>\n",
       "    <tr>\n",
       "      <th>15</th>\n",
       "      <td>Qaisar</td>\n",
       "      <td>professor</td>\n",
       "      <td>M</td>\n",
       "      <td>20.0</td>\n",
       "      <td>170000.0</td>\n",
       "    </tr>\n",
       "    <tr>\n",
       "      <th>16</th>\n",
       "      <td>Wajid</td>\n",
       "      <td>Engineer</td>\n",
       "      <td>M</td>\n",
       "      <td>85.0</td>\n",
       "      <td>190000.0</td>\n",
       "    </tr>\n",
       "  </tbody>\n",
       "</table>\n",
       "</div>"
      ],
      "text/plain": [
       "             Name Designation Gender    Age     Salary\n",
       "0         Mukhtar   Professor      M   37.0   115000.0\n",
       "1           Azziz     Teacher      M   30.0    35000.0\n",
       "2          Mohsin    Engineer      M   29.0    50000.0\n",
       "3   Naveed Fatima     Analyst      F   30.0    70000.0\n",
       "4           Babar    Engineer      F   25.0  1500000.0\n",
       "5            Aqsa   Scientist      F   22.0        NaN\n",
       "6           Rafia     Analyst      F   29.0    20000.0\n",
       "7           Samra   Scientist      F   26.0   115000.0\n",
       "8            Eman    Engineer      F   28.0    35000.0\n",
       "9        Abdullah     Teacher      M   55.0        NaN\n",
       "10          Mosib   professor      M   60.0    70000.0\n",
       "11          Ahmed    engineer      M    NaN    90000.0\n",
       "12          Ahsan     trainer      M  156.0   110000.0\n",
       "13          Wajid     teacher      M   67.0     2000.0\n",
       "14          Naeem     trainer      M   80.0    16000.0\n",
       "15         Qaisar   professor      M   20.0   170000.0\n",
       "16          Wajid    Engineer      M   85.0   190000.0"
      ]
     },
     "execution_count": 3,
     "metadata": {},
     "output_type": "execute_result"
    }
   ],
   "source": [
    "pd.read_csv('data.csv')"
   ]
  },
  {
   "cell_type": "code",
   "execution_count": 4,
   "metadata": {},
   "outputs": [
    {
     "name": "stdout",
     "output_type": "stream",
     "text": [
      "This is my Csv dataset\n"
     ]
    },
    {
     "data": {
      "text/html": [
       "<div>\n",
       "<style scoped>\n",
       "    .dataframe tbody tr th:only-of-type {\n",
       "        vertical-align: middle;\n",
       "    }\n",
       "\n",
       "    .dataframe tbody tr th {\n",
       "        vertical-align: top;\n",
       "    }\n",
       "\n",
       "    .dataframe thead th {\n",
       "        text-align: right;\n",
       "    }\n",
       "</style>\n",
       "<table border=\"1\" class=\"dataframe\">\n",
       "  <thead>\n",
       "    <tr style=\"text-align: right;\">\n",
       "      <th></th>\n",
       "      <th>Name</th>\n",
       "      <th>Designation</th>\n",
       "      <th>Gender</th>\n",
       "      <th>Age</th>\n",
       "      <th>Salary</th>\n",
       "    </tr>\n",
       "  </thead>\n",
       "  <tbody>\n",
       "    <tr>\n",
       "      <th>0</th>\n",
       "      <td>Mukhtar</td>\n",
       "      <td>Professor</td>\n",
       "      <td>M</td>\n",
       "      <td>37.0</td>\n",
       "      <td>115000.0</td>\n",
       "    </tr>\n",
       "    <tr>\n",
       "      <th>1</th>\n",
       "      <td>Azziz</td>\n",
       "      <td>Teacher</td>\n",
       "      <td>M</td>\n",
       "      <td>30.0</td>\n",
       "      <td>35000.0</td>\n",
       "    </tr>\n",
       "    <tr>\n",
       "      <th>2</th>\n",
       "      <td>Mohsin</td>\n",
       "      <td>Engineer</td>\n",
       "      <td>M</td>\n",
       "      <td>29.0</td>\n",
       "      <td>50000.0</td>\n",
       "    </tr>\n",
       "    <tr>\n",
       "      <th>3</th>\n",
       "      <td>Naveed Fatima</td>\n",
       "      <td>Analyst</td>\n",
       "      <td>F</td>\n",
       "      <td>30.0</td>\n",
       "      <td>70000.0</td>\n",
       "    </tr>\n",
       "    <tr>\n",
       "      <th>4</th>\n",
       "      <td>Babar</td>\n",
       "      <td>Engineer</td>\n",
       "      <td>F</td>\n",
       "      <td>25.0</td>\n",
       "      <td>1500000.0</td>\n",
       "    </tr>\n",
       "    <tr>\n",
       "      <th>5</th>\n",
       "      <td>Aqsa</td>\n",
       "      <td>Scientist</td>\n",
       "      <td>F</td>\n",
       "      <td>22.0</td>\n",
       "      <td>NaN</td>\n",
       "    </tr>\n",
       "    <tr>\n",
       "      <th>6</th>\n",
       "      <td>Rafia</td>\n",
       "      <td>Analyst</td>\n",
       "      <td>F</td>\n",
       "      <td>29.0</td>\n",
       "      <td>20000.0</td>\n",
       "    </tr>\n",
       "    <tr>\n",
       "      <th>7</th>\n",
       "      <td>Samra</td>\n",
       "      <td>Scientist</td>\n",
       "      <td>F</td>\n",
       "      <td>26.0</td>\n",
       "      <td>115000.0</td>\n",
       "    </tr>\n",
       "    <tr>\n",
       "      <th>8</th>\n",
       "      <td>Eman</td>\n",
       "      <td>Engineer</td>\n",
       "      <td>F</td>\n",
       "      <td>28.0</td>\n",
       "      <td>35000.0</td>\n",
       "    </tr>\n",
       "    <tr>\n",
       "      <th>9</th>\n",
       "      <td>Abdullah</td>\n",
       "      <td>Teacher</td>\n",
       "      <td>M</td>\n",
       "      <td>55.0</td>\n",
       "      <td>NaN</td>\n",
       "    </tr>\n",
       "    <tr>\n",
       "      <th>10</th>\n",
       "      <td>Mosib</td>\n",
       "      <td>professor</td>\n",
       "      <td>M</td>\n",
       "      <td>60.0</td>\n",
       "      <td>70000.0</td>\n",
       "    </tr>\n",
       "    <tr>\n",
       "      <th>11</th>\n",
       "      <td>Ahmed</td>\n",
       "      <td>engineer</td>\n",
       "      <td>M</td>\n",
       "      <td>NaN</td>\n",
       "      <td>90000.0</td>\n",
       "    </tr>\n",
       "    <tr>\n",
       "      <th>12</th>\n",
       "      <td>Ahsan</td>\n",
       "      <td>trainer</td>\n",
       "      <td>M</td>\n",
       "      <td>156.0</td>\n",
       "      <td>110000.0</td>\n",
       "    </tr>\n",
       "    <tr>\n",
       "      <th>13</th>\n",
       "      <td>Wajid</td>\n",
       "      <td>teacher</td>\n",
       "      <td>M</td>\n",
       "      <td>67.0</td>\n",
       "      <td>2000.0</td>\n",
       "    </tr>\n",
       "    <tr>\n",
       "      <th>14</th>\n",
       "      <td>Naeem</td>\n",
       "      <td>trainer</td>\n",
       "      <td>M</td>\n",
       "      <td>80.0</td>\n",
       "      <td>16000.0</td>\n",
       "    </tr>\n",
       "    <tr>\n",
       "      <th>15</th>\n",
       "      <td>Qaisar</td>\n",
       "      <td>professor</td>\n",
       "      <td>M</td>\n",
       "      <td>20.0</td>\n",
       "      <td>170000.0</td>\n",
       "    </tr>\n",
       "    <tr>\n",
       "      <th>16</th>\n",
       "      <td>Wajid</td>\n",
       "      <td>Engineer</td>\n",
       "      <td>M</td>\n",
       "      <td>85.0</td>\n",
       "      <td>190000.0</td>\n",
       "    </tr>\n",
       "  </tbody>\n",
       "</table>\n",
       "</div>"
      ],
      "text/plain": [
       "             Name Designation Gender    Age     Salary\n",
       "0         Mukhtar   Professor      M   37.0   115000.0\n",
       "1           Azziz     Teacher      M   30.0    35000.0\n",
       "2          Mohsin    Engineer      M   29.0    50000.0\n",
       "3   Naveed Fatima     Analyst      F   30.0    70000.0\n",
       "4           Babar    Engineer      F   25.0  1500000.0\n",
       "5            Aqsa   Scientist      F   22.0        NaN\n",
       "6           Rafia     Analyst      F   29.0    20000.0\n",
       "7           Samra   Scientist      F   26.0   115000.0\n",
       "8            Eman    Engineer      F   28.0    35000.0\n",
       "9        Abdullah     Teacher      M   55.0        NaN\n",
       "10          Mosib   professor      M   60.0    70000.0\n",
       "11          Ahmed    engineer      M    NaN    90000.0\n",
       "12          Ahsan     trainer      M  156.0   110000.0\n",
       "13          Wajid     teacher      M   67.0     2000.0\n",
       "14          Naeem     trainer      M   80.0    16000.0\n",
       "15         Qaisar   professor      M   20.0   170000.0\n",
       "16          Wajid    Engineer      M   85.0   190000.0"
      ]
     },
     "execution_count": 4,
     "metadata": {},
     "output_type": "execute_result"
    }
   ],
   "source": [
    "df=pd.read_csv('data.csv')\n",
    "print(\"This is my Csv dataset\")\n",
    "df\n"
   ]
  },
  {
   "cell_type": "markdown",
   "metadata": {},
   "source": [
    "step4:loading excel file\n"
   ]
  },
  {
   "cell_type": "code",
   "execution_count": 5,
   "metadata": {},
   "outputs": [
    {
     "name": "stdout",
     "output_type": "stream",
     "text": [
      "Requirement already satisfied: pandas in c:\\users\\qurat\\appdata\\local\\programs\\python\\python313\\lib\\site-packages (2.2.3)\n",
      "Requirement already satisfied: openpyxl in c:\\users\\qurat\\appdata\\local\\programs\\python\\python313\\lib\\site-packages (3.1.5)\n",
      "Requirement already satisfied: numpy>=1.26.0 in c:\\users\\qurat\\appdata\\local\\programs\\python\\python313\\lib\\site-packages (from pandas) (2.2.3)\n",
      "Requirement already satisfied: python-dateutil>=2.8.2 in c:\\users\\qurat\\appdata\\roaming\\python\\python313\\site-packages (from pandas) (2.9.0.post0)\n",
      "Requirement already satisfied: pytz>=2020.1 in c:\\users\\qurat\\appdata\\local\\programs\\python\\python313\\lib\\site-packages (from pandas) (2025.1)\n",
      "Requirement already satisfied: tzdata>=2022.7 in c:\\users\\qurat\\appdata\\local\\programs\\python\\python313\\lib\\site-packages (from pandas) (2025.1)\n",
      "Requirement already satisfied: et-xmlfile in c:\\users\\qurat\\appdata\\local\\programs\\python\\python313\\lib\\site-packages (from openpyxl) (2.0.0)\n",
      "Requirement already satisfied: six>=1.5 in c:\\users\\qurat\\appdata\\roaming\\python\\python313\\site-packages (from python-dateutil>=2.8.2->pandas) (1.17.0)\n",
      "Note: you may need to restart the kernel to use updated packages.\n"
     ]
    }
   ],
   "source": [
    "%pip install pandas openpyxl"
   ]
  },
  {
   "cell_type": "code",
   "execution_count": 6,
   "metadata": {},
   "outputs": [
    {
     "name": "stdout",
     "output_type": "stream",
     "text": [
      "This is my excel dataset.\n"
     ]
    },
    {
     "data": {
      "text/html": [
       "<div>\n",
       "<style scoped>\n",
       "    .dataframe tbody tr th:only-of-type {\n",
       "        vertical-align: middle;\n",
       "    }\n",
       "\n",
       "    .dataframe tbody tr th {\n",
       "        vertical-align: top;\n",
       "    }\n",
       "\n",
       "    .dataframe thead th {\n",
       "        text-align: right;\n",
       "    }\n",
       "</style>\n",
       "<table border=\"1\" class=\"dataframe\">\n",
       "  <thead>\n",
       "    <tr style=\"text-align: right;\">\n",
       "      <th></th>\n",
       "      <th>Name</th>\n",
       "      <th>Designation</th>\n",
       "      <th>Gender</th>\n",
       "      <th>Age</th>\n",
       "      <th>Salary</th>\n",
       "    </tr>\n",
       "  </thead>\n",
       "  <tbody>\n",
       "    <tr>\n",
       "      <th>0</th>\n",
       "      <td>Mukhtar</td>\n",
       "      <td>Professor</td>\n",
       "      <td>M</td>\n",
       "      <td>37.0</td>\n",
       "      <td>115000.0</td>\n",
       "    </tr>\n",
       "    <tr>\n",
       "      <th>1</th>\n",
       "      <td>Azziz</td>\n",
       "      <td>Teacher</td>\n",
       "      <td>M</td>\n",
       "      <td>30.0</td>\n",
       "      <td>35000.0</td>\n",
       "    </tr>\n",
       "    <tr>\n",
       "      <th>2</th>\n",
       "      <td>Mohsin</td>\n",
       "      <td>Engineer</td>\n",
       "      <td>M</td>\n",
       "      <td>29.0</td>\n",
       "      <td>50000.0</td>\n",
       "    </tr>\n",
       "    <tr>\n",
       "      <th>3</th>\n",
       "      <td>Naveed Fatima</td>\n",
       "      <td>Analyst</td>\n",
       "      <td>F</td>\n",
       "      <td>30.0</td>\n",
       "      <td>70000.0</td>\n",
       "    </tr>\n",
       "    <tr>\n",
       "      <th>4</th>\n",
       "      <td>Babar</td>\n",
       "      <td>Engineer</td>\n",
       "      <td>F</td>\n",
       "      <td>25.0</td>\n",
       "      <td>1500000.0</td>\n",
       "    </tr>\n",
       "    <tr>\n",
       "      <th>5</th>\n",
       "      <td>Aqsa</td>\n",
       "      <td>Scientist</td>\n",
       "      <td>F</td>\n",
       "      <td>22.0</td>\n",
       "      <td>NaN</td>\n",
       "    </tr>\n",
       "    <tr>\n",
       "      <th>6</th>\n",
       "      <td>Rafia</td>\n",
       "      <td>Analyst</td>\n",
       "      <td>F</td>\n",
       "      <td>29.0</td>\n",
       "      <td>20000.0</td>\n",
       "    </tr>\n",
       "    <tr>\n",
       "      <th>7</th>\n",
       "      <td>Samra</td>\n",
       "      <td>Scientist</td>\n",
       "      <td>F</td>\n",
       "      <td>26.0</td>\n",
       "      <td>115000.0</td>\n",
       "    </tr>\n",
       "    <tr>\n",
       "      <th>8</th>\n",
       "      <td>Eman</td>\n",
       "      <td>Engineer</td>\n",
       "      <td>F</td>\n",
       "      <td>28.0</td>\n",
       "      <td>35000.0</td>\n",
       "    </tr>\n",
       "    <tr>\n",
       "      <th>9</th>\n",
       "      <td>Abdullah</td>\n",
       "      <td>Teacher</td>\n",
       "      <td>M</td>\n",
       "      <td>55.0</td>\n",
       "      <td>NaN</td>\n",
       "    </tr>\n",
       "    <tr>\n",
       "      <th>10</th>\n",
       "      <td>Mosib</td>\n",
       "      <td>professor</td>\n",
       "      <td>M</td>\n",
       "      <td>60.0</td>\n",
       "      <td>70000.0</td>\n",
       "    </tr>\n",
       "    <tr>\n",
       "      <th>11</th>\n",
       "      <td>Ahmed</td>\n",
       "      <td>engineer</td>\n",
       "      <td>M</td>\n",
       "      <td>NaN</td>\n",
       "      <td>90000.0</td>\n",
       "    </tr>\n",
       "    <tr>\n",
       "      <th>12</th>\n",
       "      <td>Ahsan</td>\n",
       "      <td>trainer</td>\n",
       "      <td>M</td>\n",
       "      <td>156.0</td>\n",
       "      <td>110000.0</td>\n",
       "    </tr>\n",
       "    <tr>\n",
       "      <th>13</th>\n",
       "      <td>Wajid</td>\n",
       "      <td>teacher</td>\n",
       "      <td>M</td>\n",
       "      <td>67.0</td>\n",
       "      <td>2000.0</td>\n",
       "    </tr>\n",
       "    <tr>\n",
       "      <th>14</th>\n",
       "      <td>Naeem</td>\n",
       "      <td>trainer</td>\n",
       "      <td>M</td>\n",
       "      <td>80.0</td>\n",
       "      <td>16000.0</td>\n",
       "    </tr>\n",
       "    <tr>\n",
       "      <th>15</th>\n",
       "      <td>Qaisar</td>\n",
       "      <td>professor</td>\n",
       "      <td>M</td>\n",
       "      <td>20.0</td>\n",
       "      <td>170000.0</td>\n",
       "    </tr>\n",
       "    <tr>\n",
       "      <th>16</th>\n",
       "      <td>Wajid</td>\n",
       "      <td>Engineer</td>\n",
       "      <td>M</td>\n",
       "      <td>85.0</td>\n",
       "      <td>190000.0</td>\n",
       "    </tr>\n",
       "  </tbody>\n",
       "</table>\n",
       "</div>"
      ],
      "text/plain": [
       "             Name Designation Gender    Age     Salary\n",
       "0         Mukhtar   Professor      M   37.0   115000.0\n",
       "1           Azziz     Teacher      M   30.0    35000.0\n",
       "2          Mohsin    Engineer      M   29.0    50000.0\n",
       "3   Naveed Fatima     Analyst      F   30.0    70000.0\n",
       "4           Babar    Engineer      F   25.0  1500000.0\n",
       "5            Aqsa   Scientist      F   22.0        NaN\n",
       "6           Rafia     Analyst      F   29.0    20000.0\n",
       "7           Samra   Scientist      F   26.0   115000.0\n",
       "8            Eman    Engineer      F   28.0    35000.0\n",
       "9        Abdullah     Teacher      M   55.0        NaN\n",
       "10          Mosib   professor      M   60.0    70000.0\n",
       "11          Ahmed    engineer      M    NaN    90000.0\n",
       "12          Ahsan     trainer      M  156.0   110000.0\n",
       "13          Wajid     teacher      M   67.0     2000.0\n",
       "14          Naeem     trainer      M   80.0    16000.0\n",
       "15         Qaisar   professor      M   20.0   170000.0\n",
       "16          Wajid    Engineer      M   85.0   190000.0"
      ]
     },
     "execution_count": 6,
     "metadata": {},
     "output_type": "execute_result"
    }
   ],
   "source": [
    "# print excel file\n",
    "print(\"This is my excel dataset.\")\n",
    "pd.read_excel('data.xlsx')"
   ]
  },
  {
   "cell_type": "code",
   "execution_count": 7,
   "metadata": {},
   "outputs": [
    {
     "name": "stdout",
     "output_type": "stream",
     "text": [
      "This is my excel dataset.\n"
     ]
    },
    {
     "data": {
      "text/html": [
       "<div>\n",
       "<style scoped>\n",
       "    .dataframe tbody tr th:only-of-type {\n",
       "        vertical-align: middle;\n",
       "    }\n",
       "\n",
       "    .dataframe tbody tr th {\n",
       "        vertical-align: top;\n",
       "    }\n",
       "\n",
       "    .dataframe thead th {\n",
       "        text-align: right;\n",
       "    }\n",
       "</style>\n",
       "<table border=\"1\" class=\"dataframe\">\n",
       "  <thead>\n",
       "    <tr style=\"text-align: right;\">\n",
       "      <th></th>\n",
       "      <th>Name</th>\n",
       "      <th>Designation</th>\n",
       "      <th>Gender</th>\n",
       "      <th>Age</th>\n",
       "      <th>Salary</th>\n",
       "    </tr>\n",
       "  </thead>\n",
       "  <tbody>\n",
       "    <tr>\n",
       "      <th>0</th>\n",
       "      <td>Mukhtar</td>\n",
       "      <td>Professor</td>\n",
       "      <td>M</td>\n",
       "      <td>37.0</td>\n",
       "      <td>115000.0</td>\n",
       "    </tr>\n",
       "    <tr>\n",
       "      <th>1</th>\n",
       "      <td>Azziz</td>\n",
       "      <td>Teacher</td>\n",
       "      <td>M</td>\n",
       "      <td>30.0</td>\n",
       "      <td>35000.0</td>\n",
       "    </tr>\n",
       "    <tr>\n",
       "      <th>2</th>\n",
       "      <td>Mohsin</td>\n",
       "      <td>Engineer</td>\n",
       "      <td>M</td>\n",
       "      <td>29.0</td>\n",
       "      <td>50000.0</td>\n",
       "    </tr>\n",
       "    <tr>\n",
       "      <th>3</th>\n",
       "      <td>Naveed Fatima</td>\n",
       "      <td>Analyst</td>\n",
       "      <td>F</td>\n",
       "      <td>30.0</td>\n",
       "      <td>70000.0</td>\n",
       "    </tr>\n",
       "    <tr>\n",
       "      <th>4</th>\n",
       "      <td>Babar</td>\n",
       "      <td>Engineer</td>\n",
       "      <td>F</td>\n",
       "      <td>25.0</td>\n",
       "      <td>1500000.0</td>\n",
       "    </tr>\n",
       "    <tr>\n",
       "      <th>5</th>\n",
       "      <td>Aqsa</td>\n",
       "      <td>Scientist</td>\n",
       "      <td>F</td>\n",
       "      <td>22.0</td>\n",
       "      <td>NaN</td>\n",
       "    </tr>\n",
       "    <tr>\n",
       "      <th>6</th>\n",
       "      <td>Rafia</td>\n",
       "      <td>Analyst</td>\n",
       "      <td>F</td>\n",
       "      <td>29.0</td>\n",
       "      <td>20000.0</td>\n",
       "    </tr>\n",
       "    <tr>\n",
       "      <th>7</th>\n",
       "      <td>Samra</td>\n",
       "      <td>Scientist</td>\n",
       "      <td>F</td>\n",
       "      <td>26.0</td>\n",
       "      <td>115000.0</td>\n",
       "    </tr>\n",
       "    <tr>\n",
       "      <th>8</th>\n",
       "      <td>Eman</td>\n",
       "      <td>Engineer</td>\n",
       "      <td>F</td>\n",
       "      <td>28.0</td>\n",
       "      <td>35000.0</td>\n",
       "    </tr>\n",
       "    <tr>\n",
       "      <th>9</th>\n",
       "      <td>Abdullah</td>\n",
       "      <td>Teacher</td>\n",
       "      <td>M</td>\n",
       "      <td>55.0</td>\n",
       "      <td>NaN</td>\n",
       "    </tr>\n",
       "    <tr>\n",
       "      <th>10</th>\n",
       "      <td>Mosib</td>\n",
       "      <td>professor</td>\n",
       "      <td>M</td>\n",
       "      <td>60.0</td>\n",
       "      <td>70000.0</td>\n",
       "    </tr>\n",
       "    <tr>\n",
       "      <th>11</th>\n",
       "      <td>Ahmed</td>\n",
       "      <td>engineer</td>\n",
       "      <td>M</td>\n",
       "      <td>NaN</td>\n",
       "      <td>90000.0</td>\n",
       "    </tr>\n",
       "    <tr>\n",
       "      <th>12</th>\n",
       "      <td>Ahsan</td>\n",
       "      <td>trainer</td>\n",
       "      <td>M</td>\n",
       "      <td>156.0</td>\n",
       "      <td>110000.0</td>\n",
       "    </tr>\n",
       "    <tr>\n",
       "      <th>13</th>\n",
       "      <td>Wajid</td>\n",
       "      <td>teacher</td>\n",
       "      <td>M</td>\n",
       "      <td>67.0</td>\n",
       "      <td>2000.0</td>\n",
       "    </tr>\n",
       "    <tr>\n",
       "      <th>14</th>\n",
       "      <td>Naeem</td>\n",
       "      <td>trainer</td>\n",
       "      <td>M</td>\n",
       "      <td>80.0</td>\n",
       "      <td>16000.0</td>\n",
       "    </tr>\n",
       "    <tr>\n",
       "      <th>15</th>\n",
       "      <td>Qaisar</td>\n",
       "      <td>professor</td>\n",
       "      <td>M</td>\n",
       "      <td>20.0</td>\n",
       "      <td>170000.0</td>\n",
       "    </tr>\n",
       "    <tr>\n",
       "      <th>16</th>\n",
       "      <td>Wajid</td>\n",
       "      <td>Engineer</td>\n",
       "      <td>M</td>\n",
       "      <td>85.0</td>\n",
       "      <td>190000.0</td>\n",
       "    </tr>\n",
       "  </tbody>\n",
       "</table>\n",
       "</div>"
      ],
      "text/plain": [
       "             Name Designation Gender    Age     Salary\n",
       "0         Mukhtar   Professor      M   37.0   115000.0\n",
       "1           Azziz     Teacher      M   30.0    35000.0\n",
       "2          Mohsin    Engineer      M   29.0    50000.0\n",
       "3   Naveed Fatima     Analyst      F   30.0    70000.0\n",
       "4           Babar    Engineer      F   25.0  1500000.0\n",
       "5            Aqsa   Scientist      F   22.0        NaN\n",
       "6           Rafia     Analyst      F   29.0    20000.0\n",
       "7           Samra   Scientist      F   26.0   115000.0\n",
       "8            Eman    Engineer      F   28.0    35000.0\n",
       "9        Abdullah     Teacher      M   55.0        NaN\n",
       "10          Mosib   professor      M   60.0    70000.0\n",
       "11          Ahmed    engineer      M    NaN    90000.0\n",
       "12          Ahsan     trainer      M  156.0   110000.0\n",
       "13          Wajid     teacher      M   67.0     2000.0\n",
       "14          Naeem     trainer      M   80.0    16000.0\n",
       "15         Qaisar   professor      M   20.0   170000.0\n",
       "16          Wajid    Engineer      M   85.0   190000.0"
      ]
     },
     "execution_count": 7,
     "metadata": {},
     "output_type": "execute_result"
    }
   ],
   "source": [
    "print(\"This is my excel dataset.\")\n",
    "df=pd.read_excel('data.xlsx')\n",
    "df"
   ]
  },
  {
   "cell_type": "markdown",
   "metadata": {},
   "source": [
    "step5:Displaying info about data"
   ]
  },
  {
   "cell_type": "code",
   "execution_count": 8,
   "metadata": {},
   "outputs": [
    {
     "name": "stdout",
     "output_type": "stream",
     "text": [
      "<class 'pandas.core.frame.DataFrame'>\n",
      "RangeIndex: 17 entries, 0 to 16\n",
      "Data columns (total 5 columns):\n",
      " #   Column       Non-Null Count  Dtype  \n",
      "---  ------       --------------  -----  \n",
      " 0   Name         17 non-null     object \n",
      " 1   Designation  17 non-null     object \n",
      " 2   Gender       17 non-null     object \n",
      " 3   Age          16 non-null     float64\n",
      " 4   Salary       15 non-null     float64\n",
      "dtypes: float64(2), object(3)\n",
      "memory usage: 812.0+ bytes\n"
     ]
    }
   ],
   "source": [
    "df.info()"
   ]
  },
  {
   "cell_type": "markdown",
   "metadata": {},
   "source": [
    "step6.load first 5 values"
   ]
  },
  {
   "cell_type": "code",
   "execution_count": 9,
   "metadata": {},
   "outputs": [
    {
     "data": {
      "text/html": [
       "<div>\n",
       "<style scoped>\n",
       "    .dataframe tbody tr th:only-of-type {\n",
       "        vertical-align: middle;\n",
       "    }\n",
       "\n",
       "    .dataframe tbody tr th {\n",
       "        vertical-align: top;\n",
       "    }\n",
       "\n",
       "    .dataframe thead th {\n",
       "        text-align: right;\n",
       "    }\n",
       "</style>\n",
       "<table border=\"1\" class=\"dataframe\">\n",
       "  <thead>\n",
       "    <tr style=\"text-align: right;\">\n",
       "      <th></th>\n",
       "      <th>Name</th>\n",
       "      <th>Designation</th>\n",
       "      <th>Gender</th>\n",
       "      <th>Age</th>\n",
       "      <th>Salary</th>\n",
       "    </tr>\n",
       "  </thead>\n",
       "  <tbody>\n",
       "    <tr>\n",
       "      <th>0</th>\n",
       "      <td>Mukhtar</td>\n",
       "      <td>Professor</td>\n",
       "      <td>M</td>\n",
       "      <td>37.0</td>\n",
       "      <td>115000.0</td>\n",
       "    </tr>\n",
       "    <tr>\n",
       "      <th>1</th>\n",
       "      <td>Azziz</td>\n",
       "      <td>Teacher</td>\n",
       "      <td>M</td>\n",
       "      <td>30.0</td>\n",
       "      <td>35000.0</td>\n",
       "    </tr>\n",
       "    <tr>\n",
       "      <th>2</th>\n",
       "      <td>Mohsin</td>\n",
       "      <td>Engineer</td>\n",
       "      <td>M</td>\n",
       "      <td>29.0</td>\n",
       "      <td>50000.0</td>\n",
       "    </tr>\n",
       "    <tr>\n",
       "      <th>3</th>\n",
       "      <td>Naveed Fatima</td>\n",
       "      <td>Analyst</td>\n",
       "      <td>F</td>\n",
       "      <td>30.0</td>\n",
       "      <td>70000.0</td>\n",
       "    </tr>\n",
       "    <tr>\n",
       "      <th>4</th>\n",
       "      <td>Babar</td>\n",
       "      <td>Engineer</td>\n",
       "      <td>F</td>\n",
       "      <td>25.0</td>\n",
       "      <td>1500000.0</td>\n",
       "    </tr>\n",
       "  </tbody>\n",
       "</table>\n",
       "</div>"
      ],
      "text/plain": [
       "            Name Designation Gender   Age     Salary\n",
       "0        Mukhtar   Professor      M  37.0   115000.0\n",
       "1          Azziz     Teacher      M  30.0    35000.0\n",
       "2         Mohsin    Engineer      M  29.0    50000.0\n",
       "3  Naveed Fatima     Analyst      F  30.0    70000.0\n",
       "4          Babar    Engineer      F  25.0  1500000.0"
      ]
     },
     "execution_count": 9,
     "metadata": {},
     "output_type": "execute_result"
    }
   ],
   "source": [
    "df.head()"
   ]
  },
  {
   "cell_type": "code",
   "execution_count": 10,
   "metadata": {},
   "outputs": [
    {
     "data": {
      "text/html": [
       "<div>\n",
       "<style scoped>\n",
       "    .dataframe tbody tr th:only-of-type {\n",
       "        vertical-align: middle;\n",
       "    }\n",
       "\n",
       "    .dataframe tbody tr th {\n",
       "        vertical-align: top;\n",
       "    }\n",
       "\n",
       "    .dataframe thead th {\n",
       "        text-align: right;\n",
       "    }\n",
       "</style>\n",
       "<table border=\"1\" class=\"dataframe\">\n",
       "  <thead>\n",
       "    <tr style=\"text-align: right;\">\n",
       "      <th></th>\n",
       "      <th>Name</th>\n",
       "      <th>Designation</th>\n",
       "      <th>Gender</th>\n",
       "      <th>Age</th>\n",
       "      <th>Salary</th>\n",
       "    </tr>\n",
       "  </thead>\n",
       "  <tbody>\n",
       "    <tr>\n",
       "      <th>0</th>\n",
       "      <td>Mukhtar</td>\n",
       "      <td>Professor</td>\n",
       "      <td>M</td>\n",
       "      <td>37.0</td>\n",
       "      <td>115000.0</td>\n",
       "    </tr>\n",
       "    <tr>\n",
       "      <th>1</th>\n",
       "      <td>Azziz</td>\n",
       "      <td>Teacher</td>\n",
       "      <td>M</td>\n",
       "      <td>30.0</td>\n",
       "      <td>35000.0</td>\n",
       "    </tr>\n",
       "    <tr>\n",
       "      <th>2</th>\n",
       "      <td>Mohsin</td>\n",
       "      <td>Engineer</td>\n",
       "      <td>M</td>\n",
       "      <td>29.0</td>\n",
       "      <td>50000.0</td>\n",
       "    </tr>\n",
       "    <tr>\n",
       "      <th>3</th>\n",
       "      <td>Naveed Fatima</td>\n",
       "      <td>Analyst</td>\n",
       "      <td>F</td>\n",
       "      <td>30.0</td>\n",
       "      <td>70000.0</td>\n",
       "    </tr>\n",
       "    <tr>\n",
       "      <th>4</th>\n",
       "      <td>Babar</td>\n",
       "      <td>Engineer</td>\n",
       "      <td>F</td>\n",
       "      <td>25.0</td>\n",
       "      <td>1500000.0</td>\n",
       "    </tr>\n",
       "    <tr>\n",
       "      <th>5</th>\n",
       "      <td>Aqsa</td>\n",
       "      <td>Scientist</td>\n",
       "      <td>F</td>\n",
       "      <td>22.0</td>\n",
       "      <td>NaN</td>\n",
       "    </tr>\n",
       "    <tr>\n",
       "      <th>6</th>\n",
       "      <td>Rafia</td>\n",
       "      <td>Analyst</td>\n",
       "      <td>F</td>\n",
       "      <td>29.0</td>\n",
       "      <td>20000.0</td>\n",
       "    </tr>\n",
       "    <tr>\n",
       "      <th>7</th>\n",
       "      <td>Samra</td>\n",
       "      <td>Scientist</td>\n",
       "      <td>F</td>\n",
       "      <td>26.0</td>\n",
       "      <td>115000.0</td>\n",
       "    </tr>\n",
       "    <tr>\n",
       "      <th>8</th>\n",
       "      <td>Eman</td>\n",
       "      <td>Engineer</td>\n",
       "      <td>F</td>\n",
       "      <td>28.0</td>\n",
       "      <td>35000.0</td>\n",
       "    </tr>\n",
       "    <tr>\n",
       "      <th>9</th>\n",
       "      <td>Abdullah</td>\n",
       "      <td>Teacher</td>\n",
       "      <td>M</td>\n",
       "      <td>55.0</td>\n",
       "      <td>NaN</td>\n",
       "    </tr>\n",
       "  </tbody>\n",
       "</table>\n",
       "</div>"
      ],
      "text/plain": [
       "            Name Designation Gender   Age     Salary\n",
       "0        Mukhtar   Professor      M  37.0   115000.0\n",
       "1          Azziz     Teacher      M  30.0    35000.0\n",
       "2         Mohsin    Engineer      M  29.0    50000.0\n",
       "3  Naveed Fatima     Analyst      F  30.0    70000.0\n",
       "4          Babar    Engineer      F  25.0  1500000.0\n",
       "5           Aqsa   Scientist      F  22.0        NaN\n",
       "6          Rafia     Analyst      F  29.0    20000.0\n",
       "7          Samra   Scientist      F  26.0   115000.0\n",
       "8           Eman    Engineer      F  28.0    35000.0\n",
       "9       Abdullah     Teacher      M  55.0        NaN"
      ]
     },
     "execution_count": 10,
     "metadata": {},
     "output_type": "execute_result"
    }
   ],
   "source": [
    "df.head(10)"
   ]
  },
  {
   "cell_type": "code",
   "execution_count": 11,
   "metadata": {},
   "outputs": [
    {
     "data": {
      "text/html": [
       "<div>\n",
       "<style scoped>\n",
       "    .dataframe tbody tr th:only-of-type {\n",
       "        vertical-align: middle;\n",
       "    }\n",
       "\n",
       "    .dataframe tbody tr th {\n",
       "        vertical-align: top;\n",
       "    }\n",
       "\n",
       "    .dataframe thead th {\n",
       "        text-align: right;\n",
       "    }\n",
       "</style>\n",
       "<table border=\"1\" class=\"dataframe\">\n",
       "  <thead>\n",
       "    <tr style=\"text-align: right;\">\n",
       "      <th></th>\n",
       "      <th>Name</th>\n",
       "      <th>Designation</th>\n",
       "      <th>Gender</th>\n",
       "      <th>Age</th>\n",
       "      <th>Salary</th>\n",
       "    </tr>\n",
       "  </thead>\n",
       "  <tbody>\n",
       "    <tr>\n",
       "      <th>12</th>\n",
       "      <td>Ahsan</td>\n",
       "      <td>trainer</td>\n",
       "      <td>M</td>\n",
       "      <td>156.0</td>\n",
       "      <td>110000.0</td>\n",
       "    </tr>\n",
       "    <tr>\n",
       "      <th>13</th>\n",
       "      <td>Wajid</td>\n",
       "      <td>teacher</td>\n",
       "      <td>M</td>\n",
       "      <td>67.0</td>\n",
       "      <td>2000.0</td>\n",
       "    </tr>\n",
       "    <tr>\n",
       "      <th>14</th>\n",
       "      <td>Naeem</td>\n",
       "      <td>trainer</td>\n",
       "      <td>M</td>\n",
       "      <td>80.0</td>\n",
       "      <td>16000.0</td>\n",
       "    </tr>\n",
       "    <tr>\n",
       "      <th>15</th>\n",
       "      <td>Qaisar</td>\n",
       "      <td>professor</td>\n",
       "      <td>M</td>\n",
       "      <td>20.0</td>\n",
       "      <td>170000.0</td>\n",
       "    </tr>\n",
       "    <tr>\n",
       "      <th>16</th>\n",
       "      <td>Wajid</td>\n",
       "      <td>Engineer</td>\n",
       "      <td>M</td>\n",
       "      <td>85.0</td>\n",
       "      <td>190000.0</td>\n",
       "    </tr>\n",
       "  </tbody>\n",
       "</table>\n",
       "</div>"
      ],
      "text/plain": [
       "      Name Designation Gender    Age    Salary\n",
       "12   Ahsan     trainer      M  156.0  110000.0\n",
       "13   Wajid     teacher      M   67.0    2000.0\n",
       "14   Naeem     trainer      M   80.0   16000.0\n",
       "15  Qaisar   professor      M   20.0  170000.0\n",
       "16   Wajid    Engineer      M   85.0  190000.0"
      ]
     },
     "execution_count": 11,
     "metadata": {},
     "output_type": "execute_result"
    }
   ],
   "source": [
    "# displaying last 5 values\n",
    "df.tail()"
   ]
  },
  {
   "cell_type": "code",
   "execution_count": 12,
   "metadata": {},
   "outputs": [
    {
     "data": {
      "text/html": [
       "<div>\n",
       "<style scoped>\n",
       "    .dataframe tbody tr th:only-of-type {\n",
       "        vertical-align: middle;\n",
       "    }\n",
       "\n",
       "    .dataframe tbody tr th {\n",
       "        vertical-align: top;\n",
       "    }\n",
       "\n",
       "    .dataframe thead th {\n",
       "        text-align: right;\n",
       "    }\n",
       "</style>\n",
       "<table border=\"1\" class=\"dataframe\">\n",
       "  <thead>\n",
       "    <tr style=\"text-align: right;\">\n",
       "      <th></th>\n",
       "      <th>Name</th>\n",
       "      <th>Designation</th>\n",
       "      <th>Gender</th>\n",
       "      <th>Age</th>\n",
       "      <th>Salary</th>\n",
       "    </tr>\n",
       "  </thead>\n",
       "  <tbody>\n",
       "    <tr>\n",
       "      <th>15</th>\n",
       "      <td>Qaisar</td>\n",
       "      <td>professor</td>\n",
       "      <td>M</td>\n",
       "      <td>20.0</td>\n",
       "      <td>170000.0</td>\n",
       "    </tr>\n",
       "    <tr>\n",
       "      <th>16</th>\n",
       "      <td>Wajid</td>\n",
       "      <td>Engineer</td>\n",
       "      <td>M</td>\n",
       "      <td>85.0</td>\n",
       "      <td>190000.0</td>\n",
       "    </tr>\n",
       "  </tbody>\n",
       "</table>\n",
       "</div>"
      ],
      "text/plain": [
       "      Name Designation Gender   Age    Salary\n",
       "15  Qaisar   professor      M  20.0  170000.0\n",
       "16   Wajid    Engineer      M  85.0  190000.0"
      ]
     },
     "execution_count": 12,
     "metadata": {},
     "output_type": "execute_result"
    }
   ],
   "source": [
    "# displaying last 2 values\n",
    "df.tail(2)"
   ]
  },
  {
   "cell_type": "code",
   "execution_count": 76,
   "metadata": {},
   "outputs": [
    {
     "data": {
      "text/html": [
       "<div>\n",
       "<style scoped>\n",
       "    .dataframe tbody tr th:only-of-type {\n",
       "        vertical-align: middle;\n",
       "    }\n",
       "\n",
       "    .dataframe tbody tr th {\n",
       "        vertical-align: top;\n",
       "    }\n",
       "\n",
       "    .dataframe thead th {\n",
       "        text-align: right;\n",
       "    }\n",
       "</style>\n",
       "<table border=\"1\" class=\"dataframe\">\n",
       "  <thead>\n",
       "    <tr style=\"text-align: right;\">\n",
       "      <th></th>\n",
       "      <th>Age</th>\n",
       "      <th>Salary</th>\n",
       "    </tr>\n",
       "  </thead>\n",
       "  <tbody>\n",
       "    <tr>\n",
       "      <th>count</th>\n",
       "      <td>15.000000</td>\n",
       "      <td>1.500000e+01</td>\n",
       "    </tr>\n",
       "    <tr>\n",
       "      <th>mean</th>\n",
       "      <td>50.045833</td>\n",
       "      <td>1.725333e+05</td>\n",
       "    </tr>\n",
       "    <tr>\n",
       "      <th>std</th>\n",
       "      <td>36.043318</td>\n",
       "      <td>3.713435e+05</td>\n",
       "    </tr>\n",
       "    <tr>\n",
       "      <th>min</th>\n",
       "      <td>20.000000</td>\n",
       "      <td>2.000000e+03</td>\n",
       "    </tr>\n",
       "    <tr>\n",
       "      <th>25%</th>\n",
       "      <td>28.500000</td>\n",
       "      <td>3.500000e+04</td>\n",
       "    </tr>\n",
       "    <tr>\n",
       "      <th>50%</th>\n",
       "      <td>30.000000</td>\n",
       "      <td>7.000000e+04</td>\n",
       "    </tr>\n",
       "    <tr>\n",
       "      <th>75%</th>\n",
       "      <td>63.500000</td>\n",
       "      <td>1.150000e+05</td>\n",
       "    </tr>\n",
       "    <tr>\n",
       "      <th>max</th>\n",
       "      <td>156.000000</td>\n",
       "      <td>1.500000e+06</td>\n",
       "    </tr>\n",
       "  </tbody>\n",
       "</table>\n",
       "</div>"
      ],
      "text/plain": [
       "              Age        Salary\n",
       "count   15.000000  1.500000e+01\n",
       "mean    50.045833  1.725333e+05\n",
       "std     36.043318  3.713435e+05\n",
       "min     20.000000  2.000000e+03\n",
       "25%     28.500000  3.500000e+04\n",
       "50%     30.000000  7.000000e+04\n",
       "75%     63.500000  1.150000e+05\n",
       "max    156.000000  1.500000e+06"
      ]
     },
     "execution_count": 76,
     "metadata": {},
     "output_type": "execute_result"
    }
   ],
   "source": [
    "#displaying summary about data\n",
    "df.describe()"
   ]
  },
  {
   "cell_type": "code",
   "execution_count": 14,
   "metadata": {},
   "outputs": [
    {
     "data": {
      "text/plain": [
       "Name               Eman\n",
       "Designation    Engineer\n",
       "Gender                F\n",
       "Age                28.0\n",
       "Salary          35000.0\n",
       "Name: 8, dtype: object"
      ]
     },
     "execution_count": 14,
     "metadata": {},
     "output_type": "execute_result"
    }
   ],
   "source": [
    "# displaying  a spcific value\n",
    "df.loc[8]"
   ]
  },
  {
   "cell_type": "code",
   "execution_count": 15,
   "metadata": {},
   "outputs": [
    {
     "data": {
      "text/html": [
       "<div>\n",
       "<style scoped>\n",
       "    .dataframe tbody tr th:only-of-type {\n",
       "        vertical-align: middle;\n",
       "    }\n",
       "\n",
       "    .dataframe tbody tr th {\n",
       "        vertical-align: top;\n",
       "    }\n",
       "\n",
       "    .dataframe thead th {\n",
       "        text-align: right;\n",
       "    }\n",
       "</style>\n",
       "<table border=\"1\" class=\"dataframe\">\n",
       "  <thead>\n",
       "    <tr style=\"text-align: right;\">\n",
       "      <th></th>\n",
       "      <th>Name</th>\n",
       "      <th>Designation</th>\n",
       "      <th>Gender</th>\n",
       "      <th>Age</th>\n",
       "      <th>Salary</th>\n",
       "    </tr>\n",
       "  </thead>\n",
       "  <tbody>\n",
       "    <tr>\n",
       "      <th>8</th>\n",
       "      <td>Eman</td>\n",
       "      <td>Engineer</td>\n",
       "      <td>F</td>\n",
       "      <td>28.0</td>\n",
       "      <td>35000.0</td>\n",
       "    </tr>\n",
       "    <tr>\n",
       "      <th>9</th>\n",
       "      <td>Abdullah</td>\n",
       "      <td>Teacher</td>\n",
       "      <td>M</td>\n",
       "      <td>55.0</td>\n",
       "      <td>NaN</td>\n",
       "    </tr>\n",
       "    <tr>\n",
       "      <th>10</th>\n",
       "      <td>Mosib</td>\n",
       "      <td>professor</td>\n",
       "      <td>M</td>\n",
       "      <td>60.0</td>\n",
       "      <td>70000.0</td>\n",
       "    </tr>\n",
       "    <tr>\n",
       "      <th>11</th>\n",
       "      <td>Ahmed</td>\n",
       "      <td>engineer</td>\n",
       "      <td>M</td>\n",
       "      <td>NaN</td>\n",
       "      <td>90000.0</td>\n",
       "    </tr>\n",
       "    <tr>\n",
       "      <th>12</th>\n",
       "      <td>Ahsan</td>\n",
       "      <td>trainer</td>\n",
       "      <td>M</td>\n",
       "      <td>156.0</td>\n",
       "      <td>110000.0</td>\n",
       "    </tr>\n",
       "  </tbody>\n",
       "</table>\n",
       "</div>"
      ],
      "text/plain": [
       "        Name Designation Gender    Age    Salary\n",
       "8       Eman    Engineer      F   28.0   35000.0\n",
       "9   Abdullah     Teacher      M   55.0       NaN\n",
       "10     Mosib   professor      M   60.0   70000.0\n",
       "11     Ahmed    engineer      M    NaN   90000.0\n",
       "12     Ahsan     trainer      M  156.0  110000.0"
      ]
     },
     "execution_count": 15,
     "metadata": {},
     "output_type": "execute_result"
    }
   ],
   "source": [
    "# displaying  a spcific valued range\n",
    "df.loc[8:12]"
   ]
  },
  {
   "cell_type": "code",
   "execution_count": 16,
   "metadata": {},
   "outputs": [
    {
     "data": {
      "text/plain": [
       "Name           0\n",
       "Designation    0\n",
       "Gender         0\n",
       "Age            1\n",
       "Salary         2\n",
       "dtype: int64"
      ]
     },
     "execution_count": 16,
     "metadata": {},
     "output_type": "execute_result"
    }
   ],
   "source": [
    "# to check null values\n",
    "df.isnull().sum()"
   ]
  },
  {
   "cell_type": "code",
   "execution_count": 17,
   "metadata": {},
   "outputs": [
    {
     "data": {
      "text/plain": [
       "0      37.0\n",
       "1      30.0\n",
       "2      29.0\n",
       "3      30.0\n",
       "4      25.0\n",
       "5      22.0\n",
       "6      29.0\n",
       "7      26.0\n",
       "8      28.0\n",
       "9      55.0\n",
       "10     60.0\n",
       "11      NaN\n",
       "12    156.0\n",
       "13     67.0\n",
       "14     80.0\n",
       "15     20.0\n",
       "16     85.0\n",
       "Name: Age, dtype: float64"
      ]
     },
     "execution_count": 17,
     "metadata": {},
     "output_type": "execute_result"
    }
   ],
   "source": [
    " # to display a specific column or features\n",
    "df['Age']"
   ]
  },
  {
   "cell_type": "code",
   "execution_count": 18,
   "metadata": {},
   "outputs": [
    {
     "data": {
      "text/plain": [
       "np.int64(1)"
      ]
     },
     "execution_count": 18,
     "metadata": {},
     "output_type": "execute_result"
    }
   ],
   "source": [
    "df['Age'].isnull().sum()"
   ]
  },
  {
   "cell_type": "code",
   "execution_count": 19,
   "metadata": {},
   "outputs": [
    {
     "name": "stdout",
     "output_type": "stream",
     "text": [
      "Requirement already satisfied: python-docx in c:\\users\\qurat\\appdata\\local\\programs\\python\\python313\\lib\\site-packages (1.1.2)\n",
      "Requirement already satisfied: lxml>=3.1.0 in c:\\users\\qurat\\appdata\\local\\programs\\python\\python313\\lib\\site-packages (from python-docx) (5.3.1)\n",
      "Requirement already satisfied: typing-extensions>=4.9.0 in c:\\users\\qurat\\appdata\\local\\programs\\python\\python313\\lib\\site-packages (from python-docx) (4.12.2)\n",
      "Note: you may need to restart the kernel to use updated packages.\n"
     ]
    }
   ],
   "source": [
    "%pip install python-docx"
   ]
  },
  {
   "cell_type": "code",
   "execution_count": 20,
   "metadata": {},
   "outputs": [
    {
     "name": "stdout",
     "output_type": "stream",
     "text": [
      "Requirement already satisfied: pymupdf in c:\\users\\qurat\\appdata\\local\\programs\\python\\python313\\lib\\site-packages (1.25.3)\n",
      "Note: you may need to restart the kernel to use updated packages.\n"
     ]
    }
   ],
   "source": [
    "%pip install pymupdf\n"
   ]
  },
  {
   "cell_type": "code",
   "execution_count": 21,
   "metadata": {},
   "outputs": [
    {
     "name": "stdout",
     "output_type": "stream",
     "text": [
      "Tables in Data file: [('table', 'albums', 'albums', 2, 'CREATE TABLE \"albums\"\\r\\n(\\r\\n    [AlbumId] INTEGER PRIMARY KEY AUTOINCREMENT NOT NULL,\\r\\n    [Title] NVARCHAR(160)  NOT NULL,\\r\\n    [ArtistId] INTEGER  NOT NULL,\\r\\n    FOREIGN KEY ([ArtistId]) REFERENCES \"artists\" ([ArtistId]) \\r\\n\\t\\tON DELETE NO ACTION ON UPDATE NO ACTION\\r\\n)'), ('table', 'sqlite_sequence', 'sqlite_sequence', 3, 'CREATE TABLE sqlite_sequence(name,seq)'), ('table', 'artists', 'artists', 4, 'CREATE TABLE \"artists\"\\r\\n(\\r\\n    [ArtistId] INTEGER PRIMARY KEY AUTOINCREMENT NOT NULL,\\r\\n    [Name] NVARCHAR(120)\\r\\n)'), ('table', 'customers', 'customers', 5, 'CREATE TABLE \"customers\"\\r\\n(\\r\\n    [CustomerId] INTEGER PRIMARY KEY AUTOINCREMENT NOT NULL,\\r\\n    [FirstName] NVARCHAR(40)  NOT NULL,\\r\\n    [LastName] NVARCHAR(20)  NOT NULL,\\r\\n    [Company] NVARCHAR(80),\\r\\n    [Address] NVARCHAR(70),\\r\\n    [City] NVARCHAR(40),\\r\\n    [State] NVARCHAR(40),\\r\\n    [Country] NVARCHAR(40),\\r\\n    [PostalCode] NVARCHAR(10),\\r\\n    [Phone] NVARCHAR(24),\\r\\n    [Fax] NVARCHAR(24),\\r\\n    [Email] NVARCHAR(60)  NOT NULL,\\r\\n    [SupportRepId] INTEGER,\\r\\n    FOREIGN KEY ([SupportRepId]) REFERENCES \"employees\" ([EmployeeId]) \\r\\n\\t\\tON DELETE NO ACTION ON UPDATE NO ACTION\\r\\n)'), ('table', 'employees', 'employees', 8, 'CREATE TABLE \"employees\"\\r\\n(\\r\\n    [EmployeeId] INTEGER PRIMARY KEY AUTOINCREMENT NOT NULL,\\r\\n    [LastName] NVARCHAR(20)  NOT NULL,\\r\\n    [FirstName] NVARCHAR(20)  NOT NULL,\\r\\n    [Title] NVARCHAR(30),\\r\\n    [ReportsTo] INTEGER,\\r\\n    [BirthDate] DATETIME,\\r\\n    [HireDate] DATETIME,\\r\\n    [Address] NVARCHAR(70),\\r\\n    [City] NVARCHAR(40),\\r\\n    [State] NVARCHAR(40),\\r\\n    [Country] NVARCHAR(40),\\r\\n    [PostalCode] NVARCHAR(10),\\r\\n    [Phone] NVARCHAR(24),\\r\\n    [Fax] NVARCHAR(24),\\r\\n    [Email] NVARCHAR(60),\\r\\n    FOREIGN KEY ([ReportsTo]) REFERENCES \"employees\" ([EmployeeId]) \\r\\n\\t\\tON DELETE NO ACTION ON UPDATE NO ACTION\\r\\n)'), ('table', 'genres', 'genres', 10, 'CREATE TABLE \"genres\"\\r\\n(\\r\\n    [GenreId] INTEGER PRIMARY KEY AUTOINCREMENT NOT NULL,\\r\\n    [Name] NVARCHAR(120)\\r\\n)'), ('table', 'invoices', 'invoices', 11, 'CREATE TABLE \"invoices\"\\r\\n(\\r\\n    [InvoiceId] INTEGER PRIMARY KEY AUTOINCREMENT NOT NULL,\\r\\n    [CustomerId] INTEGER  NOT NULL,\\r\\n    [InvoiceDate] DATETIME  NOT NULL,\\r\\n    [BillingAddress] NVARCHAR(70),\\r\\n    [BillingCity] NVARCHAR(40),\\r\\n    [BillingState] NVARCHAR(40),\\r\\n    [BillingCountry] NVARCHAR(40),\\r\\n    [BillingPostalCode] NVARCHAR(10),\\r\\n    [Total] NUMERIC(10,2)  NOT NULL,\\r\\n    FOREIGN KEY ([CustomerId]) REFERENCES \"customers\" ([CustomerId]) \\r\\n\\t\\tON DELETE NO ACTION ON UPDATE NO ACTION\\r\\n)'), ('table', 'invoice_items', 'invoice_items', 13, 'CREATE TABLE \"invoice_items\"\\r\\n(\\r\\n    [InvoiceLineId] INTEGER PRIMARY KEY AUTOINCREMENT NOT NULL,\\r\\n    [InvoiceId] INTEGER  NOT NULL,\\r\\n    [TrackId] INTEGER  NOT NULL,\\r\\n    [UnitPrice] NUMERIC(10,2)  NOT NULL,\\r\\n    [Quantity] INTEGER  NOT NULL,\\r\\n    FOREIGN KEY ([InvoiceId]) REFERENCES \"invoices\" ([InvoiceId]) \\r\\n\\t\\tON DELETE NO ACTION ON UPDATE NO ACTION,\\r\\n    FOREIGN KEY ([TrackId]) REFERENCES \"tracks\" ([TrackId]) \\r\\n\\t\\tON DELETE NO ACTION ON UPDATE NO ACTION\\r\\n)'), ('table', 'media_types', 'media_types', 15, 'CREATE TABLE \"media_types\"\\r\\n(\\r\\n    [MediaTypeId] INTEGER PRIMARY KEY AUTOINCREMENT NOT NULL,\\r\\n    [Name] NVARCHAR(120)\\r\\n)'), ('table', 'playlists', 'playlists', 16, 'CREATE TABLE \"playlists\"\\r\\n(\\r\\n    [PlaylistId] INTEGER PRIMARY KEY AUTOINCREMENT NOT NULL,\\r\\n    [Name] NVARCHAR(120)\\r\\n)'), ('table', 'playlist_track', 'playlist_track', 17, 'CREATE TABLE \"playlist_track\"\\r\\n(\\r\\n    [PlaylistId] INTEGER  NOT NULL,\\r\\n    [TrackId] INTEGER  NOT NULL,\\r\\n    CONSTRAINT [PK_PlaylistTrack] PRIMARY KEY  ([PlaylistId], [TrackId]),\\r\\n    FOREIGN KEY ([PlaylistId]) REFERENCES \"playlists\" ([PlaylistId]) \\r\\n\\t\\tON DELETE NO ACTION ON UPDATE NO ACTION,\\r\\n    FOREIGN KEY ([TrackId]) REFERENCES \"tracks\" ([TrackId]) \\r\\n\\t\\tON DELETE NO ACTION ON UPDATE NO ACTION\\r\\n)'), ('table', 'tracks', 'tracks', 20, 'CREATE TABLE \"tracks\"\\r\\n(\\r\\n    [TrackId] INTEGER PRIMARY KEY AUTOINCREMENT NOT NULL,\\r\\n    [Name] NVARCHAR(200)  NOT NULL,\\r\\n    [AlbumId] INTEGER,\\r\\n    [MediaTypeId] INTEGER  NOT NULL,\\r\\n    [GenreId] INTEGER,\\r\\n    [Composer] NVARCHAR(220),\\r\\n    [Milliseconds] INTEGER  NOT NULL,\\r\\n    [Bytes] INTEGER,\\r\\n    [UnitPrice] NUMERIC(10,2)  NOT NULL,\\r\\n    FOREIGN KEY ([AlbumId]) REFERENCES \"albums\" ([AlbumId]) \\r\\n\\t\\tON DELETE NO ACTION ON UPDATE NO ACTION,\\r\\n    FOREIGN KEY ([GenreId]) REFERENCES \"genres\" ([GenreId]) \\r\\n\\t\\tON DELETE NO ACTION ON UPDATE NO ACTION,\\r\\n    FOREIGN KEY ([MediaTypeId]) REFERENCES \"media_types\" ([MediaTypeId]) \\r\\n\\t\\tON DELETE NO ACTION ON UPDATE NO ACTION\\r\\n)'), ('table', 'sqlite_stat1', 'sqlite_stat1', 864, 'CREATE TABLE sqlite_stat1(tbl,idx,stat)')]\n",
      "(1, 'Luís', 'Gonçalves', 'Embraer - Empresa Brasileira de Aeronáutica S.A.', 'Av. Brigadeiro Faria Lima, 2170', 'São José dos Campos', 'SP', 'Brazil', '12227-000', '+55 (12) 3923-5555', '+55 (12) 3923-5566', 'luisg@embraer.com.br', 3)\n",
      "(2, 'Leonie', 'Köhler', None, 'Theodor-Heuss-Straße 34', 'Stuttgart', None, 'Germany', '70174', '+49 0711 2842222', None, 'leonekohler@surfeu.de', 5)\n",
      "(3, 'François', 'Tremblay', None, '1498 rue Bélanger', 'Montréal', 'QC', 'Canada', 'H2G 1A7', '+1 (514) 721-4711', None, 'ftremblay@gmail.com', 3)\n",
      "(4, 'Bjørn', 'Hansen', None, 'Ullevålsveien 14', 'Oslo', None, 'Norway', '0171', '+47 22 44 22 22', None, 'bjorn.hansen@yahoo.no', 4)\n"
     ]
    }
   ],
   "source": [
    "# This is data from sql file\n",
    "import sqlite3\n",
    "conn = sqlite3.connect(\"data.db\")\n",
    "cursor = conn.cursor()\n",
    "cursor.execute(\"SELECT* FROM sqlite_master WHERE type='table';\")\n",
    "tables = cursor.fetchall()\n",
    "print(\"Tables in Data file:\" , tables)\n",
    "cursor.execute(\"SELECT * FROM customers LIMIT 4;\")\n",
    "customers = cursor.fetchall()\n",
    "for customer in customers:\n",
    "    print(customer)\n",
    "\n",
    "conn.close()"
   ]
  },
  {
   "cell_type": "code",
   "execution_count": 22,
   "metadata": {},
   "outputs": [
    {
     "name": "stdout",
     "output_type": "stream",
     "text": [
      "Requirement already satisfied: openpyxl in c:\\users\\qurat\\appdata\\local\\programs\\python\\python313\\lib\\site-packages (3.1.5)\n",
      "Requirement already satisfied: et-xmlfile in c:\\users\\qurat\\appdata\\local\\programs\\python\\python313\\lib\\site-packages (from openpyxl) (2.0.0)\n",
      "Note: you may need to restart the kernel to use updated packages.\n"
     ]
    }
   ],
   "source": [
    "#install excel library\n",
    "%pip install openpyxl"
   ]
  },
  {
   "cell_type": "code",
   "execution_count": 23,
   "metadata": {},
   "outputs": [
    {
     "name": "stdout",
     "output_type": "stream",
     "text": [
      "Preview the dataset using print function\n",
      "             Name Designation Gender    Age     Salary\n",
      "0         Mukhtar   Professor      M   37.0   115000.0\n",
      "1           Azziz     Teacher      M   30.0    35000.0\n",
      "2          Mohsin    Engineer      M   29.0    50000.0\n",
      "3   Naveed Fatima     Analyst      F   30.0    70000.0\n",
      "4           Babar    Engineer      F   25.0  1500000.0\n",
      "5            Aqsa   Scientist      F   22.0        NaN\n",
      "6           Rafia     Analyst      F   29.0    20000.0\n",
      "7           Samra   Scientist      F   26.0   115000.0\n",
      "8            Eman    Engineer      F   28.0    35000.0\n",
      "9        Abdullah     Teacher      M   55.0        NaN\n",
      "10          Mosib   professor      M   60.0    70000.0\n",
      "11          Ahmed    engineer      M    NaN    90000.0\n",
      "12          Ahsan     trainer      M  156.0   110000.0\n",
      "13          Wajid     teacher      M   67.0     2000.0\n",
      "14          Naeem     trainer      M   80.0    16000.0\n",
      "15         Qaisar   professor      M   20.0   170000.0\n",
      "16          Wajid    Engineer      M   85.0   190000.0\n"
     ]
    }
   ],
   "source": [
    "# print excel file\n",
    "print('Preview the dataset using print function')\n",
    "pd.read_excel('data.xlsx')\n",
    "df= pd.read_excel('data.xlsx')\n",
    "print(df)"
   ]
  },
  {
   "cell_type": "code",
   "execution_count": 24,
   "metadata": {},
   "outputs": [
    {
     "data": {
      "text/html": [
       "<div>\n",
       "<style scoped>\n",
       "    .dataframe tbody tr th:only-of-type {\n",
       "        vertical-align: middle;\n",
       "    }\n",
       "\n",
       "    .dataframe tbody tr th {\n",
       "        vertical-align: top;\n",
       "    }\n",
       "\n",
       "    .dataframe thead th {\n",
       "        text-align: right;\n",
       "    }\n",
       "</style>\n",
       "<table border=\"1\" class=\"dataframe\">\n",
       "  <thead>\n",
       "    <tr style=\"text-align: right;\">\n",
       "      <th></th>\n",
       "      <th>Name</th>\n",
       "      <th>Designation</th>\n",
       "      <th>Gender</th>\n",
       "      <th>Age</th>\n",
       "      <th>Salary</th>\n",
       "    </tr>\n",
       "  </thead>\n",
       "  <tbody>\n",
       "    <tr>\n",
       "      <th>0</th>\n",
       "      <td>Mukhtar</td>\n",
       "      <td>Professor</td>\n",
       "      <td>M</td>\n",
       "      <td>37.0</td>\n",
       "      <td>115000.0</td>\n",
       "    </tr>\n",
       "    <tr>\n",
       "      <th>1</th>\n",
       "      <td>Azziz</td>\n",
       "      <td>Teacher</td>\n",
       "      <td>M</td>\n",
       "      <td>30.0</td>\n",
       "      <td>35000.0</td>\n",
       "    </tr>\n",
       "    <tr>\n",
       "      <th>2</th>\n",
       "      <td>Mohsin</td>\n",
       "      <td>Engineer</td>\n",
       "      <td>M</td>\n",
       "      <td>29.0</td>\n",
       "      <td>50000.0</td>\n",
       "    </tr>\n",
       "    <tr>\n",
       "      <th>3</th>\n",
       "      <td>Naveed Fatima</td>\n",
       "      <td>Analyst</td>\n",
       "      <td>F</td>\n",
       "      <td>30.0</td>\n",
       "      <td>70000.0</td>\n",
       "    </tr>\n",
       "    <tr>\n",
       "      <th>4</th>\n",
       "      <td>Babar</td>\n",
       "      <td>Engineer</td>\n",
       "      <td>F</td>\n",
       "      <td>25.0</td>\n",
       "      <td>1500000.0</td>\n",
       "    </tr>\n",
       "  </tbody>\n",
       "</table>\n",
       "</div>"
      ],
      "text/plain": [
       "            Name Designation Gender   Age     Salary\n",
       "0        Mukhtar   Professor      M  37.0   115000.0\n",
       "1          Azziz     Teacher      M  30.0    35000.0\n",
       "2         Mohsin    Engineer      M  29.0    50000.0\n",
       "3  Naveed Fatima     Analyst      F  30.0    70000.0\n",
       "4          Babar    Engineer      F  25.0  1500000.0"
      ]
     },
     "execution_count": 24,
     "metadata": {},
     "output_type": "execute_result"
    }
   ],
   "source": [
    "# display first 5 rows\n",
    "df.head()"
   ]
  },
  {
   "cell_type": "code",
   "execution_count": 25,
   "metadata": {},
   "outputs": [
    {
     "data": {
      "text/html": [
       "<div>\n",
       "<style scoped>\n",
       "    .dataframe tbody tr th:only-of-type {\n",
       "        vertical-align: middle;\n",
       "    }\n",
       "\n",
       "    .dataframe tbody tr th {\n",
       "        vertical-align: top;\n",
       "    }\n",
       "\n",
       "    .dataframe thead th {\n",
       "        text-align: right;\n",
       "    }\n",
       "</style>\n",
       "<table border=\"1\" class=\"dataframe\">\n",
       "  <thead>\n",
       "    <tr style=\"text-align: right;\">\n",
       "      <th></th>\n",
       "      <th>Name</th>\n",
       "      <th>Designation</th>\n",
       "      <th>Gender</th>\n",
       "      <th>Age</th>\n",
       "      <th>Salary</th>\n",
       "    </tr>\n",
       "  </thead>\n",
       "  <tbody>\n",
       "    <tr>\n",
       "      <th>0</th>\n",
       "      <td>Mukhtar</td>\n",
       "      <td>Professor</td>\n",
       "      <td>M</td>\n",
       "      <td>37.0</td>\n",
       "      <td>115000.0</td>\n",
       "    </tr>\n",
       "    <tr>\n",
       "      <th>1</th>\n",
       "      <td>Azziz</td>\n",
       "      <td>Teacher</td>\n",
       "      <td>M</td>\n",
       "      <td>30.0</td>\n",
       "      <td>35000.0</td>\n",
       "    </tr>\n",
       "    <tr>\n",
       "      <th>2</th>\n",
       "      <td>Mohsin</td>\n",
       "      <td>Engineer</td>\n",
       "      <td>M</td>\n",
       "      <td>29.0</td>\n",
       "      <td>50000.0</td>\n",
       "    </tr>\n",
       "    <tr>\n",
       "      <th>3</th>\n",
       "      <td>Naveed Fatima</td>\n",
       "      <td>Analyst</td>\n",
       "      <td>F</td>\n",
       "      <td>30.0</td>\n",
       "      <td>70000.0</td>\n",
       "    </tr>\n",
       "    <tr>\n",
       "      <th>4</th>\n",
       "      <td>Babar</td>\n",
       "      <td>Engineer</td>\n",
       "      <td>F</td>\n",
       "      <td>25.0</td>\n",
       "      <td>1500000.0</td>\n",
       "    </tr>\n",
       "    <tr>\n",
       "      <th>5</th>\n",
       "      <td>Aqsa</td>\n",
       "      <td>Scientist</td>\n",
       "      <td>F</td>\n",
       "      <td>22.0</td>\n",
       "      <td>NaN</td>\n",
       "    </tr>\n",
       "    <tr>\n",
       "      <th>6</th>\n",
       "      <td>Rafia</td>\n",
       "      <td>Analyst</td>\n",
       "      <td>F</td>\n",
       "      <td>29.0</td>\n",
       "      <td>20000.0</td>\n",
       "    </tr>\n",
       "    <tr>\n",
       "      <th>7</th>\n",
       "      <td>Samra</td>\n",
       "      <td>Scientist</td>\n",
       "      <td>F</td>\n",
       "      <td>26.0</td>\n",
       "      <td>115000.0</td>\n",
       "    </tr>\n",
       "    <tr>\n",
       "      <th>8</th>\n",
       "      <td>Eman</td>\n",
       "      <td>Engineer</td>\n",
       "      <td>F</td>\n",
       "      <td>28.0</td>\n",
       "      <td>35000.0</td>\n",
       "    </tr>\n",
       "    <tr>\n",
       "      <th>9</th>\n",
       "      <td>Abdullah</td>\n",
       "      <td>Teacher</td>\n",
       "      <td>M</td>\n",
       "      <td>55.0</td>\n",
       "      <td>NaN</td>\n",
       "    </tr>\n",
       "  </tbody>\n",
       "</table>\n",
       "</div>"
      ],
      "text/plain": [
       "            Name Designation Gender   Age     Salary\n",
       "0        Mukhtar   Professor      M  37.0   115000.0\n",
       "1          Azziz     Teacher      M  30.0    35000.0\n",
       "2         Mohsin    Engineer      M  29.0    50000.0\n",
       "3  Naveed Fatima     Analyst      F  30.0    70000.0\n",
       "4          Babar    Engineer      F  25.0  1500000.0\n",
       "5           Aqsa   Scientist      F  22.0        NaN\n",
       "6          Rafia     Analyst      F  29.0    20000.0\n",
       "7          Samra   Scientist      F  26.0   115000.0\n",
       "8           Eman    Engineer      F  28.0    35000.0\n",
       "9       Abdullah     Teacher      M  55.0        NaN"
      ]
     },
     "execution_count": 25,
     "metadata": {},
     "output_type": "execute_result"
    }
   ],
   "source": [
    "# display top 10 rows\n",
    "df.head(10)"
   ]
  },
  {
   "cell_type": "code",
   "execution_count": 26,
   "metadata": {},
   "outputs": [
    {
     "data": {
      "text/html": [
       "<div>\n",
       "<style scoped>\n",
       "    .dataframe tbody tr th:only-of-type {\n",
       "        vertical-align: middle;\n",
       "    }\n",
       "\n",
       "    .dataframe tbody tr th {\n",
       "        vertical-align: top;\n",
       "    }\n",
       "\n",
       "    .dataframe thead th {\n",
       "        text-align: right;\n",
       "    }\n",
       "</style>\n",
       "<table border=\"1\" class=\"dataframe\">\n",
       "  <thead>\n",
       "    <tr style=\"text-align: right;\">\n",
       "      <th></th>\n",
       "      <th>Name</th>\n",
       "      <th>Designation</th>\n",
       "      <th>Gender</th>\n",
       "      <th>Age</th>\n",
       "      <th>Salary</th>\n",
       "    </tr>\n",
       "  </thead>\n",
       "  <tbody>\n",
       "    <tr>\n",
       "      <th>0</th>\n",
       "      <td>Mukhtar</td>\n",
       "      <td>Professor</td>\n",
       "      <td>M</td>\n",
       "      <td>37.0</td>\n",
       "      <td>115000.0</td>\n",
       "    </tr>\n",
       "    <tr>\n",
       "      <th>1</th>\n",
       "      <td>Azziz</td>\n",
       "      <td>Teacher</td>\n",
       "      <td>M</td>\n",
       "      <td>30.0</td>\n",
       "      <td>35000.0</td>\n",
       "    </tr>\n",
       "    <tr>\n",
       "      <th>2</th>\n",
       "      <td>Mohsin</td>\n",
       "      <td>Engineer</td>\n",
       "      <td>M</td>\n",
       "      <td>29.0</td>\n",
       "      <td>50000.0</td>\n",
       "    </tr>\n",
       "  </tbody>\n",
       "</table>\n",
       "</div>"
      ],
      "text/plain": [
       "      Name Designation Gender   Age    Salary\n",
       "0  Mukhtar   Professor      M  37.0  115000.0\n",
       "1    Azziz     Teacher      M  30.0   35000.0\n",
       "2   Mohsin    Engineer      M  29.0   50000.0"
      ]
     },
     "execution_count": 26,
     "metadata": {},
     "output_type": "execute_result"
    }
   ],
   "source": [
    "df.head(3)"
   ]
  },
  {
   "cell_type": "code",
   "execution_count": 27,
   "metadata": {},
   "outputs": [
    {
     "data": {
      "text/html": [
       "<div>\n",
       "<style scoped>\n",
       "    .dataframe tbody tr th:only-of-type {\n",
       "        vertical-align: middle;\n",
       "    }\n",
       "\n",
       "    .dataframe tbody tr th {\n",
       "        vertical-align: top;\n",
       "    }\n",
       "\n",
       "    .dataframe thead th {\n",
       "        text-align: right;\n",
       "    }\n",
       "</style>\n",
       "<table border=\"1\" class=\"dataframe\">\n",
       "  <thead>\n",
       "    <tr style=\"text-align: right;\">\n",
       "      <th></th>\n",
       "      <th>Name</th>\n",
       "      <th>Designation</th>\n",
       "      <th>Gender</th>\n",
       "      <th>Age</th>\n",
       "      <th>Salary</th>\n",
       "    </tr>\n",
       "  </thead>\n",
       "  <tbody>\n",
       "    <tr>\n",
       "      <th>12</th>\n",
       "      <td>Ahsan</td>\n",
       "      <td>trainer</td>\n",
       "      <td>M</td>\n",
       "      <td>156.0</td>\n",
       "      <td>110000.0</td>\n",
       "    </tr>\n",
       "    <tr>\n",
       "      <th>13</th>\n",
       "      <td>Wajid</td>\n",
       "      <td>teacher</td>\n",
       "      <td>M</td>\n",
       "      <td>67.0</td>\n",
       "      <td>2000.0</td>\n",
       "    </tr>\n",
       "    <tr>\n",
       "      <th>14</th>\n",
       "      <td>Naeem</td>\n",
       "      <td>trainer</td>\n",
       "      <td>M</td>\n",
       "      <td>80.0</td>\n",
       "      <td>16000.0</td>\n",
       "    </tr>\n",
       "    <tr>\n",
       "      <th>15</th>\n",
       "      <td>Qaisar</td>\n",
       "      <td>professor</td>\n",
       "      <td>M</td>\n",
       "      <td>20.0</td>\n",
       "      <td>170000.0</td>\n",
       "    </tr>\n",
       "    <tr>\n",
       "      <th>16</th>\n",
       "      <td>Wajid</td>\n",
       "      <td>Engineer</td>\n",
       "      <td>M</td>\n",
       "      <td>85.0</td>\n",
       "      <td>190000.0</td>\n",
       "    </tr>\n",
       "  </tbody>\n",
       "</table>\n",
       "</div>"
      ],
      "text/plain": [
       "      Name Designation Gender    Age    Salary\n",
       "12   Ahsan     trainer      M  156.0  110000.0\n",
       "13   Wajid     teacher      M   67.0    2000.0\n",
       "14   Naeem     trainer      M   80.0   16000.0\n",
       "15  Qaisar   professor      M   20.0  170000.0\n",
       "16   Wajid    Engineer      M   85.0  190000.0"
      ]
     },
     "execution_count": 27,
     "metadata": {},
     "output_type": "execute_result"
    }
   ],
   "source": [
    "# display bottom rows\n",
    "df.tail()"
   ]
  },
  {
   "cell_type": "code",
   "execution_count": 28,
   "metadata": {},
   "outputs": [
    {
     "data": {
      "text/html": [
       "<div>\n",
       "<style scoped>\n",
       "    .dataframe tbody tr th:only-of-type {\n",
       "        vertical-align: middle;\n",
       "    }\n",
       "\n",
       "    .dataframe tbody tr th {\n",
       "        vertical-align: top;\n",
       "    }\n",
       "\n",
       "    .dataframe thead th {\n",
       "        text-align: right;\n",
       "    }\n",
       "</style>\n",
       "<table border=\"1\" class=\"dataframe\">\n",
       "  <thead>\n",
       "    <tr style=\"text-align: right;\">\n",
       "      <th></th>\n",
       "      <th>Name</th>\n",
       "      <th>Designation</th>\n",
       "      <th>Gender</th>\n",
       "      <th>Age</th>\n",
       "      <th>Salary</th>\n",
       "    </tr>\n",
       "  </thead>\n",
       "  <tbody>\n",
       "    <tr>\n",
       "      <th>16</th>\n",
       "      <td>Wajid</td>\n",
       "      <td>Engineer</td>\n",
       "      <td>M</td>\n",
       "      <td>85.0</td>\n",
       "      <td>190000.0</td>\n",
       "    </tr>\n",
       "  </tbody>\n",
       "</table>\n",
       "</div>"
      ],
      "text/plain": [
       "     Name Designation Gender   Age    Salary\n",
       "16  Wajid    Engineer      M  85.0  190000.0"
      ]
     },
     "execution_count": 28,
     "metadata": {},
     "output_type": "execute_result"
    }
   ],
   "source": [
    "#display last one value\n",
    "df.tail(1)"
   ]
  },
  {
   "cell_type": "code",
   "execution_count": 29,
   "metadata": {},
   "outputs": [
    {
     "data": {
      "text/html": [
       "<div>\n",
       "<style scoped>\n",
       "    .dataframe tbody tr th:only-of-type {\n",
       "        vertical-align: middle;\n",
       "    }\n",
       "\n",
       "    .dataframe tbody tr th {\n",
       "        vertical-align: top;\n",
       "    }\n",
       "\n",
       "    .dataframe thead th {\n",
       "        text-align: right;\n",
       "    }\n",
       "</style>\n",
       "<table border=\"1\" class=\"dataframe\">\n",
       "  <thead>\n",
       "    <tr style=\"text-align: right;\">\n",
       "      <th></th>\n",
       "      <th>Name</th>\n",
       "      <th>Designation</th>\n",
       "      <th>Gender</th>\n",
       "      <th>Age</th>\n",
       "      <th>Salary</th>\n",
       "    </tr>\n",
       "  </thead>\n",
       "  <tbody>\n",
       "    <tr>\n",
       "      <th>8</th>\n",
       "      <td>Eman</td>\n",
       "      <td>Engineer</td>\n",
       "      <td>F</td>\n",
       "      <td>28.0</td>\n",
       "      <td>35000.0</td>\n",
       "    </tr>\n",
       "    <tr>\n",
       "      <th>9</th>\n",
       "      <td>Abdullah</td>\n",
       "      <td>Teacher</td>\n",
       "      <td>M</td>\n",
       "      <td>55.0</td>\n",
       "      <td>NaN</td>\n",
       "    </tr>\n",
       "  </tbody>\n",
       "</table>\n",
       "</div>"
      ],
      "text/plain": [
       "       Name Designation Gender   Age   Salary\n",
       "8      Eman    Engineer      F  28.0  35000.0\n",
       "9  Abdullah     Teacher      M  55.0      NaN"
      ]
     },
     "execution_count": 29,
     "metadata": {},
     "output_type": "execute_result"
    }
   ],
   "source": [
    "#display mid rows\n",
    "df.loc[8:9]"
   ]
  },
  {
   "cell_type": "code",
   "execution_count": 30,
   "metadata": {},
   "outputs": [
    {
     "data": {
      "text/html": [
       "<div>\n",
       "<style scoped>\n",
       "    .dataframe tbody tr th:only-of-type {\n",
       "        vertical-align: middle;\n",
       "    }\n",
       "\n",
       "    .dataframe tbody tr th {\n",
       "        vertical-align: top;\n",
       "    }\n",
       "\n",
       "    .dataframe thead th {\n",
       "        text-align: right;\n",
       "    }\n",
       "</style>\n",
       "<table border=\"1\" class=\"dataframe\">\n",
       "  <thead>\n",
       "    <tr style=\"text-align: right;\">\n",
       "      <th></th>\n",
       "      <th>Age</th>\n",
       "      <th>Salary</th>\n",
       "    </tr>\n",
       "  </thead>\n",
       "  <tbody>\n",
       "    <tr>\n",
       "      <th>count</th>\n",
       "      <td>16.00000</td>\n",
       "      <td>1.500000e+01</td>\n",
       "    </tr>\n",
       "    <tr>\n",
       "      <th>mean</th>\n",
       "      <td>48.68750</td>\n",
       "      <td>1.725333e+05</td>\n",
       "    </tr>\n",
       "    <tr>\n",
       "      <th>std</th>\n",
       "      <td>35.55975</td>\n",
       "      <td>3.713435e+05</td>\n",
       "    </tr>\n",
       "    <tr>\n",
       "      <th>min</th>\n",
       "      <td>20.00000</td>\n",
       "      <td>2.000000e+03</td>\n",
       "    </tr>\n",
       "    <tr>\n",
       "      <th>25%</th>\n",
       "      <td>27.50000</td>\n",
       "      <td>3.500000e+04</td>\n",
       "    </tr>\n",
       "    <tr>\n",
       "      <th>50%</th>\n",
       "      <td>30.00000</td>\n",
       "      <td>7.000000e+04</td>\n",
       "    </tr>\n",
       "    <tr>\n",
       "      <th>75%</th>\n",
       "      <td>61.75000</td>\n",
       "      <td>1.150000e+05</td>\n",
       "    </tr>\n",
       "    <tr>\n",
       "      <th>max</th>\n",
       "      <td>156.00000</td>\n",
       "      <td>1.500000e+06</td>\n",
       "    </tr>\n",
       "  </tbody>\n",
       "</table>\n",
       "</div>"
      ],
      "text/plain": [
       "             Age        Salary\n",
       "count   16.00000  1.500000e+01\n",
       "mean    48.68750  1.725333e+05\n",
       "std     35.55975  3.713435e+05\n",
       "min     20.00000  2.000000e+03\n",
       "25%     27.50000  3.500000e+04\n",
       "50%     30.00000  7.000000e+04\n",
       "75%     61.75000  1.150000e+05\n",
       "max    156.00000  1.500000e+06"
      ]
     },
     "execution_count": 30,
     "metadata": {},
     "output_type": "execute_result"
    }
   ],
   "source": [
    "#summary of data\n",
    "df.describe()"
   ]
  },
  {
   "cell_type": "code",
   "execution_count": 31,
   "metadata": {},
   "outputs": [
    {
     "data": {
      "text/plain": [
       "(17, 5)"
      ]
     },
     "execution_count": 31,
     "metadata": {},
     "output_type": "execute_result"
    }
   ],
   "source": [
    "# display rows and columns\n",
    "df.shape"
   ]
  },
  {
   "cell_type": "code",
   "execution_count": 32,
   "metadata": {},
   "outputs": [
    {
     "data": {
      "text/plain": [
       "0     Professor\n",
       "1       Teacher\n",
       "2      Engineer\n",
       "3       Analyst\n",
       "4      Engineer\n",
       "5     Scientist\n",
       "6       Analyst\n",
       "7     Scientist\n",
       "8      Engineer\n",
       "9       Teacher\n",
       "10    professor\n",
       "11     engineer\n",
       "12      trainer\n",
       "13      teacher\n",
       "14      trainer\n",
       "15    professor\n",
       "16     Engineer\n",
       "Name: Designation, dtype: object"
      ]
     },
     "execution_count": 32,
     "metadata": {},
     "output_type": "execute_result"
    }
   ],
   "source": [
    "#display value of column designation\n",
    "df['Designation']"
   ]
  },
  {
   "cell_type": "code",
   "execution_count": 33,
   "metadata": {},
   "outputs": [
    {
     "data": {
      "text/plain": [
       "Name             Azziz\n",
       "Designation    Teacher\n",
       "Gender               M\n",
       "Age               30.0\n",
       "Salary         35000.0\n",
       "Name: 1, dtype: object"
      ]
     },
     "execution_count": 33,
     "metadata": {},
     "output_type": "execute_result"
    }
   ],
   "source": [
    "#display value of index 1\n",
    "df.loc[1]"
   ]
  },
  {
   "cell_type": "code",
   "execution_count": 34,
   "metadata": {},
   "outputs": [
    {
     "data": {
      "text/html": [
       "<div>\n",
       "<style scoped>\n",
       "    .dataframe tbody tr th:only-of-type {\n",
       "        vertical-align: middle;\n",
       "    }\n",
       "\n",
       "    .dataframe tbody tr th {\n",
       "        vertical-align: top;\n",
       "    }\n",
       "\n",
       "    .dataframe thead th {\n",
       "        text-align: right;\n",
       "    }\n",
       "</style>\n",
       "<table border=\"1\" class=\"dataframe\">\n",
       "  <thead>\n",
       "    <tr style=\"text-align: right;\">\n",
       "      <th></th>\n",
       "      <th>Name</th>\n",
       "      <th>Designation</th>\n",
       "    </tr>\n",
       "  </thead>\n",
       "  <tbody>\n",
       "    <tr>\n",
       "      <th>0</th>\n",
       "      <td>Mukhtar</td>\n",
       "      <td>Professor</td>\n",
       "    </tr>\n",
       "    <tr>\n",
       "      <th>1</th>\n",
       "      <td>Azziz</td>\n",
       "      <td>Teacher</td>\n",
       "    </tr>\n",
       "    <tr>\n",
       "      <th>2</th>\n",
       "      <td>Mohsin</td>\n",
       "      <td>Engineer</td>\n",
       "    </tr>\n",
       "    <tr>\n",
       "      <th>3</th>\n",
       "      <td>Naveed Fatima</td>\n",
       "      <td>Analyst</td>\n",
       "    </tr>\n",
       "    <tr>\n",
       "      <th>4</th>\n",
       "      <td>Babar</td>\n",
       "      <td>Engineer</td>\n",
       "    </tr>\n",
       "    <tr>\n",
       "      <th>5</th>\n",
       "      <td>Aqsa</td>\n",
       "      <td>Scientist</td>\n",
       "    </tr>\n",
       "    <tr>\n",
       "      <th>6</th>\n",
       "      <td>Rafia</td>\n",
       "      <td>Analyst</td>\n",
       "    </tr>\n",
       "    <tr>\n",
       "      <th>7</th>\n",
       "      <td>Samra</td>\n",
       "      <td>Scientist</td>\n",
       "    </tr>\n",
       "    <tr>\n",
       "      <th>8</th>\n",
       "      <td>Eman</td>\n",
       "      <td>Engineer</td>\n",
       "    </tr>\n",
       "    <tr>\n",
       "      <th>9</th>\n",
       "      <td>Abdullah</td>\n",
       "      <td>Teacher</td>\n",
       "    </tr>\n",
       "    <tr>\n",
       "      <th>10</th>\n",
       "      <td>Mosib</td>\n",
       "      <td>professor</td>\n",
       "    </tr>\n",
       "    <tr>\n",
       "      <th>11</th>\n",
       "      <td>Ahmed</td>\n",
       "      <td>engineer</td>\n",
       "    </tr>\n",
       "    <tr>\n",
       "      <th>12</th>\n",
       "      <td>Ahsan</td>\n",
       "      <td>trainer</td>\n",
       "    </tr>\n",
       "    <tr>\n",
       "      <th>13</th>\n",
       "      <td>Wajid</td>\n",
       "      <td>teacher</td>\n",
       "    </tr>\n",
       "    <tr>\n",
       "      <th>14</th>\n",
       "      <td>Naeem</td>\n",
       "      <td>trainer</td>\n",
       "    </tr>\n",
       "    <tr>\n",
       "      <th>15</th>\n",
       "      <td>Qaisar</td>\n",
       "      <td>professor</td>\n",
       "    </tr>\n",
       "    <tr>\n",
       "      <th>16</th>\n",
       "      <td>Wajid</td>\n",
       "      <td>Engineer</td>\n",
       "    </tr>\n",
       "  </tbody>\n",
       "</table>\n",
       "</div>"
      ],
      "text/plain": [
       "             Name Designation\n",
       "0         Mukhtar   Professor\n",
       "1           Azziz     Teacher\n",
       "2          Mohsin    Engineer\n",
       "3   Naveed Fatima     Analyst\n",
       "4           Babar    Engineer\n",
       "5            Aqsa   Scientist\n",
       "6           Rafia     Analyst\n",
       "7           Samra   Scientist\n",
       "8            Eman    Engineer\n",
       "9        Abdullah     Teacher\n",
       "10          Mosib   professor\n",
       "11          Ahmed    engineer\n",
       "12          Ahsan     trainer\n",
       "13          Wajid     teacher\n",
       "14          Naeem     trainer\n",
       "15         Qaisar   professor\n",
       "16          Wajid    Engineer"
      ]
     },
     "execution_count": 34,
     "metadata": {},
     "output_type": "execute_result"
    }
   ],
   "source": [
    "#select two columns\n",
    "sc = df[['Name' , 'Designation']]\n",
    "sc"
   ]
  },
  {
   "cell_type": "code",
   "execution_count": 35,
   "metadata": {},
   "outputs": [
    {
     "name": "stdout",
     "output_type": "stream",
     "text": [
      "Selecting three columns from dataset\n"
     ]
    },
    {
     "data": {
      "text/html": [
       "<div>\n",
       "<style scoped>\n",
       "    .dataframe tbody tr th:only-of-type {\n",
       "        vertical-align: middle;\n",
       "    }\n",
       "\n",
       "    .dataframe tbody tr th {\n",
       "        vertical-align: top;\n",
       "    }\n",
       "\n",
       "    .dataframe thead th {\n",
       "        text-align: right;\n",
       "    }\n",
       "</style>\n",
       "<table border=\"1\" class=\"dataframe\">\n",
       "  <thead>\n",
       "    <tr style=\"text-align: right;\">\n",
       "      <th></th>\n",
       "      <th>Name</th>\n",
       "      <th>Age</th>\n",
       "      <th>Designation</th>\n",
       "    </tr>\n",
       "  </thead>\n",
       "  <tbody>\n",
       "    <tr>\n",
       "      <th>0</th>\n",
       "      <td>Mukhtar</td>\n",
       "      <td>37.0</td>\n",
       "      <td>Professor</td>\n",
       "    </tr>\n",
       "    <tr>\n",
       "      <th>1</th>\n",
       "      <td>Azziz</td>\n",
       "      <td>30.0</td>\n",
       "      <td>Teacher</td>\n",
       "    </tr>\n",
       "    <tr>\n",
       "      <th>2</th>\n",
       "      <td>Mohsin</td>\n",
       "      <td>29.0</td>\n",
       "      <td>Engineer</td>\n",
       "    </tr>\n",
       "    <tr>\n",
       "      <th>3</th>\n",
       "      <td>Naveed Fatima</td>\n",
       "      <td>30.0</td>\n",
       "      <td>Analyst</td>\n",
       "    </tr>\n",
       "    <tr>\n",
       "      <th>4</th>\n",
       "      <td>Babar</td>\n",
       "      <td>25.0</td>\n",
       "      <td>Engineer</td>\n",
       "    </tr>\n",
       "    <tr>\n",
       "      <th>5</th>\n",
       "      <td>Aqsa</td>\n",
       "      <td>22.0</td>\n",
       "      <td>Scientist</td>\n",
       "    </tr>\n",
       "    <tr>\n",
       "      <th>6</th>\n",
       "      <td>Rafia</td>\n",
       "      <td>29.0</td>\n",
       "      <td>Analyst</td>\n",
       "    </tr>\n",
       "    <tr>\n",
       "      <th>7</th>\n",
       "      <td>Samra</td>\n",
       "      <td>26.0</td>\n",
       "      <td>Scientist</td>\n",
       "    </tr>\n",
       "    <tr>\n",
       "      <th>8</th>\n",
       "      <td>Eman</td>\n",
       "      <td>28.0</td>\n",
       "      <td>Engineer</td>\n",
       "    </tr>\n",
       "    <tr>\n",
       "      <th>9</th>\n",
       "      <td>Abdullah</td>\n",
       "      <td>55.0</td>\n",
       "      <td>Teacher</td>\n",
       "    </tr>\n",
       "    <tr>\n",
       "      <th>10</th>\n",
       "      <td>Mosib</td>\n",
       "      <td>60.0</td>\n",
       "      <td>professor</td>\n",
       "    </tr>\n",
       "    <tr>\n",
       "      <th>11</th>\n",
       "      <td>Ahmed</td>\n",
       "      <td>NaN</td>\n",
       "      <td>engineer</td>\n",
       "    </tr>\n",
       "    <tr>\n",
       "      <th>12</th>\n",
       "      <td>Ahsan</td>\n",
       "      <td>156.0</td>\n",
       "      <td>trainer</td>\n",
       "    </tr>\n",
       "    <tr>\n",
       "      <th>13</th>\n",
       "      <td>Wajid</td>\n",
       "      <td>67.0</td>\n",
       "      <td>teacher</td>\n",
       "    </tr>\n",
       "    <tr>\n",
       "      <th>14</th>\n",
       "      <td>Naeem</td>\n",
       "      <td>80.0</td>\n",
       "      <td>trainer</td>\n",
       "    </tr>\n",
       "    <tr>\n",
       "      <th>15</th>\n",
       "      <td>Qaisar</td>\n",
       "      <td>20.0</td>\n",
       "      <td>professor</td>\n",
       "    </tr>\n",
       "    <tr>\n",
       "      <th>16</th>\n",
       "      <td>Wajid</td>\n",
       "      <td>85.0</td>\n",
       "      <td>Engineer</td>\n",
       "    </tr>\n",
       "  </tbody>\n",
       "</table>\n",
       "</div>"
      ],
      "text/plain": [
       "             Name    Age Designation\n",
       "0         Mukhtar   37.0   Professor\n",
       "1           Azziz   30.0     Teacher\n",
       "2          Mohsin   29.0    Engineer\n",
       "3   Naveed Fatima   30.0     Analyst\n",
       "4           Babar   25.0    Engineer\n",
       "5            Aqsa   22.0   Scientist\n",
       "6           Rafia   29.0     Analyst\n",
       "7           Samra   26.0   Scientist\n",
       "8            Eman   28.0    Engineer\n",
       "9        Abdullah   55.0     Teacher\n",
       "10          Mosib   60.0   professor\n",
       "11          Ahmed    NaN    engineer\n",
       "12          Ahsan  156.0     trainer\n",
       "13          Wajid   67.0     teacher\n",
       "14          Naeem   80.0     trainer\n",
       "15         Qaisar   20.0   professor\n",
       "16          Wajid   85.0    Engineer"
      ]
     },
     "execution_count": 35,
     "metadata": {},
     "output_type": "execute_result"
    }
   ],
   "source": [
    "#selecting three columns\n",
    "print(\"Selecting three columns from dataset\")\n",
    "sc=df[['Name','Age','Designation']]\n",
    "sc"
   ]
  },
  {
   "cell_type": "code",
   "execution_count": 36,
   "metadata": {},
   "outputs": [
    {
     "data": {
      "text/html": [
       "<div>\n",
       "<style scoped>\n",
       "    .dataframe tbody tr th:only-of-type {\n",
       "        vertical-align: middle;\n",
       "    }\n",
       "\n",
       "    .dataframe tbody tr th {\n",
       "        vertical-align: top;\n",
       "    }\n",
       "\n",
       "    .dataframe thead th {\n",
       "        text-align: right;\n",
       "    }\n",
       "</style>\n",
       "<table border=\"1\" class=\"dataframe\">\n",
       "  <thead>\n",
       "    <tr style=\"text-align: right;\">\n",
       "      <th></th>\n",
       "      <th>Name</th>\n",
       "      <th>Salary</th>\n",
       "    </tr>\n",
       "  </thead>\n",
       "  <tbody>\n",
       "    <tr>\n",
       "      <th>4</th>\n",
       "      <td>Babar</td>\n",
       "      <td>1500000.0</td>\n",
       "    </tr>\n",
       "    <tr>\n",
       "      <th>5</th>\n",
       "      <td>Aqsa</td>\n",
       "      <td>NaN</td>\n",
       "    </tr>\n",
       "  </tbody>\n",
       "</table>\n",
       "</div>"
      ],
      "text/plain": [
       "    Name     Salary\n",
       "4  Babar  1500000.0\n",
       "5   Aqsa        NaN"
      ]
     },
     "execution_count": 36,
     "metadata": {},
     "output_type": "execute_result"
    }
   ],
   "source": [
    "# display name and salary column of row 4,5\n",
    "df1=df[['Name','Salary']]\n",
    "df1.loc[4:5]"
   ]
  },
  {
   "cell_type": "code",
   "execution_count": 37,
   "metadata": {},
   "outputs": [
    {
     "name": "stdout",
     "output_type": "stream",
     "text": [
      "Selected rows and columns\n"
     ]
    },
    {
     "data": {
      "text/html": [
       "<div>\n",
       "<style scoped>\n",
       "    .dataframe tbody tr th:only-of-type {\n",
       "        vertical-align: middle;\n",
       "    }\n",
       "\n",
       "    .dataframe tbody tr th {\n",
       "        vertical-align: top;\n",
       "    }\n",
       "\n",
       "    .dataframe thead th {\n",
       "        text-align: right;\n",
       "    }\n",
       "</style>\n",
       "<table border=\"1\" class=\"dataframe\">\n",
       "  <thead>\n",
       "    <tr style=\"text-align: right;\">\n",
       "      <th></th>\n",
       "      <th>Name</th>\n",
       "      <th>Salary</th>\n",
       "    </tr>\n",
       "  </thead>\n",
       "  <tbody>\n",
       "    <tr>\n",
       "      <th>4</th>\n",
       "      <td>Babar</td>\n",
       "      <td>1500000.0</td>\n",
       "    </tr>\n",
       "    <tr>\n",
       "      <th>5</th>\n",
       "      <td>Aqsa</td>\n",
       "      <td>NaN</td>\n",
       "    </tr>\n",
       "  </tbody>\n",
       "</table>\n",
       "</div>"
      ],
      "text/plain": [
       "    Name     Salary\n",
       "4  Babar  1500000.0\n",
       "5   Aqsa        NaN"
      ]
     },
     "execution_count": 37,
     "metadata": {},
     "output_type": "execute_result"
    }
   ],
   "source": [
    "# display name and salary column of row 4,5\n",
    "df1=df.loc[4:5,['Name','Salary']]\n",
    "print(\"Selected rows and columns\")\n",
    "df1"
   ]
  },
  {
   "cell_type": "code",
   "execution_count": 38,
   "metadata": {},
   "outputs": [
    {
     "data": {
      "text/plain": [
       "Name           0\n",
       "Designation    0\n",
       "Gender         0\n",
       "Age            1\n",
       "Salary         2\n",
       "dtype: int64"
      ]
     },
     "execution_count": 38,
     "metadata": {},
     "output_type": "execute_result"
    }
   ],
   "source": [
    "# check nullvalue\n",
    "qurat=df\n",
    "qurat.isnull().sum()"
   ]
  },
  {
   "cell_type": "code",
   "execution_count": 39,
   "metadata": {},
   "outputs": [
    {
     "name": "stdout",
     "output_type": "stream",
     "text": [
      "Data after dropping index 9\n",
      "             Name Designation Gender    Age     Salary\n",
      "0         Mukhtar   Professor      M   37.0   115000.0\n",
      "1           Azziz     Teacher      M   30.0    35000.0\n",
      "2          Mohsin    Engineer      M   29.0    50000.0\n",
      "3   Naveed Fatima     Analyst      F   30.0    70000.0\n",
      "4           Babar    Engineer      F   25.0  1500000.0\n",
      "5            Aqsa   Scientist      F   22.0        NaN\n",
      "6           Rafia     Analyst      F   29.0    20000.0\n",
      "7           Samra   Scientist      F   26.0   115000.0\n",
      "8            Eman    Engineer      F   28.0    35000.0\n",
      "10          Mosib   professor      M   60.0    70000.0\n",
      "11          Ahmed    engineer      M    NaN    90000.0\n",
      "12          Ahsan     trainer      M  156.0   110000.0\n",
      "13          Wajid     teacher      M   67.0     2000.0\n",
      "14          Naeem     trainer      M   80.0    16000.0\n",
      "15         Qaisar   professor      M   20.0   170000.0\n",
      "16          Wajid    Engineer      M   85.0   190000.0\n"
     ]
    }
   ],
   "source": [
    "# drop index 9\n",
    "nd=df.drop(9)\n",
    "print(\"Data after dropping index 9\")\n",
    "print(nd)"
   ]
  },
  {
   "cell_type": "code",
   "execution_count": 40,
   "metadata": {},
   "outputs": [
    {
     "name": "stdout",
     "output_type": "stream",
     "text": [
      "Data after dropping index 5 and 9\n",
      "             Name Designation Gender    Age     Salary\n",
      "0         Mukhtar   Professor      M   37.0   115000.0\n",
      "1           Azziz     Teacher      M   30.0    35000.0\n",
      "2          Mohsin    Engineer      M   29.0    50000.0\n",
      "3   Naveed Fatima     Analyst      F   30.0    70000.0\n",
      "4           Babar    Engineer      F   25.0  1500000.0\n",
      "6           Rafia     Analyst      F   29.0    20000.0\n",
      "7           Samra   Scientist      F   26.0   115000.0\n",
      "8            Eman    Engineer      F   28.0    35000.0\n",
      "10          Mosib   professor      M   60.0    70000.0\n",
      "11          Ahmed    engineer      M    NaN    90000.0\n",
      "12          Ahsan     trainer      M  156.0   110000.0\n",
      "13          Wajid     teacher      M   67.0     2000.0\n",
      "14          Naeem     trainer      M   80.0    16000.0\n",
      "15         Qaisar   professor      M   20.0   170000.0\n",
      "16          Wajid    Engineer      M   85.0   190000.0\n"
     ]
    }
   ],
   "source": [
    "# drop index 5and 9\n",
    "nd=df.drop(index=[5,9])\n",
    "print(\"Data after dropping index 5 and 9\")\n",
    "print(nd)"
   ]
  },
  {
   "cell_type": "code",
   "execution_count": 41,
   "metadata": {},
   "outputs": [
    {
     "name": "stdout",
     "output_type": "stream",
     "text": [
      "Data after dropping index 5-9\n",
      "             Name Designation Gender    Age     Salary\n",
      "0         Mukhtar   Professor      M   37.0   115000.0\n",
      "1           Azziz     Teacher      M   30.0    35000.0\n",
      "2          Mohsin    Engineer      M   29.0    50000.0\n",
      "3   Naveed Fatima     Analyst      F   30.0    70000.0\n",
      "4           Babar    Engineer      F   25.0  1500000.0\n",
      "10          Mosib   professor      M   60.0    70000.0\n",
      "11          Ahmed    engineer      M    NaN    90000.0\n",
      "12          Ahsan     trainer      M  156.0   110000.0\n",
      "13          Wajid     teacher      M   67.0     2000.0\n",
      "14          Naeem     trainer      M   80.0    16000.0\n",
      "15         Qaisar   professor      M   20.0   170000.0\n",
      "16          Wajid    Engineer      M   85.0   190000.0\n"
     ]
    }
   ],
   "source": [
    "# drop index from 5 to 9\n",
    "nd=df.drop(index=[5,6,7,8,9])\n",
    "print(\"Data after dropping index 5-9\")\n",
    "print(nd)"
   ]
  },
  {
   "cell_type": "code",
   "execution_count": 42,
   "metadata": {},
   "outputs": [
    {
     "name": "stdout",
     "output_type": "stream",
     "text": [
      "Data after dropping column gender\n",
      "             Name Designation    Age     Salary\n",
      "0         Mukhtar   Professor   37.0   115000.0\n",
      "1           Azziz     Teacher   30.0    35000.0\n",
      "2          Mohsin    Engineer   29.0    50000.0\n",
      "3   Naveed Fatima     Analyst   30.0    70000.0\n",
      "4           Babar    Engineer   25.0  1500000.0\n",
      "5            Aqsa   Scientist   22.0        NaN\n",
      "6           Rafia     Analyst   29.0    20000.0\n",
      "7           Samra   Scientist   26.0   115000.0\n",
      "8            Eman    Engineer   28.0    35000.0\n",
      "9        Abdullah     Teacher   55.0        NaN\n",
      "10          Mosib   professor   60.0    70000.0\n",
      "11          Ahmed    engineer    NaN    90000.0\n",
      "12          Ahsan     trainer  156.0   110000.0\n",
      "13          Wajid     teacher   67.0     2000.0\n",
      "14          Naeem     trainer   80.0    16000.0\n",
      "15         Qaisar   professor   20.0   170000.0\n",
      "16          Wajid    Engineer   85.0   190000.0\n"
     ]
    }
   ],
   "source": [
    "#drop column gender\n",
    "nc=df.drop(columns='Gender')\n",
    "print(\"Data after dropping column gender\")\n",
    "print(nc)"
   ]
  },
  {
   "cell_type": "code",
   "execution_count": 43,
   "metadata": {},
   "outputs": [
    {
     "name": "stdout",
     "output_type": "stream",
     "text": [
      "Data after dropping column gender and age\n",
      "             Name Designation     Salary\n",
      "0         Mukhtar   Professor   115000.0\n",
      "1           Azziz     Teacher    35000.0\n",
      "2          Mohsin    Engineer    50000.0\n",
      "3   Naveed Fatima     Analyst    70000.0\n",
      "4           Babar    Engineer  1500000.0\n",
      "5            Aqsa   Scientist        NaN\n",
      "6           Rafia     Analyst    20000.0\n",
      "7           Samra   Scientist   115000.0\n",
      "8            Eman    Engineer    35000.0\n",
      "9        Abdullah     Teacher        NaN\n",
      "10          Mosib   professor    70000.0\n",
      "11          Ahmed    engineer    90000.0\n",
      "12          Ahsan     trainer   110000.0\n",
      "13          Wajid     teacher     2000.0\n",
      "14          Naeem     trainer    16000.0\n",
      "15         Qaisar   professor   170000.0\n",
      "16          Wajid    Engineer   190000.0\n"
     ]
    }
   ],
   "source": [
    "#drop two columns\n",
    "nc=df.drop(columns=['Gender','Age'])\n",
    "print(\"Data after dropping column gender and age\")\n",
    "print(nc)"
   ]
  },
  {
   "cell_type": "code",
   "execution_count": 44,
   "metadata": {},
   "outputs": [
    {
     "data": {
      "text/plain": [
       "Name           0\n",
       "Designation    0\n",
       "Gender         0\n",
       "Age            1\n",
       "Salary         2\n",
       "dtype: int64"
      ]
     },
     "execution_count": 44,
     "metadata": {},
     "output_type": "execute_result"
    }
   ],
   "source": [
    "# deal missing value\n",
    "df.isnull().sum()"
   ]
  },
  {
   "cell_type": "code",
   "execution_count": 45,
   "metadata": {},
   "outputs": [
    {
     "data": {
      "text/plain": [
       "np.int64(1)"
      ]
     },
     "execution_count": 45,
     "metadata": {},
     "output_type": "execute_result"
    }
   ],
   "source": [
    "# deal missing value\n",
    "df['Age'].isnull().sum()"
   ]
  },
  {
   "cell_type": "code",
   "execution_count": 46,
   "metadata": {},
   "outputs": [
    {
     "data": {
      "text/plain": [
       "0      37.0\n",
       "1      30.0\n",
       "2      29.0\n",
       "3      30.0\n",
       "4      25.0\n",
       "5      22.0\n",
       "6      29.0\n",
       "7      26.0\n",
       "8      28.0\n",
       "9      55.0\n",
       "10     60.0\n",
       "11     30.0\n",
       "12    156.0\n",
       "13     67.0\n",
       "14     80.0\n",
       "15     20.0\n",
       "16     85.0\n",
       "Name: Age, dtype: float64"
      ]
     },
     "execution_count": 46,
     "metadata": {},
     "output_type": "execute_result"
    }
   ],
   "source": [
    "#replace null values\n",
    "df['Age']=df['Age'].fillna(df['Age'].median())\n",
    "df['Age']"
   ]
  },
  {
   "cell_type": "code",
   "execution_count": 47,
   "metadata": {},
   "outputs": [
    {
     "name": "stdout",
     "output_type": "stream",
     "text": [
      "Students dataset\n"
     ]
    },
    {
     "data": {
      "text/html": [
       "<div>\n",
       "<style scoped>\n",
       "    .dataframe tbody tr th:only-of-type {\n",
       "        vertical-align: middle;\n",
       "    }\n",
       "\n",
       "    .dataframe tbody tr th {\n",
       "        vertical-align: top;\n",
       "    }\n",
       "\n",
       "    .dataframe thead th {\n",
       "        text-align: right;\n",
       "    }\n",
       "</style>\n",
       "<table border=\"1\" class=\"dataframe\">\n",
       "  <thead>\n",
       "    <tr style=\"text-align: right;\">\n",
       "      <th></th>\n",
       "      <th>Name</th>\n",
       "      <th>Designation</th>\n",
       "      <th>Gender</th>\n",
       "      <th>Age</th>\n",
       "      <th>Salary</th>\n",
       "    </tr>\n",
       "  </thead>\n",
       "  <tbody>\n",
       "    <tr>\n",
       "      <th>0</th>\n",
       "      <td>Mukhtar</td>\n",
       "      <td>Professor</td>\n",
       "      <td>M</td>\n",
       "      <td>37.0</td>\n",
       "      <td>115000.0</td>\n",
       "    </tr>\n",
       "    <tr>\n",
       "      <th>1</th>\n",
       "      <td>Azziz</td>\n",
       "      <td>Teacher</td>\n",
       "      <td>M</td>\n",
       "      <td>30.0</td>\n",
       "      <td>35000.0</td>\n",
       "    </tr>\n",
       "    <tr>\n",
       "      <th>2</th>\n",
       "      <td>Mohsin</td>\n",
       "      <td>Engineer</td>\n",
       "      <td>M</td>\n",
       "      <td>29.0</td>\n",
       "      <td>50000.0</td>\n",
       "    </tr>\n",
       "    <tr>\n",
       "      <th>3</th>\n",
       "      <td>Naveed Fatima</td>\n",
       "      <td>Analyst</td>\n",
       "      <td>F</td>\n",
       "      <td>30.0</td>\n",
       "      <td>70000.0</td>\n",
       "    </tr>\n",
       "    <tr>\n",
       "      <th>4</th>\n",
       "      <td>Babar</td>\n",
       "      <td>Engineer</td>\n",
       "      <td>F</td>\n",
       "      <td>25.0</td>\n",
       "      <td>1500000.0</td>\n",
       "    </tr>\n",
       "    <tr>\n",
       "      <th>5</th>\n",
       "      <td>Aqsa</td>\n",
       "      <td>Scientist</td>\n",
       "      <td>F</td>\n",
       "      <td>22.0</td>\n",
       "      <td>NaN</td>\n",
       "    </tr>\n",
       "    <tr>\n",
       "      <th>6</th>\n",
       "      <td>Rafia</td>\n",
       "      <td>Analyst</td>\n",
       "      <td>F</td>\n",
       "      <td>29.0</td>\n",
       "      <td>20000.0</td>\n",
       "    </tr>\n",
       "    <tr>\n",
       "      <th>7</th>\n",
       "      <td>Samra</td>\n",
       "      <td>Scientist</td>\n",
       "      <td>F</td>\n",
       "      <td>26.0</td>\n",
       "      <td>115000.0</td>\n",
       "    </tr>\n",
       "    <tr>\n",
       "      <th>8</th>\n",
       "      <td>Eman</td>\n",
       "      <td>Engineer</td>\n",
       "      <td>F</td>\n",
       "      <td>28.0</td>\n",
       "      <td>35000.0</td>\n",
       "    </tr>\n",
       "    <tr>\n",
       "      <th>9</th>\n",
       "      <td>Abdullah</td>\n",
       "      <td>Teacher</td>\n",
       "      <td>M</td>\n",
       "      <td>55.0</td>\n",
       "      <td>NaN</td>\n",
       "    </tr>\n",
       "    <tr>\n",
       "      <th>10</th>\n",
       "      <td>Mosib</td>\n",
       "      <td>professor</td>\n",
       "      <td>M</td>\n",
       "      <td>60.0</td>\n",
       "      <td>70000.0</td>\n",
       "    </tr>\n",
       "    <tr>\n",
       "      <th>11</th>\n",
       "      <td>Ahmed</td>\n",
       "      <td>engineer</td>\n",
       "      <td>M</td>\n",
       "      <td>NaN</td>\n",
       "      <td>90000.0</td>\n",
       "    </tr>\n",
       "    <tr>\n",
       "      <th>12</th>\n",
       "      <td>Ahsan</td>\n",
       "      <td>trainer</td>\n",
       "      <td>M</td>\n",
       "      <td>156.0</td>\n",
       "      <td>110000.0</td>\n",
       "    </tr>\n",
       "    <tr>\n",
       "      <th>13</th>\n",
       "      <td>Wajid</td>\n",
       "      <td>teacher</td>\n",
       "      <td>M</td>\n",
       "      <td>67.0</td>\n",
       "      <td>2000.0</td>\n",
       "    </tr>\n",
       "    <tr>\n",
       "      <th>14</th>\n",
       "      <td>Naeem</td>\n",
       "      <td>trainer</td>\n",
       "      <td>M</td>\n",
       "      <td>80.0</td>\n",
       "      <td>16000.0</td>\n",
       "    </tr>\n",
       "    <tr>\n",
       "      <th>15</th>\n",
       "      <td>Qaisar</td>\n",
       "      <td>professor</td>\n",
       "      <td>M</td>\n",
       "      <td>20.0</td>\n",
       "      <td>170000.0</td>\n",
       "    </tr>\n",
       "    <tr>\n",
       "      <th>16</th>\n",
       "      <td>Wajid</td>\n",
       "      <td>Engineer</td>\n",
       "      <td>M</td>\n",
       "      <td>85.0</td>\n",
       "      <td>190000.0</td>\n",
       "    </tr>\n",
       "  </tbody>\n",
       "</table>\n",
       "</div>"
      ],
      "text/plain": [
       "             Name Designation Gender    Age     Salary\n",
       "0         Mukhtar   Professor      M   37.0   115000.0\n",
       "1           Azziz     Teacher      M   30.0    35000.0\n",
       "2          Mohsin    Engineer      M   29.0    50000.0\n",
       "3   Naveed Fatima     Analyst      F   30.0    70000.0\n",
       "4           Babar    Engineer      F   25.0  1500000.0\n",
       "5            Aqsa   Scientist      F   22.0        NaN\n",
       "6           Rafia     Analyst      F   29.0    20000.0\n",
       "7           Samra   Scientist      F   26.0   115000.0\n",
       "8            Eman    Engineer      F   28.0    35000.0\n",
       "9        Abdullah     Teacher      M   55.0        NaN\n",
       "10          Mosib   professor      M   60.0    70000.0\n",
       "11          Ahmed    engineer      M    NaN    90000.0\n",
       "12          Ahsan     trainer      M  156.0   110000.0\n",
       "13          Wajid     teacher      M   67.0     2000.0\n",
       "14          Naeem     trainer      M   80.0    16000.0\n",
       "15         Qaisar   professor      M   20.0   170000.0\n",
       "16          Wajid    Engineer      M   85.0   190000.0"
      ]
     },
     "execution_count": 47,
     "metadata": {},
     "output_type": "execute_result"
    }
   ],
   "source": [
    "#loading dataset csv\n",
    "pd.read_csv(\"data.csv\")\n",
    "df=pd.read_csv(\"data.csv\")\n",
    "print(\"Students dataset\")\n",
    "df"
   ]
  },
  {
   "cell_type": "code",
   "execution_count": 48,
   "metadata": {},
   "outputs": [
    {
     "data": {
      "text/plain": [
       "0      115000.0\n",
       "1       35000.0\n",
       "2       50000.0\n",
       "3       70000.0\n",
       "4     1500000.0\n",
       "5           NaN\n",
       "6       20000.0\n",
       "7      115000.0\n",
       "8       35000.0\n",
       "9           NaN\n",
       "10      70000.0\n",
       "11      90000.0\n",
       "12     110000.0\n",
       "13       2000.0\n",
       "14      16000.0\n",
       "15     170000.0\n",
       "16     190000.0\n",
       "Name: Salary, dtype: float64"
      ]
     },
     "execution_count": 48,
     "metadata": {},
     "output_type": "execute_result"
    }
   ],
   "source": [
    "#display specific feature or column\n",
    "df['Salary']"
   ]
  },
  {
   "cell_type": "code",
   "execution_count": 49,
   "metadata": {},
   "outputs": [
    {
     "data": {
      "text/html": [
       "<div>\n",
       "<style scoped>\n",
       "    .dataframe tbody tr th:only-of-type {\n",
       "        vertical-align: middle;\n",
       "    }\n",
       "\n",
       "    .dataframe tbody tr th {\n",
       "        vertical-align: top;\n",
       "    }\n",
       "\n",
       "    .dataframe thead th {\n",
       "        text-align: right;\n",
       "    }\n",
       "</style>\n",
       "<table border=\"1\" class=\"dataframe\">\n",
       "  <thead>\n",
       "    <tr style=\"text-align: right;\">\n",
       "      <th></th>\n",
       "      <th>Name</th>\n",
       "      <th>Designation</th>\n",
       "    </tr>\n",
       "  </thead>\n",
       "  <tbody>\n",
       "    <tr>\n",
       "      <th>0</th>\n",
       "      <td>Mukhtar</td>\n",
       "      <td>Professor</td>\n",
       "    </tr>\n",
       "    <tr>\n",
       "      <th>1</th>\n",
       "      <td>Azziz</td>\n",
       "      <td>Teacher</td>\n",
       "    </tr>\n",
       "    <tr>\n",
       "      <th>2</th>\n",
       "      <td>Mohsin</td>\n",
       "      <td>Engineer</td>\n",
       "    </tr>\n",
       "    <tr>\n",
       "      <th>3</th>\n",
       "      <td>Naveed Fatima</td>\n",
       "      <td>Analyst</td>\n",
       "    </tr>\n",
       "    <tr>\n",
       "      <th>4</th>\n",
       "      <td>Babar</td>\n",
       "      <td>Engineer</td>\n",
       "    </tr>\n",
       "    <tr>\n",
       "      <th>5</th>\n",
       "      <td>Aqsa</td>\n",
       "      <td>Scientist</td>\n",
       "    </tr>\n",
       "    <tr>\n",
       "      <th>6</th>\n",
       "      <td>Rafia</td>\n",
       "      <td>Analyst</td>\n",
       "    </tr>\n",
       "    <tr>\n",
       "      <th>7</th>\n",
       "      <td>Samra</td>\n",
       "      <td>Scientist</td>\n",
       "    </tr>\n",
       "    <tr>\n",
       "      <th>8</th>\n",
       "      <td>Eman</td>\n",
       "      <td>Engineer</td>\n",
       "    </tr>\n",
       "    <tr>\n",
       "      <th>9</th>\n",
       "      <td>Abdullah</td>\n",
       "      <td>Teacher</td>\n",
       "    </tr>\n",
       "    <tr>\n",
       "      <th>10</th>\n",
       "      <td>Mosib</td>\n",
       "      <td>professor</td>\n",
       "    </tr>\n",
       "    <tr>\n",
       "      <th>11</th>\n",
       "      <td>Ahmed</td>\n",
       "      <td>engineer</td>\n",
       "    </tr>\n",
       "    <tr>\n",
       "      <th>12</th>\n",
       "      <td>Ahsan</td>\n",
       "      <td>trainer</td>\n",
       "    </tr>\n",
       "    <tr>\n",
       "      <th>13</th>\n",
       "      <td>Wajid</td>\n",
       "      <td>teacher</td>\n",
       "    </tr>\n",
       "    <tr>\n",
       "      <th>14</th>\n",
       "      <td>Naeem</td>\n",
       "      <td>trainer</td>\n",
       "    </tr>\n",
       "    <tr>\n",
       "      <th>15</th>\n",
       "      <td>Qaisar</td>\n",
       "      <td>professor</td>\n",
       "    </tr>\n",
       "    <tr>\n",
       "      <th>16</th>\n",
       "      <td>Wajid</td>\n",
       "      <td>Engineer</td>\n",
       "    </tr>\n",
       "  </tbody>\n",
       "</table>\n",
       "</div>"
      ],
      "text/plain": [
       "             Name Designation\n",
       "0         Mukhtar   Professor\n",
       "1           Azziz     Teacher\n",
       "2          Mohsin    Engineer\n",
       "3   Naveed Fatima     Analyst\n",
       "4           Babar    Engineer\n",
       "5            Aqsa   Scientist\n",
       "6           Rafia     Analyst\n",
       "7           Samra   Scientist\n",
       "8            Eman    Engineer\n",
       "9        Abdullah     Teacher\n",
       "10          Mosib   professor\n",
       "11          Ahmed    engineer\n",
       "12          Ahsan     trainer\n",
       "13          Wajid     teacher\n",
       "14          Naeem     trainer\n",
       "15         Qaisar   professor\n",
       "16          Wajid    Engineer"
      ]
     },
     "execution_count": 49,
     "metadata": {},
     "output_type": "execute_result"
    }
   ],
   "source": [
    "#select two columns\n",
    "sc = df[['Name' , 'Designation']]\n",
    "sc"
   ]
  },
  {
   "cell_type": "code",
   "execution_count": 50,
   "metadata": {},
   "outputs": [
    {
     "name": "stdout",
     "output_type": "stream",
     "text": [
      "Selecting three columns from dataset\n"
     ]
    },
    {
     "data": {
      "text/html": [
       "<div>\n",
       "<style scoped>\n",
       "    .dataframe tbody tr th:only-of-type {\n",
       "        vertical-align: middle;\n",
       "    }\n",
       "\n",
       "    .dataframe tbody tr th {\n",
       "        vertical-align: top;\n",
       "    }\n",
       "\n",
       "    .dataframe thead th {\n",
       "        text-align: right;\n",
       "    }\n",
       "</style>\n",
       "<table border=\"1\" class=\"dataframe\">\n",
       "  <thead>\n",
       "    <tr style=\"text-align: right;\">\n",
       "      <th></th>\n",
       "      <th>Name</th>\n",
       "      <th>Age</th>\n",
       "      <th>Designation</th>\n",
       "    </tr>\n",
       "  </thead>\n",
       "  <tbody>\n",
       "    <tr>\n",
       "      <th>0</th>\n",
       "      <td>Mukhtar</td>\n",
       "      <td>37.0</td>\n",
       "      <td>Professor</td>\n",
       "    </tr>\n",
       "    <tr>\n",
       "      <th>1</th>\n",
       "      <td>Azziz</td>\n",
       "      <td>30.0</td>\n",
       "      <td>Teacher</td>\n",
       "    </tr>\n",
       "    <tr>\n",
       "      <th>2</th>\n",
       "      <td>Mohsin</td>\n",
       "      <td>29.0</td>\n",
       "      <td>Engineer</td>\n",
       "    </tr>\n",
       "    <tr>\n",
       "      <th>3</th>\n",
       "      <td>Naveed Fatima</td>\n",
       "      <td>30.0</td>\n",
       "      <td>Analyst</td>\n",
       "    </tr>\n",
       "    <tr>\n",
       "      <th>4</th>\n",
       "      <td>Babar</td>\n",
       "      <td>25.0</td>\n",
       "      <td>Engineer</td>\n",
       "    </tr>\n",
       "    <tr>\n",
       "      <th>5</th>\n",
       "      <td>Aqsa</td>\n",
       "      <td>22.0</td>\n",
       "      <td>Scientist</td>\n",
       "    </tr>\n",
       "    <tr>\n",
       "      <th>6</th>\n",
       "      <td>Rafia</td>\n",
       "      <td>29.0</td>\n",
       "      <td>Analyst</td>\n",
       "    </tr>\n",
       "    <tr>\n",
       "      <th>7</th>\n",
       "      <td>Samra</td>\n",
       "      <td>26.0</td>\n",
       "      <td>Scientist</td>\n",
       "    </tr>\n",
       "    <tr>\n",
       "      <th>8</th>\n",
       "      <td>Eman</td>\n",
       "      <td>28.0</td>\n",
       "      <td>Engineer</td>\n",
       "    </tr>\n",
       "    <tr>\n",
       "      <th>9</th>\n",
       "      <td>Abdullah</td>\n",
       "      <td>55.0</td>\n",
       "      <td>Teacher</td>\n",
       "    </tr>\n",
       "    <tr>\n",
       "      <th>10</th>\n",
       "      <td>Mosib</td>\n",
       "      <td>60.0</td>\n",
       "      <td>professor</td>\n",
       "    </tr>\n",
       "    <tr>\n",
       "      <th>11</th>\n",
       "      <td>Ahmed</td>\n",
       "      <td>NaN</td>\n",
       "      <td>engineer</td>\n",
       "    </tr>\n",
       "    <tr>\n",
       "      <th>12</th>\n",
       "      <td>Ahsan</td>\n",
       "      <td>156.0</td>\n",
       "      <td>trainer</td>\n",
       "    </tr>\n",
       "    <tr>\n",
       "      <th>13</th>\n",
       "      <td>Wajid</td>\n",
       "      <td>67.0</td>\n",
       "      <td>teacher</td>\n",
       "    </tr>\n",
       "    <tr>\n",
       "      <th>14</th>\n",
       "      <td>Naeem</td>\n",
       "      <td>80.0</td>\n",
       "      <td>trainer</td>\n",
       "    </tr>\n",
       "    <tr>\n",
       "      <th>15</th>\n",
       "      <td>Qaisar</td>\n",
       "      <td>20.0</td>\n",
       "      <td>professor</td>\n",
       "    </tr>\n",
       "    <tr>\n",
       "      <th>16</th>\n",
       "      <td>Wajid</td>\n",
       "      <td>85.0</td>\n",
       "      <td>Engineer</td>\n",
       "    </tr>\n",
       "  </tbody>\n",
       "</table>\n",
       "</div>"
      ],
      "text/plain": [
       "             Name    Age Designation\n",
       "0         Mukhtar   37.0   Professor\n",
       "1           Azziz   30.0     Teacher\n",
       "2          Mohsin   29.0    Engineer\n",
       "3   Naveed Fatima   30.0     Analyst\n",
       "4           Babar   25.0    Engineer\n",
       "5            Aqsa   22.0   Scientist\n",
       "6           Rafia   29.0     Analyst\n",
       "7           Samra   26.0   Scientist\n",
       "8            Eman   28.0    Engineer\n",
       "9        Abdullah   55.0     Teacher\n",
       "10          Mosib   60.0   professor\n",
       "11          Ahmed    NaN    engineer\n",
       "12          Ahsan  156.0     trainer\n",
       "13          Wajid   67.0     teacher\n",
       "14          Naeem   80.0     trainer\n",
       "15         Qaisar   20.0   professor\n",
       "16          Wajid   85.0    Engineer"
      ]
     },
     "execution_count": 50,
     "metadata": {},
     "output_type": "execute_result"
    }
   ],
   "source": [
    "#select three columns\n",
    "print(\"Selecting three columns from dataset\")\n",
    "sc=df[['Name','Age','Designation']]\n",
    "sc"
   ]
  },
  {
   "cell_type": "code",
   "execution_count": 51,
   "metadata": {},
   "outputs": [
    {
     "name": "stdout",
     "output_type": "stream",
     "text": [
      "Selected rows and columns\n"
     ]
    },
    {
     "data": {
      "text/html": [
       "<div>\n",
       "<style scoped>\n",
       "    .dataframe tbody tr th:only-of-type {\n",
       "        vertical-align: middle;\n",
       "    }\n",
       "\n",
       "    .dataframe tbody tr th {\n",
       "        vertical-align: top;\n",
       "    }\n",
       "\n",
       "    .dataframe thead th {\n",
       "        text-align: right;\n",
       "    }\n",
       "</style>\n",
       "<table border=\"1\" class=\"dataframe\">\n",
       "  <thead>\n",
       "    <tr style=\"text-align: right;\">\n",
       "      <th></th>\n",
       "      <th>Name</th>\n",
       "      <th>Salary</th>\n",
       "    </tr>\n",
       "  </thead>\n",
       "  <tbody>\n",
       "    <tr>\n",
       "      <th>1</th>\n",
       "      <td>Azziz</td>\n",
       "      <td>35000.0</td>\n",
       "    </tr>\n",
       "    <tr>\n",
       "      <th>2</th>\n",
       "      <td>Mohsin</td>\n",
       "      <td>50000.0</td>\n",
       "    </tr>\n",
       "    <tr>\n",
       "      <th>3</th>\n",
       "      <td>Naveed Fatima</td>\n",
       "      <td>70000.0</td>\n",
       "    </tr>\n",
       "    <tr>\n",
       "      <th>4</th>\n",
       "      <td>Babar</td>\n",
       "      <td>1500000.0</td>\n",
       "    </tr>\n",
       "  </tbody>\n",
       "</table>\n",
       "</div>"
      ],
      "text/plain": [
       "            Name     Salary\n",
       "1          Azziz    35000.0\n",
       "2         Mohsin    50000.0\n",
       "3  Naveed Fatima    70000.0\n",
       "4          Babar  1500000.0"
      ]
     },
     "execution_count": 51,
     "metadata": {},
     "output_type": "execute_result"
    }
   ],
   "source": [
    "# display columns values at specific index\n",
    "df1=df.loc[1:4,['Name','Salary']]\n",
    "print(\"Selected rows and columns\")\n",
    "df1"
   ]
  },
  {
   "cell_type": "code",
   "execution_count": 52,
   "metadata": {},
   "outputs": [
    {
     "data": {
      "text/plain": [
       "Name           0\n",
       "Designation    0\n",
       "Gender         0\n",
       "Age            1\n",
       "Salary         2\n",
       "dtype: int64"
      ]
     },
     "execution_count": 52,
     "metadata": {},
     "output_type": "execute_result"
    }
   ],
   "source": [
    "# check null values\n",
    "qurat=df\n",
    "qurat.isnull().sum()"
   ]
  },
  {
   "cell_type": "code",
   "execution_count": 53,
   "metadata": {},
   "outputs": [
    {
     "name": "stdout",
     "output_type": "stream",
     "text": [
      "Data after dropping index 5-9\n",
      "             Name Designation Gender    Age     Salary\n",
      "0         Mukhtar   Professor      M   37.0   115000.0\n",
      "1           Azziz     Teacher      M   30.0    35000.0\n",
      "2          Mohsin    Engineer      M   29.0    50000.0\n",
      "3   Naveed Fatima     Analyst      F   30.0    70000.0\n",
      "4           Babar    Engineer      F   25.0  1500000.0\n",
      "6           Rafia     Analyst      F   29.0    20000.0\n",
      "7           Samra   Scientist      F   26.0   115000.0\n",
      "8            Eman    Engineer      F   28.0    35000.0\n",
      "10          Mosib   professor      M   60.0    70000.0\n",
      "11          Ahmed    engineer      M    NaN    90000.0\n",
      "12          Ahsan     trainer      M  156.0   110000.0\n",
      "13          Wajid     teacher      M   67.0     2000.0\n",
      "14          Naeem     trainer      M   80.0    16000.0\n",
      "15         Qaisar   professor      M   20.0   170000.0\n",
      "16          Wajid    Engineer      M   85.0   190000.0\n"
     ]
    }
   ],
   "source": [
    "#drop values at 2 indexes\n",
    "nd=df.drop(index=[5,9])\n",
    "print(\"Data after dropping index 5-9\")\n",
    "print(nd)"
   ]
  },
  {
   "cell_type": "code",
   "execution_count": 54,
   "metadata": {},
   "outputs": [
    {
     "name": "stdout",
     "output_type": "stream",
     "text": [
      "Data after dropping column gender\n",
      "             Name Designation    Age     Salary\n",
      "0         Mukhtar   Professor   37.0   115000.0\n",
      "1           Azziz     Teacher   30.0    35000.0\n",
      "2          Mohsin    Engineer   29.0    50000.0\n",
      "3   Naveed Fatima     Analyst   30.0    70000.0\n",
      "4           Babar    Engineer   25.0  1500000.0\n",
      "5            Aqsa   Scientist   22.0        NaN\n",
      "6           Rafia     Analyst   29.0    20000.0\n",
      "7           Samra   Scientist   26.0   115000.0\n",
      "8            Eman    Engineer   28.0    35000.0\n",
      "9        Abdullah     Teacher   55.0        NaN\n",
      "10          Mosib   professor   60.0    70000.0\n",
      "11          Ahmed    engineer    NaN    90000.0\n",
      "12          Ahsan     trainer  156.0   110000.0\n",
      "13          Wajid     teacher   67.0     2000.0\n",
      "14          Naeem     trainer   80.0    16000.0\n",
      "15         Qaisar   professor   20.0   170000.0\n",
      "16          Wajid    Engineer   85.0   190000.0\n"
     ]
    }
   ],
   "source": [
    "#drop a specific feature or column\n",
    "nc=df.drop(columns='Gender')\n",
    "print(\"Data after dropping column gender\")\n",
    "print(nc)"
   ]
  },
  {
   "cell_type": "code",
   "execution_count": 55,
   "metadata": {},
   "outputs": [
    {
     "name": "stdout",
     "output_type": "stream",
     "text": [
      "Data after dropping column gender and age\n",
      "             Name Designation     Salary\n",
      "0         Mukhtar   Professor   115000.0\n",
      "1           Azziz     Teacher    35000.0\n",
      "2          Mohsin    Engineer    50000.0\n",
      "3   Naveed Fatima     Analyst    70000.0\n",
      "4           Babar    Engineer  1500000.0\n",
      "5            Aqsa   Scientist        NaN\n",
      "6           Rafia     Analyst    20000.0\n",
      "7           Samra   Scientist   115000.0\n",
      "8            Eman    Engineer    35000.0\n",
      "9        Abdullah     Teacher        NaN\n",
      "10          Mosib   professor    70000.0\n",
      "11          Ahmed    engineer    90000.0\n",
      "12          Ahsan     trainer   110000.0\n",
      "13          Wajid     teacher     2000.0\n",
      "14          Naeem     trainer    16000.0\n",
      "15         Qaisar   professor   170000.0\n",
      "16          Wajid    Engineer   190000.0\n"
     ]
    }
   ],
   "source": [
    "\n",
    "#drop two columns\n",
    "nc=df.drop(columns=['Gender','Age'])\n",
    "print(\"Data after dropping column gender and age\")\n",
    "print(nc)"
   ]
  },
  {
   "cell_type": "code",
   "execution_count": 56,
   "metadata": {},
   "outputs": [
    {
     "data": {
      "text/plain": [
       "0      37.0000\n",
       "1      30.0000\n",
       "2      29.0000\n",
       "3      30.0000\n",
       "4      25.0000\n",
       "5      22.0000\n",
       "6      29.0000\n",
       "7      26.0000\n",
       "8      28.0000\n",
       "9      55.0000\n",
       "10     60.0000\n",
       "11     48.6875\n",
       "12    156.0000\n",
       "13     67.0000\n",
       "14     80.0000\n",
       "15     20.0000\n",
       "16     85.0000\n",
       "Name: Age, dtype: float64"
      ]
     },
     "execution_count": 56,
     "metadata": {},
     "output_type": "execute_result"
    }
   ],
   "source": [
    "df['Age']=df['Age'].fillna(df['Age'].mean())\n",
    "df['Age']"
   ]
  },
  {
   "cell_type": "code",
   "execution_count": 57,
   "metadata": {},
   "outputs": [
    {
     "name": "stdout",
     "output_type": "stream",
     "text": [
      "check for null values now\n",
      "0\n"
     ]
    }
   ],
   "source": [
    "print('check for null values now')\n",
    "print(df['Age'].isnull().sum())"
   ]
  },
  {
   "cell_type": "code",
   "execution_count": 58,
   "metadata": {},
   "outputs": [
    {
     "name": "stdout",
     "output_type": "stream",
     "text": [
      "             Name Designation Gender       Age     Salary\n",
      "0         Mukhtar   Professor      M   37.0000   115000.0\n",
      "1           Azziz     Teacher      M   30.0000    35000.0\n",
      "2          Mohsin    Engineer      M   29.0000    50000.0\n",
      "3   Naveed Fatima     Analyst      F   30.0000    70000.0\n",
      "4           Babar    Engineer      F   25.0000  1500000.0\n",
      "6           Rafia     Analyst      F   29.0000    20000.0\n",
      "7           Samra   Scientist      F   26.0000   115000.0\n",
      "8            Eman    Engineer      F   28.0000    35000.0\n",
      "10          Mosib   professor      M   60.0000    70000.0\n",
      "11          Ahmed    engineer      M   48.6875    90000.0\n",
      "12          Ahsan     trainer      M  156.0000   110000.0\n",
      "13          Wajid     teacher      M   67.0000     2000.0\n",
      "14          Naeem     trainer      M   80.0000    16000.0\n",
      "15         Qaisar   professor      M   20.0000   170000.0\n",
      "16          Wajid    Engineer      M   85.0000   190000.0\n"
     ]
    }
   ],
   "source": [
    "df = df.dropna(subset=['Salary'])\n",
    "print(df)"
   ]
  },
  {
   "cell_type": "code",
   "execution_count": 59,
   "metadata": {},
   "outputs": [
    {
     "name": "stdout",
     "output_type": "stream",
     "text": [
      "             Name Designation Gender       Age     Salary\n",
      "0         Mukhtar   Professor      M   37.0000   115000.0\n",
      "3   Naveed Fatima     Analyst      F   30.0000    70000.0\n",
      "4           Babar    Engineer      F   25.0000  1500000.0\n",
      "7           Samra   Scientist      F   26.0000   115000.0\n",
      "10          Mosib   professor      M   60.0000    70000.0\n",
      "11          Ahmed    engineer      M   48.6875    90000.0\n",
      "12          Ahsan     trainer      M  156.0000   110000.0\n",
      "15         Qaisar   professor      M   20.0000   170000.0\n",
      "16          Wajid    Engineer      M   85.0000   190000.0\n"
     ]
    }
   ],
   "source": [
    "# high salary greater than 50000\n",
    "hs= df[df['Salary']>50000]\n",
    "print(hs)"
   ]
  },
  {
   "cell_type": "code",
   "execution_count": 60,
   "metadata": {},
   "outputs": [
    {
     "name": "stdout",
     "output_type": "stream",
     "text": [
      "             Name Designation Gender       Age     Salary\n",
      "15         Qaisar   professor      M   20.0000   170000.0\n",
      "4           Babar    Engineer      F   25.0000  1500000.0\n",
      "7           Samra   Scientist      F   26.0000   115000.0\n",
      "8            Eman    Engineer      F   28.0000    35000.0\n",
      "6           Rafia     Analyst      F   29.0000    20000.0\n",
      "2          Mohsin    Engineer      M   29.0000    50000.0\n",
      "3   Naveed Fatima     Analyst      F   30.0000    70000.0\n",
      "1           Azziz     Teacher      M   30.0000    35000.0\n",
      "0         Mukhtar   Professor      M   37.0000   115000.0\n",
      "11          Ahmed    engineer      M   48.6875    90000.0\n",
      "10          Mosib   professor      M   60.0000    70000.0\n",
      "13          Wajid     teacher      M   67.0000     2000.0\n",
      "14          Naeem     trainer      M   80.0000    16000.0\n",
      "16          Wajid    Engineer      M   85.0000   190000.0\n",
      "12          Ahsan     trainer      M  156.0000   110000.0\n"
     ]
    }
   ],
   "source": [
    "#sort data\n",
    "sd=df.sort_values(by='Age',ascending=True)\n",
    "print(sd)"
   ]
  },
  {
   "cell_type": "code",
   "execution_count": 61,
   "metadata": {},
   "outputs": [
    {
     "name": "stdout",
     "output_type": "stream",
     "text": [
      "Designation\n",
      "Analyst       45000.0\n",
      "Engineer     443750.0\n",
      "Professor    115000.0\n",
      "Scientist    115000.0\n",
      "Teacher       35000.0\n",
      "engineer      90000.0\n",
      "professor    120000.0\n",
      "teacher        2000.0\n",
      "trainer       63000.0\n",
      "Name: Salary, dtype: float64\n"
     ]
    }
   ],
   "source": [
    "#grouped and aggregate\n",
    "grp=df.groupby('Designation')['Salary'].mean()\n",
    "print(grp)"
   ]
  },
  {
   "cell_type": "code",
   "execution_count": 62,
   "metadata": {},
   "outputs": [
    {
     "name": "stdout",
     "output_type": "stream",
     "text": [
      "\n",
      " Add a new column Experience level\n",
      "             Name Designation Gender       Age     Salary Experience_level\n",
      "0         Mukhtar   Professor      M   37.0000   115000.0           Senior\n",
      "1           Azziz     Teacher      M   30.0000    35000.0           Junior\n",
      "2          Mohsin    Engineer      M   29.0000    50000.0           Junior\n",
      "3   Naveed Fatima     Analyst      F   30.0000    70000.0           Junior\n",
      "4           Babar    Engineer      F   25.0000  1500000.0           Junior\n",
      "6           Rafia     Analyst      F   29.0000    20000.0           Junior\n",
      "7           Samra   Scientist      F   26.0000   115000.0           Junior\n",
      "8            Eman    Engineer      F   28.0000    35000.0           Junior\n",
      "10          Mosib   professor      M   60.0000    70000.0           Senior\n",
      "11          Ahmed    engineer      M   48.6875    90000.0           Senior\n",
      "12          Ahsan     trainer      M  156.0000   110000.0           Senior\n",
      "13          Wajid     teacher      M   67.0000     2000.0           Senior\n",
      "14          Naeem     trainer      M   80.0000    16000.0           Senior\n",
      "15         Qaisar   professor      M   20.0000   170000.0           Junior\n",
      "16          Wajid    Engineer      M   85.0000   190000.0           Senior\n"
     ]
    },
    {
     "name": "stderr",
     "output_type": "stream",
     "text": [
      "C:\\Users\\qurat\\AppData\\Local\\Temp\\ipykernel_11728\\2912126390.py:2: SettingWithCopyWarning: \n",
      "A value is trying to be set on a copy of a slice from a DataFrame.\n",
      "Try using .loc[row_indexer,col_indexer] = value instead\n",
      "\n",
      "See the caveats in the documentation: https://pandas.pydata.org/pandas-docs/stable/user_guide/indexing.html#returning-a-view-versus-a-copy\n",
      "  df['Experience_level']=['Senior'if age>35 else 'Junior'for age in df['Age']]\n"
     ]
    }
   ],
   "source": [
    "#step8:Enter a new column\n",
    "df['Experience_level']=['Senior'if age>35 else 'Junior'for age in df['Age']]\n",
    "print(\"\\n Add a new column Experience level\")\n",
    "print (df)"
   ]
  },
  {
   "cell_type": "code",
   "execution_count": null,
   "metadata": {},
   "outputs": [],
   "source": []
  }
 ],
 "metadata": {
  "kernelspec": {
   "display_name": "Python 3",
   "language": "python",
   "name": "python3"
  },
  "language_info": {
   "codemirror_mode": {
    "name": "ipython",
    "version": 3
   },
   "file_extension": ".py",
   "mimetype": "text/x-python",
   "name": "python",
   "nbconvert_exporter": "python",
   "pygments_lexer": "ipython3",
   "version": "3.13.2"
  }
 },
 "nbformat": 4,
 "nbformat_minor": 2
}
