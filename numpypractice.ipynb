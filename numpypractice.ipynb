{
 "cells": [
  {
   "cell_type": "markdown",
   "metadata": {},
   "source": [
    "<center>Name:Quratulain<br>\n",
    "Email:QuratulainkhanAIML1@hotmail.com<br>\n",
    "Github:QuratulainkhanAIML1<br>\n",
    "Title: NumpyPracticebyq</center>"
   ]
  },
  {
   "cell_type": "markdown",
   "metadata": {},
   "source": [
    "Install Required Libraries"
   ]
  },
  {
   "cell_type": "code",
   "execution_count": 3,
   "metadata": {},
   "outputs": [
    {
     "name": "stdout",
     "output_type": "stream",
     "text": [
      "Requirement already satisfied: pandas in c:\\users\\qurat\\appdata\\local\\programs\\python\\python313\\lib\\site-packages (2.2.3)\n",
      "Requirement already satisfied: numpy>=1.26.0 in c:\\users\\qurat\\appdata\\local\\programs\\python\\python313\\lib\\site-packages (from pandas) (2.2.3)\n",
      "Requirement already satisfied: python-dateutil>=2.8.2 in c:\\users\\qurat\\appdata\\roaming\\python\\python313\\site-packages (from pandas) (2.9.0.post0)\n",
      "Requirement already satisfied: pytz>=2020.1 in c:\\users\\qurat\\appdata\\local\\programs\\python\\python313\\lib\\site-packages (from pandas) (2025.1)\n",
      "Requirement already satisfied: tzdata>=2022.7 in c:\\users\\qurat\\appdata\\local\\programs\\python\\python313\\lib\\site-packages (from pandas) (2025.1)\n",
      "Requirement already satisfied: six>=1.5 in c:\\users\\qurat\\appdata\\roaming\\python\\python313\\site-packages (from python-dateutil>=2.8.2->pandas) (1.17.0)\n",
      "Note: you may need to restart the kernel to use updated packages.\n",
      "Requirement already satisfied: numpy in c:\\users\\qurat\\appdata\\local\\programs\\python\\python313\\lib\\site-packages (2.2.3)\n",
      "Note: you may need to restart the kernel to use updated packages.\n"
     ]
    }
   ],
   "source": [
    "%pip install pandas\n",
    "%pip install numpy"
   ]
  },
  {
   "cell_type": "markdown",
   "metadata": {},
   "source": [
    "import libraries"
   ]
  },
  {
   "cell_type": "code",
   "execution_count": 4,
   "metadata": {},
   "outputs": [],
   "source": [
    "import pandas as pd\n",
    "import numpy as np"
   ]
  },
  {
   "cell_type": "markdown",
   "metadata": {},
   "source": [
    "Load the Data:"
   ]
  },
  {
   "cell_type": "code",
   "execution_count": 5,
   "metadata": {},
   "outputs": [],
   "source": [
    "df=pd.read_csv('data.csv')"
   ]
  },
  {
   "cell_type": "code",
   "execution_count": 6,
   "metadata": {},
   "outputs": [
    {
     "data": {
      "text/html": [
       "<div>\n",
       "<style scoped>\n",
       "    .dataframe tbody tr th:only-of-type {\n",
       "        vertical-align: middle;\n",
       "    }\n",
       "\n",
       "    .dataframe tbody tr th {\n",
       "        vertical-align: top;\n",
       "    }\n",
       "\n",
       "    .dataframe thead th {\n",
       "        text-align: right;\n",
       "    }\n",
       "</style>\n",
       "<table border=\"1\" class=\"dataframe\">\n",
       "  <thead>\n",
       "    <tr style=\"text-align: right;\">\n",
       "      <th></th>\n",
       "      <th>Name</th>\n",
       "      <th>Designation</th>\n",
       "      <th>Gender</th>\n",
       "      <th>Age</th>\n",
       "      <th>Salary</th>\n",
       "    </tr>\n",
       "  </thead>\n",
       "  <tbody>\n",
       "    <tr>\n",
       "      <th>0</th>\n",
       "      <td>Mukhtar</td>\n",
       "      <td>Professor</td>\n",
       "      <td>M</td>\n",
       "      <td>37.0</td>\n",
       "      <td>115000.0</td>\n",
       "    </tr>\n",
       "    <tr>\n",
       "      <th>1</th>\n",
       "      <td>Azziz</td>\n",
       "      <td>Teacher</td>\n",
       "      <td>M</td>\n",
       "      <td>30.0</td>\n",
       "      <td>35000.0</td>\n",
       "    </tr>\n",
       "    <tr>\n",
       "      <th>2</th>\n",
       "      <td>Mohsin</td>\n",
       "      <td>Engineer</td>\n",
       "      <td>M</td>\n",
       "      <td>29.0</td>\n",
       "      <td>50000.0</td>\n",
       "    </tr>\n",
       "    <tr>\n",
       "      <th>3</th>\n",
       "      <td>Naveed Fatima</td>\n",
       "      <td>Analyst</td>\n",
       "      <td>F</td>\n",
       "      <td>30.0</td>\n",
       "      <td>70000.0</td>\n",
       "    </tr>\n",
       "    <tr>\n",
       "      <th>4</th>\n",
       "      <td>Babar</td>\n",
       "      <td>Engineer</td>\n",
       "      <td>F</td>\n",
       "      <td>25.0</td>\n",
       "      <td>1500000.0</td>\n",
       "    </tr>\n",
       "    <tr>\n",
       "      <th>5</th>\n",
       "      <td>Aqsa</td>\n",
       "      <td>Scientist</td>\n",
       "      <td>F</td>\n",
       "      <td>22.0</td>\n",
       "      <td>NaN</td>\n",
       "    </tr>\n",
       "    <tr>\n",
       "      <th>6</th>\n",
       "      <td>Rafia</td>\n",
       "      <td>Analyst</td>\n",
       "      <td>F</td>\n",
       "      <td>29.0</td>\n",
       "      <td>20000.0</td>\n",
       "    </tr>\n",
       "    <tr>\n",
       "      <th>7</th>\n",
       "      <td>Samra</td>\n",
       "      <td>Scientist</td>\n",
       "      <td>F</td>\n",
       "      <td>26.0</td>\n",
       "      <td>115000.0</td>\n",
       "    </tr>\n",
       "    <tr>\n",
       "      <th>8</th>\n",
       "      <td>Eman</td>\n",
       "      <td>Engineer</td>\n",
       "      <td>F</td>\n",
       "      <td>28.0</td>\n",
       "      <td>35000.0</td>\n",
       "    </tr>\n",
       "    <tr>\n",
       "      <th>9</th>\n",
       "      <td>Abdullah</td>\n",
       "      <td>Teacher</td>\n",
       "      <td>M</td>\n",
       "      <td>55.0</td>\n",
       "      <td>NaN</td>\n",
       "    </tr>\n",
       "    <tr>\n",
       "      <th>10</th>\n",
       "      <td>Mosib</td>\n",
       "      <td>professor</td>\n",
       "      <td>M</td>\n",
       "      <td>60.0</td>\n",
       "      <td>70000.0</td>\n",
       "    </tr>\n",
       "    <tr>\n",
       "      <th>11</th>\n",
       "      <td>Ahmed</td>\n",
       "      <td>engineer</td>\n",
       "      <td>M</td>\n",
       "      <td>NaN</td>\n",
       "      <td>90000.0</td>\n",
       "    </tr>\n",
       "    <tr>\n",
       "      <th>12</th>\n",
       "      <td>Ahsan</td>\n",
       "      <td>trainer</td>\n",
       "      <td>M</td>\n",
       "      <td>156.0</td>\n",
       "      <td>110000.0</td>\n",
       "    </tr>\n",
       "    <tr>\n",
       "      <th>13</th>\n",
       "      <td>Wajid</td>\n",
       "      <td>teacher</td>\n",
       "      <td>M</td>\n",
       "      <td>67.0</td>\n",
       "      <td>2000.0</td>\n",
       "    </tr>\n",
       "    <tr>\n",
       "      <th>14</th>\n",
       "      <td>Naeem</td>\n",
       "      <td>trainer</td>\n",
       "      <td>M</td>\n",
       "      <td>80.0</td>\n",
       "      <td>16000.0</td>\n",
       "    </tr>\n",
       "    <tr>\n",
       "      <th>15</th>\n",
       "      <td>Qaisar</td>\n",
       "      <td>professor</td>\n",
       "      <td>M</td>\n",
       "      <td>20.0</td>\n",
       "      <td>170000.0</td>\n",
       "    </tr>\n",
       "    <tr>\n",
       "      <th>16</th>\n",
       "      <td>Wajid</td>\n",
       "      <td>Engineer</td>\n",
       "      <td>M</td>\n",
       "      <td>85.0</td>\n",
       "      <td>190000.0</td>\n",
       "    </tr>\n",
       "  </tbody>\n",
       "</table>\n",
       "</div>"
      ],
      "text/plain": [
       "             Name Designation Gender    Age     Salary\n",
       "0         Mukhtar   Professor      M   37.0   115000.0\n",
       "1           Azziz     Teacher      M   30.0    35000.0\n",
       "2          Mohsin    Engineer      M   29.0    50000.0\n",
       "3   Naveed Fatima     Analyst      F   30.0    70000.0\n",
       "4           Babar    Engineer      F   25.0  1500000.0\n",
       "5            Aqsa   Scientist      F   22.0        NaN\n",
       "6           Rafia     Analyst      F   29.0    20000.0\n",
       "7           Samra   Scientist      F   26.0   115000.0\n",
       "8            Eman    Engineer      F   28.0    35000.0\n",
       "9        Abdullah     Teacher      M   55.0        NaN\n",
       "10          Mosib   professor      M   60.0    70000.0\n",
       "11          Ahmed    engineer      M    NaN    90000.0\n",
       "12          Ahsan     trainer      M  156.0   110000.0\n",
       "13          Wajid     teacher      M   67.0     2000.0\n",
       "14          Naeem     trainer      M   80.0    16000.0\n",
       "15         Qaisar   professor      M   20.0   170000.0\n",
       "16          Wajid    Engineer      M   85.0   190000.0"
      ]
     },
     "execution_count": 6,
     "metadata": {},
     "output_type": "execute_result"
    }
   ],
   "source": [
    "df"
   ]
  },
  {
   "cell_type": "markdown",
   "metadata": {},
   "source": [
    " Convert the DataFrame to a NumPy array"
   ]
  },
  {
   "cell_type": "code",
   "execution_count": 7,
   "metadata": {},
   "outputs": [
    {
     "name": "stdout",
     "output_type": "stream",
     "text": [
      "[['Mukhtar' 'Professor' 'M' 37.0 115000.0]\n",
      " ['Azziz' 'Teacher' 'M' 30.0 35000.0]\n",
      " ['Mohsin' 'Engineer' 'M' 29.0 50000.0]\n",
      " ['Naveed Fatima' 'Analyst' 'F' 30.0 70000.0]\n",
      " ['Babar' 'Engineer' 'F' 25.0 1500000.0]\n",
      " ['Aqsa' 'Scientist' 'F' 22.0 nan]\n",
      " ['Rafia' 'Analyst' 'F' 29.0 20000.0]\n",
      " ['Samra' 'Scientist' 'F' 26.0 115000.0]\n",
      " ['Eman' 'Engineer' 'F' 28.0 35000.0]\n",
      " ['Abdullah' 'Teacher' 'M' 55.0 nan]\n",
      " ['Mosib' 'professor' 'M' 60.0 70000.0]\n",
      " ['Ahmed' 'engineer' 'M' nan 90000.0]\n",
      " ['Ahsan' 'trainer' 'M' 156.0 110000.0]\n",
      " ['Wajid' 'teacher' 'M' 67.0 2000.0]\n",
      " ['Naeem' 'trainer' 'M' 80.0 16000.0]\n",
      " ['Qaisar' 'professor' 'M' 20.0 170000.0]\n",
      " ['Wajid' 'Engineer' 'M' 85.0 190000.0]]\n"
     ]
    }
   ],
   "source": [
    "data_array = df.to_numpy()\n",
    "print(data_array)"
   ]
  },
  {
   "cell_type": "markdown",
   "metadata": {},
   "source": [
    "Handle Missing Data:"
   ]
  },
  {
   "cell_type": "markdown",
   "metadata": {},
   "source": [
    "Replace 'nan' with a specific value, e.g., 0"
   ]
  },
  {
   "cell_type": "code",
   "execution_count": 8,
   "metadata": {},
   "outputs": [
    {
     "name": "stdout",
     "output_type": "stream",
     "text": [
      "[['Mukhtar' 'Professor' 'M' 37.0 115000.0]\n",
      " ['Azziz' 'Teacher' 'M' 30.0 35000.0]\n",
      " ['Mohsin' 'Engineer' 'M' 29.0 50000.0]\n",
      " ['Naveed Fatima' 'Analyst' 'F' 30.0 70000.0]\n",
      " ['Babar' 'Engineer' 'F' 25.0 1500000.0]\n",
      " ['Aqsa' 'Scientist' 'F' 22.0 nan]\n",
      " ['Rafia' 'Analyst' 'F' 29.0 20000.0]\n",
      " ['Samra' 'Scientist' 'F' 26.0 115000.0]\n",
      " ['Eman' 'Engineer' 'F' 28.0 35000.0]\n",
      " ['Abdullah' 'Teacher' 'M' 55.0 nan]\n",
      " ['Mosib' 'professor' 'M' 60.0 70000.0]\n",
      " ['Ahmed' 'engineer' 'M' nan 90000.0]\n",
      " ['Ahsan' 'trainer' 'M' 156.0 110000.0]\n",
      " ['Wajid' 'teacher' 'M' 67.0 2000.0]\n",
      " ['Naeem' 'trainer' 'M' 80.0 16000.0]\n",
      " ['Qaisar' 'professor' 'M' 20.0 170000.0]\n",
      " ['Wajid' 'Engineer' 'M' 85.0 190000.0]]\n"
     ]
    }
   ],
   "source": [
    "data_array = np.nan_to_num(data_array, nan=0)\n",
    "\n",
    "print(data_array)\n"
   ]
  },
  {
   "cell_type": "markdown",
   "metadata": {},
   "source": [
    "Perform Operations:"
   ]
  },
  {
   "cell_type": "markdown",
   "metadata": {},
   "source": [
    "Assuming the salary is in the 5th column (index 4)"
   ]
  },
  {
   "cell_type": "code",
   "execution_count": 9,
   "metadata": {},
   "outputs": [
    {
     "name": "stdout",
     "output_type": "stream",
     "text": [
      "Average Salary: nan\n"
     ]
    }
   ],
   "source": [
    "salaries = data_array[:, 4].astype(float)\n",
    "average_salary = np.mean(salaries)\n",
    "\n",
    "print(f\"Average Salary: {average_salary}\")"
   ]
  },
  {
   "cell_type": "markdown",
   "metadata": {},
   "source": [
    "Filter Data:\n",
    " Assuming age is in the 4th column (index 3)"
   ]
  },
  {
   "cell_type": "code",
   "execution_count": 10,
   "metadata": {},
   "outputs": [
    {
     "name": "stdout",
     "output_type": "stream",
     "text": [
      "[['Mukhtar' 'Professor' 'M' 37.0 115000.0]\n",
      " ['Abdullah' 'Teacher' 'M' 55.0 nan]\n",
      " ['Mosib' 'professor' 'M' 60.0 70000.0]\n",
      " ['Ahsan' 'trainer' 'M' 156.0 110000.0]\n",
      " ['Wajid' 'teacher' 'M' 67.0 2000.0]\n",
      " ['Naeem' 'trainer' 'M' 80.0 16000.0]\n",
      " ['Wajid' 'Engineer' 'M' 85.0 190000.0]]\n"
     ]
    }
   ],
   "source": [
    "ages = data_array[:, 3].astype(float)\n",
    "filtered_data = data_array[ages > 30]\n",
    "\n",
    "print(filtered_data)"
   ]
  },
  {
   "cell_type": "markdown",
   "metadata": {},
   "source": [
    "Sort Data:Sort by salary (5th column, index 4)"
   ]
  },
  {
   "cell_type": "code",
   "execution_count": 11,
   "metadata": {},
   "outputs": [
    {
     "name": "stdout",
     "output_type": "stream",
     "text": [
      "[['Wajid' 'teacher' 'M' 67.0 2000.0]\n",
      " ['Naeem' 'trainer' 'M' 80.0 16000.0]\n",
      " ['Rafia' 'Analyst' 'F' 29.0 20000.0]\n",
      " ['Azziz' 'Teacher' 'M' 30.0 35000.0]\n",
      " ['Eman' 'Engineer' 'F' 28.0 35000.0]\n",
      " ['Mohsin' 'Engineer' 'M' 29.0 50000.0]\n",
      " ['Naveed Fatima' 'Analyst' 'F' 30.0 70000.0]\n",
      " ['Mosib' 'professor' 'M' 60.0 70000.0]\n",
      " ['Ahmed' 'engineer' 'M' nan 90000.0]\n",
      " ['Ahsan' 'trainer' 'M' 156.0 110000.0]\n",
      " ['Mukhtar' 'Professor' 'M' 37.0 115000.0]\n",
      " ['Samra' 'Scientist' 'F' 26.0 115000.0]\n",
      " ['Qaisar' 'professor' 'M' 20.0 170000.0]\n",
      " ['Wajid' 'Engineer' 'M' 85.0 190000.0]\n",
      " ['Babar' 'Engineer' 'F' 25.0 1500000.0]\n",
      " ['Aqsa' 'Scientist' 'F' 22.0 nan]\n",
      " ['Abdullah' 'Teacher' 'M' 55.0 nan]]\n"
     ]
    }
   ],
   "source": [
    "sorted_indices = np.argsort(data_array[:, 4].astype(float))\n",
    "sorted_data = data_array[sorted_indices]\n",
    "\n",
    "print(sorted_data)"
   ]
  },
  {
   "cell_type": "markdown",
   "metadata": {},
   "source": [
    "1D Array"
   ]
  },
  {
   "cell_type": "code",
   "execution_count": 12,
   "metadata": {},
   "outputs": [
    {
     "name": "stdout",
     "output_type": "stream",
     "text": [
      "[1 2 3 4 5]\n"
     ]
    }
   ],
   "source": [
    "arr=np.array([1,2,3,4,5])\n",
    "print(arr)"
   ]
  },
  {
   "cell_type": "code",
   "execution_count": 13,
   "metadata": {},
   "outputs": [
    {
     "name": "stdout",
     "output_type": "stream",
     "text": [
      "<class 'numpy.ndarray'>\n"
     ]
    }
   ],
   "source": [
    "print(type(arr))"
   ]
  },
  {
   "cell_type": "markdown",
   "metadata": {},
   "source": [
    "## 2d array\n",
    "height and width"
   ]
  },
  {
   "cell_type": "code",
   "execution_count": 14,
   "metadata": {},
   "outputs": [
    {
     "name": "stdout",
     "output_type": "stream",
     "text": [
      "[[1 2 3]\n",
      " [4 5 6]]\n"
     ]
    }
   ],
   "source": [
    "arr1=np.array([[1,2,3],[4,5,6]])\n",
    "print(arr1)"
   ]
  },
  {
   "cell_type": "markdown",
   "metadata": {},
   "source": [
    "## 3d array\n",
    "height and width and depth"
   ]
  },
  {
   "cell_type": "code",
   "execution_count": 15,
   "metadata": {},
   "outputs": [
    {
     "name": "stdout",
     "output_type": "stream",
     "text": [
      "[[[1 2 3]\n",
      "  [4 5 6]]\n",
      "\n",
      " [[1 2 3]\n",
      "  [4 5 6]]]\n"
     ]
    }
   ],
   "source": [
    "arr=np.array([[[1,2,3],[4,5,6]],[[1,2,3],[4,5,6]]])\n",
    "print(arr)"
   ]
  },
  {
   "cell_type": "markdown",
   "metadata": {},
   "source": [
    "## Array creation using build in method\n",
    "np.zeros()\n",
    "\n",
    "np.ones()\n",
    "\n",
    "np.full()\n",
    "\n",
    "np.arange()\n",
    "\n",
    "np.linspace()"
   ]
  },
  {
   "cell_type": "code",
   "execution_count": 16,
   "metadata": {},
   "outputs": [
    {
     "name": "stdout",
     "output_type": "stream",
     "text": [
      "zero's array= \n",
      " [[0. 0. 0.]\n",
      " [0. 0. 0.]]\n",
      "one's array= \n",
      " [[1. 1. 1. 1.]\n",
      " [1. 1. 1. 1.]\n",
      " [1. 1. 1. 1.]]\n",
      "constant_array =\n",
      " [[4 4]\n",
      " [4 4]]\n",
      "Arrange array =\n",
      " [0 2 4 6 8]\n",
      "linespace_array=\n",
      " [0.   0.25 0.5  0.75 1.  ]\n"
     ]
    }
   ],
   "source": [
    "zarray=np.zeros((2,3))\n",
    "onesarray=np.ones((3,4))\n",
    "constant_array=np.full((2,2),4)\n",
    "\n",
    "range_arr=np.arange(0,10,2)#start, stop, stepsize\n",
    "\n",
    "linespace_arr=np.linspace(0,1,5)#start, stop, interval\n",
    "print(\"zero's array= \\n\",zarray)\n",
    "print(\"one's array= \\n\",onesarray)\n",
    "print(\"constant_array =\\n\",constant_array)\n",
    "print(\"Arrange array =\\n\",range_arr)\n",
    "print(\"linespace_array=\\n\",linespace_arr)"
   ]
  },
  {
   "cell_type": "markdown",
   "metadata": {},
   "source": [
    "## Creating array using random number generation\n",
    "\n",
    "np.random.rand() from 0 to 1\n",
    "\n",
    "np.random.randn()  from specific distrivution\n",
    "\n",
    "np.random.randint() from given range"
   ]
  },
  {
   "cell_type": "code",
   "execution_count": 19,
   "metadata": {},
   "outputs": [
    {
     "name": "stdout",
     "output_type": "stream",
     "text": [
      "[[0.36838584 0.63565584 0.88283436]\n",
      " [0.0946839  0.69145915 0.76849098]]\n",
      "\n",
      " [[0.36838584 0.63565584 0.88283436]\n",
      " [0.0946839  0.69145915 0.76849098]]\n",
      "\n",
      " 5\n"
     ]
    }
   ],
   "source": [
    "random_array=np.random.rand(2,3)\n",
    "print(random_array)\n",
    "normal_array=np.random.randn(2,3)\n",
    "print(\"\\n\",random_array)\n",
    "randint_array=np.random.randint(2,9)\n",
    "print(\"\\n\",randint_array)"
   ]
  },
  {
   "cell_type": "markdown",
   "metadata": {},
   "source": [
    "## numpy array attribute and methods"
   ]
  },
  {
   "cell_type": "markdown",
   "metadata": {},
   "source": [
    "Reshaping"
   ]
  },
  {
   "cell_type": "code",
   "execution_count": 21,
   "metadata": {},
   "outputs": [
    {
     "name": "stdout",
     "output_type": "stream",
     "text": [
      "[[ 1  2  3  4  5]\n",
      " [ 6  7  8  9 10]]\n"
     ]
    }
   ],
   "source": [
    "arr=np.array([1,2,3,4,5,6,7,8,9,10])\n",
    "newarr=arr.reshape(2,5) #important in image filterring\n",
    "print(newarr)"
   ]
  },
  {
   "cell_type": "markdown",
   "metadata": {},
   "source": [
    "## Remove dimensions"
   ]
  },
  {
   "cell_type": "code",
   "execution_count": 22,
   "metadata": {},
   "outputs": [
    {
     "name": "stdout",
     "output_type": "stream",
     "text": [
      "[ 1  2  3  4  5  6  7  8  9 10]\n"
     ]
    }
   ],
   "source": [
    "newarr=newarr.reshape(-1)\n",
    "print(newarr)"
   ]
  },
  {
   "cell_type": "markdown",
   "metadata": {},
   "source": [
    "## Dimension Checking"
   ]
  },
  {
   "cell_type": "code",
   "execution_count": 24,
   "metadata": {},
   "outputs": [
    {
     "name": "stdout",
     "output_type": "stream",
     "text": [
      "0\n",
      "1\n",
      "2\n"
     ]
    }
   ],
   "source": [
    "a=np.array(43)\n",
    "b=np.array([1,3,45])\n",
    "c=np.array([[2,4],[2,7]])\n",
    "\n",
    "print(a.ndim)\n",
    "print(b.ndim)\n",
    "print(c.ndim)"
   ]
  },
  {
   "cell_type": "markdown",
   "metadata": {},
   "source": [
    "## Using ndim Creating Dimensions"
   ]
  },
  {
   "cell_type": "code",
   "execution_count": 25,
   "metadata": {},
   "outputs": [
    {
     "name": "stdout",
     "output_type": "stream",
     "text": [
      "[[[[[1 2 3 4 5]]]]]\n",
      "5\n"
     ]
    }
   ],
   "source": [
    "arr=np.array([1,2,3,4,5],ndmin=5)\n",
    "print(arr)\n",
    "print(arr.ndim)"
   ]
  },
  {
   "cell_type": "markdown",
   "metadata": {},
   "source": [
    "## Array Shape"
   ]
  },
  {
   "cell_type": "code",
   "execution_count": 26,
   "metadata": {},
   "outputs": [
    {
     "name": "stdout",
     "output_type": "stream",
     "text": [
      "(2, 3)\n"
     ]
    }
   ],
   "source": [
    "arr=np.array([[1,2,3],[4,5,6]])\n",
    "print(arr.shape)"
   ]
  },
  {
   "cell_type": "markdown",
   "metadata": {},
   "source": [
    "## Data Type of Array\n",
    "\n",
    "i-integer\n",
    "f-float\n",
    "c-complex float\n",
    "u-unsigned int\n",
    "m-timedelta\n",
    "S-string"
   ]
  },
  {
   "cell_type": "code",
   "execution_count": 27,
   "metadata": {},
   "outputs": [
    {
     "name": "stdout",
     "output_type": "stream",
     "text": [
      "<U6\n",
      "|S1\n",
      "float32\n"
     ]
    }
   ],
   "source": [
    "arr=np.array([\"Apple\",\"Banana\",\"Cherry\"])\n",
    "print(arr.dtype)\n",
    "arr=np.array([1,2,3,4,5], dtype='S')\n",
    "print(arr.dtype)\n",
    "arr=np.array([1,2,3,4,5], dtype='f')\n",
    "print(arr.dtype)"
   ]
  },
  {
   "cell_type": "markdown",
   "metadata": {},
   "source": [
    "##Copying"
   ]
  },
  {
   "cell_type": "code",
   "execution_count": 28,
   "metadata": {},
   "outputs": [
    {
     "name": "stdout",
     "output_type": "stream",
     "text": [
      "[array([1, 2]), array([3, 4]), array([5, 6])]\n",
      "[array([[1, 2, 3, 4, 5, 6]]), array([], shape=(0, 6), dtype=int64), array([], shape=(0, 6), dtype=int64)]\n"
     ]
    }
   ],
   "source": [
    "arr=np.array([1,2,3,4,5,6])\n",
    "newarr=np.array_split(arr,3)\n",
    "print(newarr)\n",
    "\n",
    "arr=np.array([[1,2,3,4,5,6]])\n",
    "newarr=np.array_split(arr,3)\n",
    "print(newarr)"
   ]
  },
  {
   "cell_type": "markdown",
   "metadata": {},
   "source": [
    "##Deleting"
   ]
  },
  {
   "cell_type": "code",
   "execution_count": 33,
   "metadata": {},
   "outputs": [
    {
     "name": "stdout",
     "output_type": "stream",
     "text": [
      "[0 1 2 3 4 5 6 7 8 9]\n",
      "[0 1 2 4 5 6 7 8 9]\n"
     ]
    }
   ],
   "source": [
    "arr1=np.arange(10)\n",
    "print(arr1)\n",
    "arr1=np.delete(arr1,3)\n",
    "print(arr1)"
   ]
  },
  {
   "cell_type": "code",
   "execution_count": null,
   "metadata": {},
   "outputs": [],
   "source": []
  }
 ],
 "metadata": {
  "kernelspec": {
   "display_name": "Python 3",
   "language": "python",
   "name": "python3"
  },
  "language_info": {
   "codemirror_mode": {
    "name": "ipython",
    "version": 3
   },
   "file_extension": ".py",
   "mimetype": "text/x-python",
   "name": "python",
   "nbconvert_exporter": "python",
   "pygments_lexer": "ipython3",
   "version": "3.13.2"
  }
 },
 "nbformat": 4,
 "nbformat_minor": 2
}
