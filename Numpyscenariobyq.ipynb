{
 "cells": [
  {
   "cell_type": "markdown",
   "id": "2a86eb83",
   "metadata": {},
   "source": [
    "<center>Name:Quratulain<br>\n",
    "Gmail:QuratulainkhanAIML1@outlook.com<br>\n",
    "Github:QuratulainkhanAIML1<br>\n",
    "Topic:Assignment1</center>"
   ]
  },
  {
   "cell_type": "code",
   "execution_count": 1,
   "id": "fa26f7e5",
   "metadata": {},
   "outputs": [],
   "source": [
    "import pandas as pd\n",
    "import numpy as np"
   ]
  },
  {
   "cell_type": "markdown",
   "id": "9f69c3f4",
   "metadata": {},
   "source": [
    "### Sales Data Analysis"
   ]
  },
  {
   "cell_type": "code",
   "execution_count": 2,
   "id": "9bfa6429",
   "metadata": {},
   "outputs": [
    {
     "data": {
      "text/plain": [
       "array([105, 150, 200, 125, 200, 250, 180, 110, 160, 230, 210, 190, 140,\n",
       "       180, 200, 120, 170, 334, 190, 100, 150, 210, 180, 130,  50, 200,\n",
       "       110, 160, 230])"
      ]
     },
     "execution_count": 2,
     "metadata": {},
     "output_type": "execute_result"
    }
   ],
   "source": [
    "Daily_sales =np.array([105, 150, 200, 125, 200, 250, 180, 110, 160, 230, 210, 190, 140, 180, 200, 120, 170, 334, 190, 100, 150, 210, 180, 130, 50, 200, 110, 160, 230])\n",
    "Daily_sales"
   ]
  },
  {
   "cell_type": "code",
   "execution_count": 3,
   "id": "90ade748",
   "metadata": {},
   "outputs": [
    {
     "data": {
      "text/plain": [
       "np.int64(4964)"
      ]
     },
     "execution_count": 3,
     "metadata": {},
     "output_type": "execute_result"
    }
   ],
   "source": [
    "Total_sales=Daily_sales.sum()\n",
    "Total_sales"
   ]
  },
  {
   "cell_type": "code",
   "execution_count": 4,
   "id": "b7fbeb12",
   "metadata": {},
   "outputs": [
    {
     "data": {
      "text/plain": [
       "np.float64(171.17241379310346)"
      ]
     },
     "execution_count": 4,
     "metadata": {},
     "output_type": "execute_result"
    }
   ],
   "source": [
    "Average_sales=Daily_sales.mean()\n",
    "Average_sales"
   ]
  },
  {
   "cell_type": "code",
   "execution_count": 5,
   "id": "baba10c9",
   "metadata": {},
   "outputs": [
    {
     "data": {
      "text/plain": [
       "np.int64(18)"
      ]
     },
     "execution_count": 5,
     "metadata": {},
     "output_type": "execute_result"
    }
   ],
   "source": [
    "Highest_Day_sales=Daily_sales.argmax()+1\n",
    "Highest_Day_sales"
   ]
  },
  {
   "cell_type": "code",
   "execution_count": 6,
   "id": "966cc085",
   "metadata": {},
   "outputs": [
    {
     "data": {
      "text/plain": [
       "np.int64(334)"
      ]
     },
     "execution_count": 6,
     "metadata": {},
     "output_type": "execute_result"
    }
   ],
   "source": [
    "HeighestSale_Amount= Daily_sales.max()\n",
    "HeighestSale_Amount"
   ]
  },
  {
   "cell_type": "markdown",
   "id": "d98d4513",
   "metadata": {},
   "source": [
    "### Weather Data Processing"
   ]
  },
  {
   "cell_type": "code",
   "execution_count": 7,
   "id": "d739e371",
   "metadata": {},
   "outputs": [
    {
     "data": {
      "text/plain": [
       "array([[31, 43, 33, 37, 32, 36, 30],\n",
       "       [39, 42, 34, 31, 36, 32, 38],\n",
       "       [33, 41, 30, 32, 35, 38, 36]])"
      ]
     },
     "execution_count": 7,
     "metadata": {},
     "output_type": "execute_result"
    }
   ],
   "source": [
    "Weekly_Temperatures = np.array([[31,43,33,37,32,36,30],\n",
    "                                [39,42,34,31,36,32,38],\n",
    "                                [33,41,30,32,35,38,36],\n",
    "                               ])\n",
    "Weekly_Temperatures "
   ]
  },
  {
   "cell_type": "code",
   "execution_count": 8,
   "id": "80365c14",
   "metadata": {},
   "outputs": [
    {
     "data": {
      "text/plain": [
       "array([34.33333333, 42.        , 32.33333333, 33.33333333, 34.33333333,\n",
       "       35.33333333, 34.66666667])"
      ]
     },
     "execution_count": 8,
     "metadata": {},
     "output_type": "execute_result"
    }
   ],
   "source": [
    "Veg_temp_Day=Weekly_Temperatures.mean(axis=0)\n",
    "Veg_temp_Day"
   ]
  },
  {
   "cell_type": "code",
   "execution_count": 9,
   "id": "4eafdcc0",
   "metadata": {},
   "outputs": [
    {
     "name": "stdout",
     "output_type": "stream",
     "text": [
      "Day 1: 34.33 degrees Celsius\n",
      "Day 2: 42.00 degrees Celsius\n",
      "Day 3: 32.33 degrees Celsius\n",
      "Day 4: 33.33 degrees Celsius\n",
      "Day 5: 34.33 degrees Celsius\n",
      "Day 6: 35.33 degrees Celsius\n",
      "Day 7: 34.67 degrees Celsius\n"
     ]
    }
   ],
   "source": [
    "for day in range(7):\n",
    "    print(f\"Day {day+1}: {Veg_temp_Day[day]:.2f} degrees Celsius\")"
   ]
  },
  {
   "cell_type": "markdown",
   "id": "361943ee",
   "metadata": {},
   "source": [
    "### Financial Analysis"
   ]
  },
  {
   "cell_type": "code",
   "execution_count": 10,
   "id": "3e357431",
   "metadata": {},
   "outputs": [
    {
     "data": {
      "text/plain": [
       "array([109, 115, 104, 135, 136, 137, 138, 140, 142, 144, 145, 147, 148,\n",
       "       149, 150, 151])"
      ]
     },
     "execution_count": 10,
     "metadata": {},
     "output_type": "execute_result"
    }
   ],
   "source": [
    "Prices = np.array([109, 115, 104, 135, 136, 137, 138, 140, 142, 144, 145, 147, 148,149, 150, 151])\n",
    "Prices"
   ]
  },
  {
   "cell_type": "code",
   "execution_count": 11,
   "id": "697804f4",
   "metadata": {},
   "outputs": [
    {
     "data": {
      "text/plain": [
       "np.float64(38.53211009174312)"
      ]
     },
     "execution_count": 11,
     "metadata": {},
     "output_type": "execute_result"
    }
   ],
   "source": [
    "Monthly_return = (Prices[-1]-Prices[0])/Prices[0]*100\n",
    "Monthly_return "
   ]
  },
  {
   "cell_type": "markdown",
   "id": "dbe0d258",
   "metadata": {},
   "source": [
    "### Student Grades Analysis"
   ]
  },
  {
   "cell_type": "code",
   "execution_count": 12,
   "id": "1b017e8c",
   "metadata": {},
   "outputs": [
    {
     "data": {
      "text/plain": [
       "array([[70, 95, 88],\n",
       "       [75, 60, 80],\n",
       "       [80, 89, 92],\n",
       "       [81, 77, 65]])"
      ]
     },
     "execution_count": 12,
     "metadata": {},
     "output_type": "execute_result"
    }
   ],
   "source": [
    "Grades_std = np.array([[70, 95, 88],[75, 60, 80],[80, 89, 92],[81, 77, 65]])\n",
    "Grades_std"
   ]
  },
  {
   "cell_type": "code",
   "execution_count": 13,
   "id": "c7b676d5",
   "metadata": {},
   "outputs": [
    {
     "data": {
      "text/plain": [
       "array([84.33333333, 71.66666667, 87.        , 74.33333333])"
      ]
     },
     "execution_count": 13,
     "metadata": {},
     "output_type": "execute_result"
    }
   ],
   "source": [
    "Avg_grade_pr_std = np.mean(Grades_std, axis=1)\n",
    "Avg_grade_pr_std"
   ]
  },
  {
   "cell_type": "code",
   "execution_count": 14,
   "id": "1382790e",
   "metadata": {},
   "outputs": [
    {
     "data": {
      "text/plain": [
       "array([76.5 , 80.25, 81.25])"
      ]
     },
     "execution_count": 14,
     "metadata": {},
     "output_type": "execute_result"
    }
   ],
   "source": [
    "Class_avg_per_subj = np.mean(Grades_std, axis=0)\n",
    "Class_avg_per_subj"
   ]
  },
  {
   "cell_type": "markdown",
   "id": "7130972d",
   "metadata": {},
   "source": [
    "### Image Processing"
   ]
  },
  {
   "cell_type": "code",
   "execution_count": 15,
   "id": "d6f6d6f0",
   "metadata": {},
   "outputs": [
    {
     "data": {
      "text/plain": [
       "array([[  0, 130, 255],\n",
       "       [ 50, 167, 138],\n",
       "       [255, 190,   0]])"
      ]
     },
     "execution_count": 15,
     "metadata": {},
     "output_type": "execute_result"
    }
   ],
   "source": [
    "img = np.array([[0, 130, 255],[50, 167, 138],[255, 190, 0]])\n",
    "img"
   ]
  },
  {
   "cell_type": "code",
   "execution_count": 16,
   "id": "6a7d593d",
   "metadata": {},
   "outputs": [
    {
     "data": {
      "text/plain": [
       "array([[0.        , 0.50980392, 1.        ],\n",
       "       [0.19607843, 0.65490196, 0.54117647],\n",
       "       [1.        , 0.74509804, 0.        ]])"
      ]
     },
     "execution_count": 16,
     "metadata": {},
     "output_type": "execute_result"
    }
   ],
   "source": [
    "#Img range 0 to 1\n",
    "normalized_img = img / 255.0\n",
    "normalized_img"
   ]
  },
  {
   "cell_type": "markdown",
   "id": "19e61d8a",
   "metadata": {},
   "source": [
    "### Population Growth Analysis"
   ]
  },
  {
   "cell_type": "code",
   "execution_count": 17,
   "id": "bea37761",
   "metadata": {},
   "outputs": [
    {
     "data": {
      "text/plain": [
       "array([1700, 1650, 1800, 2300, 1200, 1050, 1300, 1100, 1600, 1500])"
      ]
     },
     "execution_count": 17,
     "metadata": {},
     "output_type": "execute_result"
    }
   ],
   "source": [
    "Population_Data = np.array([1700, 1650, 1800, 2300, 1200, 1050, 1300, 1100, 1600, 1500])\n",
    "\n",
    "Population_Data"
   ]
  },
  {
   "cell_type": "code",
   "execution_count": 18,
   "id": "4e9df23f",
   "metadata": {},
   "outputs": [],
   "source": [
    "annual_growth_rate = np.diff(Population_Data) / Population_Data[:-1] * 100\n",
    "highest_growth_year = np.argmax(annual_growth_rate) + 1  "
   ]
  },
  {
   "cell_type": "code",
   "execution_count": 19,
   "id": "7122163c",
   "metadata": {
    "scrolled": true
   },
   "outputs": [
    {
     "data": {
      "text/plain": [
       "array([ -2.94117647,   9.09090909,  27.77777778, -47.82608696,\n",
       "       -12.5       ,  23.80952381, -15.38461538,  45.45454545,\n",
       "        -6.25      ])"
      ]
     },
     "execution_count": 19,
     "metadata": {},
     "output_type": "execute_result"
    }
   ],
   "source": [
    "annual_growth_rate\n"
   ]
  },
  {
   "cell_type": "code",
   "execution_count": 20,
   "id": "781b3b83",
   "metadata": {},
   "outputs": [
    {
     "data": {
      "text/plain": [
       "np.int64(8)"
      ]
     },
     "execution_count": 20,
     "metadata": {},
     "output_type": "execute_result"
    }
   ],
   "source": [
    "highest_growth_year"
   ]
  },
  {
   "cell_type": "markdown",
   "id": "802918c0",
   "metadata": {},
   "source": [
    "Traffic Data Analysis"
   ]
  },
  {
   "cell_type": "code",
   "execution_count": 21,
   "id": "37541ef0",
   "metadata": {},
   "outputs": [
    {
     "data": {
      "text/plain": [
       "array([[ 97,  52, 112, 103,  33,  49,  47,  21,  71, 131,  66,  41,  33,\n",
       "        147, 162, 139,  68,  81, 164, 154, 135,  53,  74,  84],\n",
       "       [151,  30,  22, 168,  70, 162,  46,  22, 144, 146,  86, 129,  96,\n",
       "        153,  57,  80, 143,  88, 155,  45,  88,  80,  71, 130],\n",
       "       [ 58,  74,  40, 146,  77, 113,  46, 128,  31,  40,  63,  40, 169,\n",
       "         34,  25,  59, 121,  44, 162,  66,  92,  51, 121, 149],\n",
       "       [121,  57, 106, 105, 123,  99,  41, 132, 111,  61, 134,  61,  32,\n",
       "         22, 164,  94, 121,  80, 135,  58, 113, 110,  76,  37],\n",
       "       [106, 156, 146, 100,  57, 119, 103, 159, 147, 111,  97, 146,  49,\n",
       "        156, 130,  33,  75,  28, 107,  50,  68, 131,  32, 116],\n",
       "       [100,  82, 108, 165, 151,  44, 108, 137,  57,  81, 163,  58, 150,\n",
       "        150, 109,  90, 152,  95,  95, 109,  42, 164,  44,  89],\n",
       "       [ 58, 100,  46,  44,  20,  40, 147, 119, 148,  70, 144,  31,  83,\n",
       "         91,  92,  98,  48,  20, 166, 133,  48,  91,  63,  74]],\n",
       "      dtype=int32)"
      ]
     },
     "execution_count": 21,
     "metadata": {},
     "output_type": "execute_result"
    }
   ],
   "source": [
    "#Data: 7 days, 24 hrs\n",
    "Trafic = np.random.randint(20, 170, size=(7, 24))\n",
    "Trafic "
   ]
  },
  {
   "cell_type": "code",
   "execution_count": 22,
   "id": "1ff4da48",
   "metadata": {},
   "outputs": [],
   "source": [
    "total_trafic_per_day = np.sum(Trafic, axis=1)\n",
    "Busy_hour_in_wk = np.argmax(np.sum(Trafic, axis=0))"
   ]
  },
  {
   "cell_type": "code",
   "execution_count": 23,
   "id": "f0336735",
   "metadata": {},
   "outputs": [
    {
     "data": {
      "text/plain": [
       "array([2117, 2362, 1949, 2193, 2422, 2543, 1974])"
      ]
     },
     "execution_count": 23,
     "metadata": {},
     "output_type": "execute_result"
    }
   ],
   "source": [
    "total_trafic_per_day "
   ]
  },
  {
   "cell_type": "code",
   "execution_count": 24,
   "id": "041f20c1",
   "metadata": {},
   "outputs": [
    {
     "data": {
      "text/plain": [
       "np.int64(18)"
      ]
     },
     "execution_count": 24,
     "metadata": {},
     "output_type": "execute_result"
    }
   ],
   "source": [
    "Busy_hour_in_wk"
   ]
  },
  {
   "cell_type": "markdown",
   "id": "13850c92",
   "metadata": {},
   "source": [
    "Product Inventory Management:"
   ]
  },
  {
   "cell_type": "code",
   "execution_count": 25,
   "id": "91e9ccaf",
   "metadata": {},
   "outputs": [],
   "source": [
    "Stock_levels = np.array([55, 65, 75, 35, 50, 25])\n"
   ]
  },
  {
   "cell_type": "code",
   "execution_count": 26,
   "id": "110c9f4f",
   "metadata": {},
   "outputs": [
    {
     "data": {
      "text/plain": [
       "array([3, 5])"
      ]
     },
     "execution_count": 26,
     "metadata": {},
     "output_type": "execute_result"
    }
   ],
   "source": [
    "#threshold 50 units\n",
    "reorder_list = np.where(Stock_levels < 50)[0]\n",
    "\n",
    "reorder_list"
   ]
  },
  {
   "cell_type": "markdown",
   "id": "ebd21a8d",
   "metadata": {},
   "source": [
    "\n",
    "Game Score Analysis"
   ]
  },
  {
   "cell_type": "code",
   "execution_count": 27,
   "id": "56b567c7",
   "metadata": {},
   "outputs": [],
   "source": [
    "#Data of 5 players and 10 rounds\n",
    "Score = np.random.randint(80, 320, size=(5, 20))"
   ]
  },
  {
   "cell_type": "code",
   "execution_count": 28,
   "id": "3f9ed16c",
   "metadata": {},
   "outputs": [],
   "source": [
    "# Player with highest ave score\n",
    "highest_avg_scoreplayer = np.argmax(np.mean(Score, axis=1))\n",
    "\n",
    "# Round with highest T score\n",
    "highest_total_scorer_ound = np.argmax(np.sum(Score, axis=0))"
   ]
  },
  {
   "cell_type": "code",
   "execution_count": 29,
   "id": "e6dd47a3",
   "metadata": {},
   "outputs": [
    {
     "data": {
      "text/plain": [
       "np.int64(3)"
      ]
     },
     "execution_count": 29,
     "metadata": {},
     "output_type": "execute_result"
    }
   ],
   "source": [
    "highest_avg_scoreplayer"
   ]
  },
  {
   "cell_type": "code",
   "execution_count": 30,
   "id": "3871a9c3",
   "metadata": {},
   "outputs": [
    {
     "data": {
      "text/plain": [
       "np.int64(0)"
      ]
     },
     "execution_count": 30,
     "metadata": {},
     "output_type": "execute_result"
    }
   ],
   "source": [
    "highest_total_scorer_ound"
   ]
  },
  {
   "cell_type": "markdown",
   "id": "103a9592",
   "metadata": {},
   "source": [
    "Financial Portfolio Analysis"
   ]
  },
  {
   "cell_type": "code",
   "execution_count": 31,
   "id": "70592c10",
   "metadata": {},
   "outputs": [
    {
     "data": {
      "text/plain": [
       "array([-0.23049504, -0.42929206,  0.12982691,  0.12137713,  0.35113956,\n",
       "        0.49412324, -0.15558154,  0.15852761,  0.04809244, -0.56184233,\n",
       "        0.18962923,  0.34576619,  0.38915551,  0.44408519,  0.55192905,\n",
       "       -0.78961017, -0.56702584,  0.23121037, -0.9245974 , -0.06670674,\n",
       "       -0.6781276 ,  0.87928945,  0.60400073,  0.41489001,  0.04159948,\n",
       "       -0.61782122, -0.73716702, -0.26285548, -0.2825537 , -0.20343912,\n",
       "       -0.10542573, -0.55299865,  0.21543539, -0.19889043, -0.39128336,\n",
       "       -0.10515305, -0.87097362, -0.03746441,  0.29700065, -0.14458336])"
      ]
     },
     "execution_count": 31,
     "metadata": {},
     "output_type": "execute_result"
    }
   ],
   "source": [
    "# 4 assets, 30 days)\n",
    "Return = np.random.randn(6, 40)\n",
    "\n",
    "Overall_daily_return = np.mean(Return, axis=0)\n",
    "\n",
    "# Asset with highest volatility\n",
    "Highest_volatility_asset = np.argmax(np.std(Return, axis=1))\n",
    "\n",
    "Overall_daily_return"
   ]
  },
  {
   "cell_type": "code",
   "execution_count": 32,
   "id": "8b172db4",
   "metadata": {},
   "outputs": [
    {
     "data": {
      "text/plain": [
       "np.int64(3)"
      ]
     },
     "execution_count": 32,
     "metadata": {},
     "output_type": "execute_result"
    }
   ],
   "source": [
    "Highest_volatility_asset"
   ]
  }
 ],
 "metadata": {
  "kernelspec": {
   "display_name": "Python 3",
   "language": "python",
   "name": "python3"
  },
  "language_info": {
   "codemirror_mode": {
    "name": "ipython",
    "version": 3
   },
   "file_extension": ".py",
   "mimetype": "text/x-python",
   "name": "python",
   "nbconvert_exporter": "python",
   "pygments_lexer": "ipython3",
   "version": "3.13.2"
  }
 },
 "nbformat": 4,
 "nbformat_minor": 5
}
