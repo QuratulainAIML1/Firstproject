{
 "cells": [
  {
   "cell_type": "markdown",
   "id": "507e1a3c",
   "metadata": {},
   "source": [
    "<center>Name:Quratulain<br>\n",
    "Gmail:QuratulainkhanAIML1@outlook.com<br>\n",
    "Github:QuratulainkhanAIML1<br>\n",
    "Topic:Assignment1</center>"
   ]
  },
  {
   "cell_type": "markdown",
   "id": "65403dfb",
   "metadata": {},
   "source": [
    "Install libraries"
   ]
  },
  {
   "cell_type": "code",
   "execution_count": 1,
   "id": "9035167d",
   "metadata": {},
   "outputs": [
    {
     "name": "stdout",
     "output_type": "stream",
     "text": [
      "Requirement already satisfied: pandas in c:\\users\\qurat\\appdata\\local\\programs\\python\\python313\\lib\\site-packages (2.2.3)\n",
      "Requirement already satisfied: numpy>=1.26.0 in c:\\users\\qurat\\appdata\\local\\programs\\python\\python313\\lib\\site-packages (from pandas) (2.2.3)\n",
      "Requirement already satisfied: python-dateutil>=2.8.2 in c:\\users\\qurat\\appdata\\roaming\\python\\python313\\site-packages (from pandas) (2.9.0.post0)\n",
      "Requirement already satisfied: pytz>=2020.1 in c:\\users\\qurat\\appdata\\local\\programs\\python\\python313\\lib\\site-packages (from pandas) (2025.1)\n",
      "Requirement already satisfied: tzdata>=2022.7 in c:\\users\\qurat\\appdata\\local\\programs\\python\\python313\\lib\\site-packages (from pandas) (2025.1)\n",
      "Requirement already satisfied: six>=1.5 in c:\\users\\qurat\\appdata\\roaming\\python\\python313\\site-packages (from python-dateutil>=2.8.2->pandas) (1.17.0)\n",
      "Note: you may need to restart the kernel to use updated packages.\n"
     ]
    }
   ],
   "source": [
    "%pip install pandas\n"
   ]
  },
  {
   "cell_type": "code",
   "execution_count": 2,
   "id": "7f0c05ee",
   "metadata": {},
   "outputs": [
    {
     "name": "stdout",
     "output_type": "stream",
     "text": [
      "Requirement already satisfied: numpy in c:\\users\\qurat\\appdata\\local\\programs\\python\\python313\\lib\\site-packages (2.2.3)\n",
      "Note: you may need to restart the kernel to use updated packages.\n"
     ]
    }
   ],
   "source": [
    "%pip install numpy\n"
   ]
  },
  {
   "cell_type": "markdown",
   "id": "11b21935",
   "metadata": {},
   "source": [
    "Import libraries"
   ]
  },
  {
   "cell_type": "code",
   "execution_count": 3,
   "id": "1b370de3",
   "metadata": {},
   "outputs": [],
   "source": [
    "import pandas as pd\n",
    "import numpy as np"
   ]
  },
  {
   "cell_type": "markdown",
   "id": "768a3155",
   "metadata": {},
   "source": [
    "Create a pandas Series with the values [1, 3, 5, np.nan, 6, 8]."
   ]
  },
  {
   "cell_type": "code",
   "execution_count": 4,
   "id": "3e2d2853",
   "metadata": {},
   "outputs": [
    {
     "name": "stdout",
     "output_type": "stream",
     "text": [
      "0    1.0\n",
      "1    3.0\n",
      "2    5.0\n",
      "3    NaN\n",
      "4    6.0\n",
      "5    8.0\n",
      "dtype: float64\n"
     ]
    }
   ],
   "source": [
    "data = pd.Series([1, 3, 5, np.nan, 6, 8])\n",
    "print(data)"
   ]
  },
  {
   "cell_type": "markdown",
   "id": "49e0b1ef",
   "metadata": {},
   "source": [
    "Generate a date range starting from \"2024-01-01\" with a period of 6 days."
   ]
  },
  {
   "cell_type": "code",
   "execution_count": 5,
   "id": "d642c1b5",
   "metadata": {},
   "outputs": [
    {
     "name": "stdout",
     "output_type": "stream",
     "text": [
      "DatetimeIndex(['2024-01-01', '2024-01-02', '2024-01-03', '2024-01-04',\n",
      "               '2024-01-05', '2024-01-06'],\n",
      "              dtype='datetime64[ns]', freq='D')\n"
     ]
    }
   ],
   "source": [
    "dates = pd.date_range(start=\"2024-01-01\", periods=6)\n",
    "print(dates)"
   ]
  },
  {
   "cell_type": "markdown",
   "id": "7cf6792e",
   "metadata": {},
   "source": [
    "Create a pandas DataFrame with 6 rows and 4 columns of random numbers, indexed by the date range generated in question 5, and columns named A, B, C, D."
   ]
  },
  {
   "cell_type": "code",
   "execution_count": 6,
   "id": "ab83118e",
   "metadata": {},
   "outputs": [
    {
     "data": {
      "text/html": [
       "<div>\n",
       "<style scoped>\n",
       "    .dataframe tbody tr th:only-of-type {\n",
       "        vertical-align: middle;\n",
       "    }\n",
       "\n",
       "    .dataframe tbody tr th {\n",
       "        vertical-align: top;\n",
       "    }\n",
       "\n",
       "    .dataframe thead th {\n",
       "        text-align: right;\n",
       "    }\n",
       "</style>\n",
       "<table border=\"1\" class=\"dataframe\">\n",
       "  <thead>\n",
       "    <tr style=\"text-align: right;\">\n",
       "      <th></th>\n",
       "      <th>A</th>\n",
       "      <th>B</th>\n",
       "      <th>C</th>\n",
       "      <th>D</th>\n",
       "    </tr>\n",
       "  </thead>\n",
       "  <tbody>\n",
       "    <tr>\n",
       "      <th>2024-01-01</th>\n",
       "      <td>-0.683502</td>\n",
       "      <td>-0.277457</td>\n",
       "      <td>-0.878199</td>\n",
       "      <td>0.396348</td>\n",
       "    </tr>\n",
       "    <tr>\n",
       "      <th>2024-01-02</th>\n",
       "      <td>-1.137083</td>\n",
       "      <td>0.954583</td>\n",
       "      <td>-0.175268</td>\n",
       "      <td>-1.240513</td>\n",
       "    </tr>\n",
       "    <tr>\n",
       "      <th>2024-01-03</th>\n",
       "      <td>-1.351875</td>\n",
       "      <td>1.141696</td>\n",
       "      <td>0.053363</td>\n",
       "      <td>-0.433388</td>\n",
       "    </tr>\n",
       "    <tr>\n",
       "      <th>2024-01-04</th>\n",
       "      <td>0.083324</td>\n",
       "      <td>-0.803758</td>\n",
       "      <td>-0.451653</td>\n",
       "      <td>0.530138</td>\n",
       "    </tr>\n",
       "    <tr>\n",
       "      <th>2024-01-05</th>\n",
       "      <td>-0.303110</td>\n",
       "      <td>0.493536</td>\n",
       "      <td>1.630690</td>\n",
       "      <td>-0.880421</td>\n",
       "    </tr>\n",
       "    <tr>\n",
       "      <th>2024-01-06</th>\n",
       "      <td>0.331985</td>\n",
       "      <td>0.820709</td>\n",
       "      <td>0.754733</td>\n",
       "      <td>-1.428603</td>\n",
       "    </tr>\n",
       "  </tbody>\n",
       "</table>\n",
       "</div>"
      ],
      "text/plain": [
       "                   A         B         C         D\n",
       "2024-01-01 -0.683502 -0.277457 -0.878199  0.396348\n",
       "2024-01-02 -1.137083  0.954583 -0.175268 -1.240513\n",
       "2024-01-03 -1.351875  1.141696  0.053363 -0.433388\n",
       "2024-01-04  0.083324 -0.803758 -0.451653  0.530138\n",
       "2024-01-05 -0.303110  0.493536  1.630690 -0.880421\n",
       "2024-01-06  0.331985  0.820709  0.754733 -1.428603"
      ]
     },
     "execution_count": 6,
     "metadata": {},
     "output_type": "execute_result"
    }
   ],
   "source": [
    "dates = pd.date_range(start=\"2024-01-01\", periods=6)\n",
    "\n",
    "# Create DataFrame with random numbers\n",
    "dates= pd.DataFrame(np.random.randn(6, 4), index=dates, columns=['A', 'B', 'C', 'D'])\n",
    "dates"
   ]
  },
  {
   "cell_type": "markdown",
   "id": "196e4c1c",
   "metadata": {},
   "source": [
    "Create a pandas DataFrame with the following data:\n",
    "A: 1.0\n",
    "B: Timestamp \"2013-01-02\"\n",
    "C: Series of 1 with index from 0 to 3, dtype \"float32\"\n",
    "D: Array of [3, 3, 3, 3], dtype \"int32\"\n",
    "E: Categorical [\"test\", \"train\", \"test\", \"train\"]"
   ]
  },
  {
   "cell_type": "code",
   "execution_count": 7,
   "id": "14f000ea",
   "metadata": {},
   "outputs": [
    {
     "name": "stdout",
     "output_type": "stream",
     "text": [
      "     A          B    C  D      E    F\n",
      "0  1.0 2013-01-02  1.0  3   test  foo\n",
      "1  1.0 2013-01-02  1.0  3  train  foo\n",
      "2  1.0 2013-01-02  1.0  3   test  foo\n",
      "3  1.0 2013-01-02  1.0  3  train  foo\n"
     ]
    }
   ],
   "source": [
    "df = pd.DataFrame({\n",
    "    'A': 1.0,\n",
    "    'B': pd.Timestamp('2013-01-02'),\n",
    "    'C': pd.Series(1, index=list(range(4)), dtype='float32'),\n",
    "    'D': np.array([3] * 4, dtype='int32'),\n",
    "    'E': pd.Categorical([\"test\", \"train\", \"test\", \"train\"]),\n",
    "    'F': 'foo'\n",
    "})\n",
    "\n",
    "print(df)"
   ]
  },
  {
   "cell_type": "markdown",
   "id": "39e46a72",
   "metadata": {},
   "source": [
    "Display datatypes"
   ]
  },
  {
   "cell_type": "code",
   "execution_count": 8,
   "id": "2ebf0bee",
   "metadata": {},
   "outputs": [
    {
     "name": "stdout",
     "output_type": "stream",
     "text": [
      "<class 'pandas.core.frame.DataFrame'>\n",
      "Index: 4 entries, 0 to 3\n",
      "Data columns (total 6 columns):\n",
      " #   Column  Non-Null Count  Dtype        \n",
      "---  ------  --------------  -----        \n",
      " 0   A       4 non-null      float64      \n",
      " 1   B       4 non-null      datetime64[s]\n",
      " 2   C       4 non-null      float32      \n",
      " 3   D       4 non-null      int32        \n",
      " 4   E       4 non-null      category     \n",
      " 5   F       4 non-null      object       \n",
      "dtypes: category(1), datetime64[s](1), float32(1), float64(1), int32(1), object(1)\n",
      "memory usage: 288.0+ bytes\n"
     ]
    }
   ],
   "source": [
    "df.info()"
   ]
  },
  {
   "cell_type": "markdown",
   "id": "f760adf7",
   "metadata": {},
   "source": [
    "View the First Few Rows."
   ]
  },
  {
   "cell_type": "code",
   "execution_count": 9,
   "id": "99f078e6",
   "metadata": {},
   "outputs": [
    {
     "data": {
      "text/html": [
       "<div>\n",
       "<style scoped>\n",
       "    .dataframe tbody tr th:only-of-type {\n",
       "        vertical-align: middle;\n",
       "    }\n",
       "\n",
       "    .dataframe tbody tr th {\n",
       "        vertical-align: top;\n",
       "    }\n",
       "\n",
       "    .dataframe thead th {\n",
       "        text-align: right;\n",
       "    }\n",
       "</style>\n",
       "<table border=\"1\" class=\"dataframe\">\n",
       "  <thead>\n",
       "    <tr style=\"text-align: right;\">\n",
       "      <th></th>\n",
       "      <th>A</th>\n",
       "      <th>B</th>\n",
       "      <th>C</th>\n",
       "      <th>D</th>\n",
       "      <th>E</th>\n",
       "      <th>F</th>\n",
       "    </tr>\n",
       "  </thead>\n",
       "  <tbody>\n",
       "    <tr>\n",
       "      <th>0</th>\n",
       "      <td>1.0</td>\n",
       "      <td>2013-01-02</td>\n",
       "      <td>1.0</td>\n",
       "      <td>3</td>\n",
       "      <td>test</td>\n",
       "      <td>foo</td>\n",
       "    </tr>\n",
       "    <tr>\n",
       "      <th>1</th>\n",
       "      <td>1.0</td>\n",
       "      <td>2013-01-02</td>\n",
       "      <td>1.0</td>\n",
       "      <td>3</td>\n",
       "      <td>train</td>\n",
       "      <td>foo</td>\n",
       "    </tr>\n",
       "    <tr>\n",
       "      <th>2</th>\n",
       "      <td>1.0</td>\n",
       "      <td>2013-01-02</td>\n",
       "      <td>1.0</td>\n",
       "      <td>3</td>\n",
       "      <td>test</td>\n",
       "      <td>foo</td>\n",
       "    </tr>\n",
       "    <tr>\n",
       "      <th>3</th>\n",
       "      <td>1.0</td>\n",
       "      <td>2013-01-02</td>\n",
       "      <td>1.0</td>\n",
       "      <td>3</td>\n",
       "      <td>train</td>\n",
       "      <td>foo</td>\n",
       "    </tr>\n",
       "  </tbody>\n",
       "</table>\n",
       "</div>"
      ],
      "text/plain": [
       "     A          B    C  D      E    F\n",
       "0  1.0 2013-01-02  1.0  3   test  foo\n",
       "1  1.0 2013-01-02  1.0  3  train  foo\n",
       "2  1.0 2013-01-02  1.0  3   test  foo\n",
       "3  1.0 2013-01-02  1.0  3  train  foo"
      ]
     },
     "execution_count": 9,
     "metadata": {},
     "output_type": "execute_result"
    }
   ],
   "source": [
    "df.head()"
   ]
  },
  {
   "cell_type": "markdown",
   "id": "8c7978d8",
   "metadata": {},
   "source": [
    "Show the first 5 rows of the DataFrame created in question 6."
   ]
  },
  {
   "cell_type": "code",
   "execution_count": 10,
   "id": "9e1ed355",
   "metadata": {},
   "outputs": [
    {
     "data": {
      "text/html": [
       "<div>\n",
       "<style scoped>\n",
       "    .dataframe tbody tr th:only-of-type {\n",
       "        vertical-align: middle;\n",
       "    }\n",
       "\n",
       "    .dataframe tbody tr th {\n",
       "        vertical-align: top;\n",
       "    }\n",
       "\n",
       "    .dataframe thead th {\n",
       "        text-align: right;\n",
       "    }\n",
       "</style>\n",
       "<table border=\"1\" class=\"dataframe\">\n",
       "  <thead>\n",
       "    <tr style=\"text-align: right;\">\n",
       "      <th></th>\n",
       "      <th>A</th>\n",
       "      <th>B</th>\n",
       "      <th>C</th>\n",
       "      <th>D</th>\n",
       "    </tr>\n",
       "  </thead>\n",
       "  <tbody>\n",
       "    <tr>\n",
       "      <th>2024-01-01</th>\n",
       "      <td>-0.683502</td>\n",
       "      <td>-0.277457</td>\n",
       "      <td>-0.878199</td>\n",
       "      <td>0.396348</td>\n",
       "    </tr>\n",
       "    <tr>\n",
       "      <th>2024-01-02</th>\n",
       "      <td>-1.137083</td>\n",
       "      <td>0.954583</td>\n",
       "      <td>-0.175268</td>\n",
       "      <td>-1.240513</td>\n",
       "    </tr>\n",
       "    <tr>\n",
       "      <th>2024-01-03</th>\n",
       "      <td>-1.351875</td>\n",
       "      <td>1.141696</td>\n",
       "      <td>0.053363</td>\n",
       "      <td>-0.433388</td>\n",
       "    </tr>\n",
       "    <tr>\n",
       "      <th>2024-01-04</th>\n",
       "      <td>0.083324</td>\n",
       "      <td>-0.803758</td>\n",
       "      <td>-0.451653</td>\n",
       "      <td>0.530138</td>\n",
       "    </tr>\n",
       "    <tr>\n",
       "      <th>2024-01-05</th>\n",
       "      <td>-0.303110</td>\n",
       "      <td>0.493536</td>\n",
       "      <td>1.630690</td>\n",
       "      <td>-0.880421</td>\n",
       "    </tr>\n",
       "  </tbody>\n",
       "</table>\n",
       "</div>"
      ],
      "text/plain": [
       "                   A         B         C         D\n",
       "2024-01-01 -0.683502 -0.277457 -0.878199  0.396348\n",
       "2024-01-02 -1.137083  0.954583 -0.175268 -1.240513\n",
       "2024-01-03 -1.351875  1.141696  0.053363 -0.433388\n",
       "2024-01-04  0.083324 -0.803758 -0.451653  0.530138\n",
       "2024-01-05 -0.303110  0.493536  1.630690 -0.880421"
      ]
     },
     "execution_count": 10,
     "metadata": {},
     "output_type": "execute_result"
    }
   ],
   "source": [
    "dates.head(5)"
   ]
  },
  {
   "cell_type": "markdown",
   "id": "f213b2a6",
   "metadata": {},
   "source": [
    "View the Last Few Rows."
   ]
  },
  {
   "cell_type": "code",
   "execution_count": 11,
   "id": "31875834",
   "metadata": {},
   "outputs": [
    {
     "data": {
      "text/html": [
       "<div>\n",
       "<style scoped>\n",
       "    .dataframe tbody tr th:only-of-type {\n",
       "        vertical-align: middle;\n",
       "    }\n",
       "\n",
       "    .dataframe tbody tr th {\n",
       "        vertical-align: top;\n",
       "    }\n",
       "\n",
       "    .dataframe thead th {\n",
       "        text-align: right;\n",
       "    }\n",
       "</style>\n",
       "<table border=\"1\" class=\"dataframe\">\n",
       "  <thead>\n",
       "    <tr style=\"text-align: right;\">\n",
       "      <th></th>\n",
       "      <th>A</th>\n",
       "      <th>B</th>\n",
       "      <th>C</th>\n",
       "      <th>D</th>\n",
       "      <th>E</th>\n",
       "      <th>F</th>\n",
       "    </tr>\n",
       "  </thead>\n",
       "  <tbody>\n",
       "    <tr>\n",
       "      <th>0</th>\n",
       "      <td>1.0</td>\n",
       "      <td>2013-01-02</td>\n",
       "      <td>1.0</td>\n",
       "      <td>3</td>\n",
       "      <td>test</td>\n",
       "      <td>foo</td>\n",
       "    </tr>\n",
       "    <tr>\n",
       "      <th>1</th>\n",
       "      <td>1.0</td>\n",
       "      <td>2013-01-02</td>\n",
       "      <td>1.0</td>\n",
       "      <td>3</td>\n",
       "      <td>train</td>\n",
       "      <td>foo</td>\n",
       "    </tr>\n",
       "    <tr>\n",
       "      <th>2</th>\n",
       "      <td>1.0</td>\n",
       "      <td>2013-01-02</td>\n",
       "      <td>1.0</td>\n",
       "      <td>3</td>\n",
       "      <td>test</td>\n",
       "      <td>foo</td>\n",
       "    </tr>\n",
       "    <tr>\n",
       "      <th>3</th>\n",
       "      <td>1.0</td>\n",
       "      <td>2013-01-02</td>\n",
       "      <td>1.0</td>\n",
       "      <td>3</td>\n",
       "      <td>train</td>\n",
       "      <td>foo</td>\n",
       "    </tr>\n",
       "  </tbody>\n",
       "</table>\n",
       "</div>"
      ],
      "text/plain": [
       "     A          B    C  D      E    F\n",
       "0  1.0 2013-01-02  1.0  3   test  foo\n",
       "1  1.0 2013-01-02  1.0  3  train  foo\n",
       "2  1.0 2013-01-02  1.0  3   test  foo\n",
       "3  1.0 2013-01-02  1.0  3  train  foo"
      ]
     },
     "execution_count": 11,
     "metadata": {},
     "output_type": "execute_result"
    }
   ],
   "source": [
    "df.tail()"
   ]
  },
  {
   "cell_type": "markdown",
   "id": "36ae6f3d",
   "metadata": {},
   "source": [
    "Show the last 3 rows of the DataFrame created in question 6."
   ]
  },
  {
   "cell_type": "code",
   "execution_count": 12,
   "id": "3ba4604a",
   "metadata": {},
   "outputs": [
    {
     "data": {
      "text/html": [
       "<div>\n",
       "<style scoped>\n",
       "    .dataframe tbody tr th:only-of-type {\n",
       "        vertical-align: middle;\n",
       "    }\n",
       "\n",
       "    .dataframe tbody tr th {\n",
       "        vertical-align: top;\n",
       "    }\n",
       "\n",
       "    .dataframe thead th {\n",
       "        text-align: right;\n",
       "    }\n",
       "</style>\n",
       "<table border=\"1\" class=\"dataframe\">\n",
       "  <thead>\n",
       "    <tr style=\"text-align: right;\">\n",
       "      <th></th>\n",
       "      <th>A</th>\n",
       "      <th>B</th>\n",
       "      <th>C</th>\n",
       "      <th>D</th>\n",
       "    </tr>\n",
       "  </thead>\n",
       "  <tbody>\n",
       "    <tr>\n",
       "      <th>2024-01-04</th>\n",
       "      <td>0.083324</td>\n",
       "      <td>-0.803758</td>\n",
       "      <td>-0.451653</td>\n",
       "      <td>0.530138</td>\n",
       "    </tr>\n",
       "    <tr>\n",
       "      <th>2024-01-05</th>\n",
       "      <td>-0.303110</td>\n",
       "      <td>0.493536</td>\n",
       "      <td>1.630690</td>\n",
       "      <td>-0.880421</td>\n",
       "    </tr>\n",
       "    <tr>\n",
       "      <th>2024-01-06</th>\n",
       "      <td>0.331985</td>\n",
       "      <td>0.820709</td>\n",
       "      <td>0.754733</td>\n",
       "      <td>-1.428603</td>\n",
       "    </tr>\n",
       "  </tbody>\n",
       "</table>\n",
       "</div>"
      ],
      "text/plain": [
       "                   A         B         C         D\n",
       "2024-01-04  0.083324 -0.803758 -0.451653  0.530138\n",
       "2024-01-05 -0.303110  0.493536  1.630690 -0.880421\n",
       "2024-01-06  0.331985  0.820709  0.754733 -1.428603"
      ]
     },
     "execution_count": 12,
     "metadata": {},
     "output_type": "execute_result"
    }
   ],
   "source": [
    "dates.tail(3)"
   ]
  },
  {
   "cell_type": "markdown",
   "id": "7adf73bb",
   "metadata": {},
   "source": [
    "Display the index of the DataFrame created in question 7."
   ]
  },
  {
   "cell_type": "code",
   "execution_count": 13,
   "id": "d807c3e8",
   "metadata": {},
   "outputs": [
    {
     "name": "stdout",
     "output_type": "stream",
     "text": [
      "Index([0, 1, 2, 3], dtype='int64')\n"
     ]
    }
   ],
   "source": [
    "print(df.index)"
   ]
  },
  {
   "cell_type": "markdown",
   "id": "3fcddcc2",
   "metadata": {},
   "source": [
    "Display the column names of the DataFrame created in question 6."
   ]
  },
  {
   "cell_type": "code",
   "execution_count": 14,
   "id": "0b241b36",
   "metadata": {},
   "outputs": [
    {
     "name": "stdout",
     "output_type": "stream",
     "text": [
      "Index(['A', 'B', 'C', 'D'], dtype='object')\n"
     ]
    }
   ],
   "source": [
    "print(dates.columns)"
   ]
  },
  {
   "cell_type": "markdown",
   "id": "09fe8c55",
   "metadata": {},
   "source": [
    "Convert the DataFrame created in question 6 to a numpy array."
   ]
  },
  {
   "cell_type": "code",
   "execution_count": 15,
   "id": "c5d6f01e",
   "metadata": {},
   "outputs": [
    {
     "name": "stdout",
     "output_type": "stream",
     "text": [
      "[[-0.68350237 -0.27745664 -0.878199    0.39634794]\n",
      " [-1.13708266  0.9545829  -0.17526769 -1.24051349]\n",
      " [-1.35187518  1.14169633  0.05336318 -0.43338838]\n",
      " [ 0.08332447 -0.80375798 -0.45165255  0.53013752]\n",
      " [-0.30310998  0.49353567  1.63068965 -0.88042149]\n",
      " [ 0.33198462  0.82070917  0.75473299 -1.42860319]]\n"
     ]
    }
   ],
   "source": [
    "array = dates.to_numpy()\n",
    "print(array)"
   ]
  },
  {
   "cell_type": "markdown",
   "id": "7fad00fe",
   "metadata": {},
   "source": [
    "Convert the DataFrame created in question 6 to a numpy array."
   ]
  },
  {
   "cell_type": "code",
   "execution_count": 16,
   "id": "3453a137",
   "metadata": {},
   "outputs": [
    {
     "name": "stdout",
     "output_type": "stream",
     "text": [
      "[[1.0 Timestamp('2013-01-02 00:00:00') 1.0 3 'test' 'foo']\n",
      " [1.0 Timestamp('2013-01-02 00:00:00') 1.0 3 'train' 'foo']\n",
      " [1.0 Timestamp('2013-01-02 00:00:00') 1.0 3 'test' 'foo']\n",
      " [1.0 Timestamp('2013-01-02 00:00:00') 1.0 3 'train' 'foo']]\n"
     ]
    }
   ],
   "source": [
    "array = df.to_numpy()\n",
    "print(array)"
   ]
  },
  {
   "cell_type": "markdown",
   "id": "4b9cc2aa",
   "metadata": {},
   "source": [
    "Provide a summary description of the DataFrame created in question 6."
   ]
  },
  {
   "cell_type": "code",
   "execution_count": 17,
   "id": "a7a4ea47",
   "metadata": {},
   "outputs": [
    {
     "data": {
      "text/html": [
       "<div>\n",
       "<style scoped>\n",
       "    .dataframe tbody tr th:only-of-type {\n",
       "        vertical-align: middle;\n",
       "    }\n",
       "\n",
       "    .dataframe tbody tr th {\n",
       "        vertical-align: top;\n",
       "    }\n",
       "\n",
       "    .dataframe thead th {\n",
       "        text-align: right;\n",
       "    }\n",
       "</style>\n",
       "<table border=\"1\" class=\"dataframe\">\n",
       "  <thead>\n",
       "    <tr style=\"text-align: right;\">\n",
       "      <th></th>\n",
       "      <th>A</th>\n",
       "      <th>B</th>\n",
       "      <th>C</th>\n",
       "      <th>D</th>\n",
       "    </tr>\n",
       "  </thead>\n",
       "  <tbody>\n",
       "    <tr>\n",
       "      <th>count</th>\n",
       "      <td>6.000000</td>\n",
       "      <td>6.000000</td>\n",
       "      <td>6.000000</td>\n",
       "      <td>6.000000</td>\n",
       "    </tr>\n",
       "    <tr>\n",
       "      <th>mean</th>\n",
       "      <td>-0.510044</td>\n",
       "      <td>0.388218</td>\n",
       "      <td>0.155611</td>\n",
       "      <td>-0.509407</td>\n",
       "    </tr>\n",
       "    <tr>\n",
       "      <th>std</th>\n",
       "      <td>0.668710</td>\n",
       "      <td>0.768189</td>\n",
       "      <td>0.904685</td>\n",
       "      <td>0.827516</td>\n",
       "    </tr>\n",
       "    <tr>\n",
       "      <th>min</th>\n",
       "      <td>-1.351875</td>\n",
       "      <td>-0.803758</td>\n",
       "      <td>-0.878199</td>\n",
       "      <td>-1.428603</td>\n",
       "    </tr>\n",
       "    <tr>\n",
       "      <th>25%</th>\n",
       "      <td>-1.023688</td>\n",
       "      <td>-0.084709</td>\n",
       "      <td>-0.382556</td>\n",
       "      <td>-1.150490</td>\n",
       "    </tr>\n",
       "    <tr>\n",
       "      <th>50%</th>\n",
       "      <td>-0.493306</td>\n",
       "      <td>0.657122</td>\n",
       "      <td>-0.060952</td>\n",
       "      <td>-0.656905</td>\n",
       "    </tr>\n",
       "    <tr>\n",
       "      <th>75%</th>\n",
       "      <td>-0.013284</td>\n",
       "      <td>0.921114</td>\n",
       "      <td>0.579391</td>\n",
       "      <td>0.188914</td>\n",
       "    </tr>\n",
       "    <tr>\n",
       "      <th>max</th>\n",
       "      <td>0.331985</td>\n",
       "      <td>1.141696</td>\n",
       "      <td>1.630690</td>\n",
       "      <td>0.530138</td>\n",
       "    </tr>\n",
       "  </tbody>\n",
       "</table>\n",
       "</div>"
      ],
      "text/plain": [
       "              A         B         C         D\n",
       "count  6.000000  6.000000  6.000000  6.000000\n",
       "mean  -0.510044  0.388218  0.155611 -0.509407\n",
       "std    0.668710  0.768189  0.904685  0.827516\n",
       "min   -1.351875 -0.803758 -0.878199 -1.428603\n",
       "25%   -1.023688 -0.084709 -0.382556 -1.150490\n",
       "50%   -0.493306  0.657122 -0.060952 -0.656905\n",
       "75%   -0.013284  0.921114  0.579391  0.188914\n",
       "max    0.331985  1.141696  1.630690  0.530138"
      ]
     },
     "execution_count": 17,
     "metadata": {},
     "output_type": "execute_result"
    }
   ],
   "source": [
    "dates.describe()"
   ]
  },
  {
   "cell_type": "markdown",
   "id": "b18fa56a",
   "metadata": {},
   "source": [
    "Transpose the DataFrame created in question 6."
   ]
  },
  {
   "cell_type": "code",
   "execution_count": 18,
   "id": "06b85b2c",
   "metadata": {},
   "outputs": [
    {
     "data": {
      "text/html": [
       "<div>\n",
       "<style scoped>\n",
       "    .dataframe tbody tr th:only-of-type {\n",
       "        vertical-align: middle;\n",
       "    }\n",
       "\n",
       "    .dataframe tbody tr th {\n",
       "        vertical-align: top;\n",
       "    }\n",
       "\n",
       "    .dataframe thead th {\n",
       "        text-align: right;\n",
       "    }\n",
       "</style>\n",
       "<table border=\"1\" class=\"dataframe\">\n",
       "  <thead>\n",
       "    <tr style=\"text-align: right;\">\n",
       "      <th></th>\n",
       "      <th>2024-01-01</th>\n",
       "      <th>2024-01-02</th>\n",
       "      <th>2024-01-03</th>\n",
       "      <th>2024-01-04</th>\n",
       "      <th>2024-01-05</th>\n",
       "      <th>2024-01-06</th>\n",
       "    </tr>\n",
       "  </thead>\n",
       "  <tbody>\n",
       "    <tr>\n",
       "      <th>A</th>\n",
       "      <td>-0.683502</td>\n",
       "      <td>-1.137083</td>\n",
       "      <td>-1.351875</td>\n",
       "      <td>0.083324</td>\n",
       "      <td>-0.303110</td>\n",
       "      <td>0.331985</td>\n",
       "    </tr>\n",
       "    <tr>\n",
       "      <th>B</th>\n",
       "      <td>-0.277457</td>\n",
       "      <td>0.954583</td>\n",
       "      <td>1.141696</td>\n",
       "      <td>-0.803758</td>\n",
       "      <td>0.493536</td>\n",
       "      <td>0.820709</td>\n",
       "    </tr>\n",
       "    <tr>\n",
       "      <th>C</th>\n",
       "      <td>-0.878199</td>\n",
       "      <td>-0.175268</td>\n",
       "      <td>0.053363</td>\n",
       "      <td>-0.451653</td>\n",
       "      <td>1.630690</td>\n",
       "      <td>0.754733</td>\n",
       "    </tr>\n",
       "    <tr>\n",
       "      <th>D</th>\n",
       "      <td>0.396348</td>\n",
       "      <td>-1.240513</td>\n",
       "      <td>-0.433388</td>\n",
       "      <td>0.530138</td>\n",
       "      <td>-0.880421</td>\n",
       "      <td>-1.428603</td>\n",
       "    </tr>\n",
       "  </tbody>\n",
       "</table>\n",
       "</div>"
      ],
      "text/plain": [
       "   2024-01-01  2024-01-02  2024-01-03  2024-01-04  2024-01-05  2024-01-06\n",
       "A   -0.683502   -1.137083   -1.351875    0.083324   -0.303110    0.331985\n",
       "B   -0.277457    0.954583    1.141696   -0.803758    0.493536    0.820709\n",
       "C   -0.878199   -0.175268    0.053363   -0.451653    1.630690    0.754733\n",
       "D    0.396348   -1.240513   -0.433388    0.530138   -0.880421   -1.428603"
      ]
     },
     "execution_count": 18,
     "metadata": {},
     "output_type": "execute_result"
    }
   ],
   "source": [
    "dates.T"
   ]
  },
  {
   "cell_type": "markdown",
   "id": "adb3bd93",
   "metadata": {},
   "source": [
    "Sort the DataFrame created in question 6 by the index (axis=1) in descending order."
   ]
  },
  {
   "cell_type": "code",
   "execution_count": 19,
   "id": "d09fe3fa",
   "metadata": {},
   "outputs": [
    {
     "name": "stdout",
     "output_type": "stream",
     "text": [
      "                   D         C         B         A\n",
      "2024-01-01  0.396348 -0.878199 -0.277457 -0.683502\n",
      "2024-01-02 -1.240513 -0.175268  0.954583 -1.137083\n",
      "2024-01-03 -0.433388  0.053363  1.141696 -1.351875\n",
      "2024-01-04  0.530138 -0.451653 -0.803758  0.083324\n",
      "2024-01-05 -0.880421  1.630690  0.493536 -0.303110\n",
      "2024-01-06 -1.428603  0.754733  0.820709  0.331985\n"
     ]
    }
   ],
   "source": [
    "dates_sorted = dates.sort_index(axis=1, ascending=False)\n",
    "print(dates_sorted)"
   ]
  },
  {
   "cell_type": "markdown",
   "id": "ae122c0e",
   "metadata": {},
   "source": [
    "Sort the DataFrame created in question 6 by the values in column B."
   ]
  },
  {
   "cell_type": "code",
   "execution_count": 20,
   "id": "b340549e",
   "metadata": {},
   "outputs": [
    {
     "name": "stdout",
     "output_type": "stream",
     "text": [
      "                   A         B         C         D\n",
      "2024-01-04  0.083324 -0.803758 -0.451653  0.530138\n",
      "2024-01-01 -0.683502 -0.277457 -0.878199  0.396348\n",
      "2024-01-05 -0.303110  0.493536  1.630690 -0.880421\n",
      "2024-01-06  0.331985  0.820709  0.754733 -1.428603\n",
      "2024-01-02 -1.137083  0.954583 -0.175268 -1.240513\n",
      "2024-01-03 -1.351875  1.141696  0.053363 -0.433388\n"
     ]
    }
   ],
   "source": [
    "dates_sorted_by_B = dates.sort_values(by='B')\n",
    "print(dates_sorted_by_B)"
   ]
  },
  {
   "cell_type": "markdown",
   "id": "16b518ed",
   "metadata": {},
   "source": [
    "Select the column A from the DataFrame created in question 6."
   ]
  },
  {
   "cell_type": "code",
   "execution_count": 21,
   "id": "05c697c7",
   "metadata": {},
   "outputs": [
    {
     "data": {
      "text/plain": [
       "2024-01-01   -0.683502\n",
       "2024-01-02   -1.137083\n",
       "2024-01-03   -1.351875\n",
       "2024-01-04    0.083324\n",
       "2024-01-05   -0.303110\n",
       "2024-01-06    0.331985\n",
       "Freq: D, Name: A, dtype: float64"
      ]
     },
     "execution_count": 21,
     "metadata": {},
     "output_type": "execute_result"
    }
   ],
   "source": [
    "dates[\"A\"]"
   ]
  },
  {
   "cell_type": "markdown",
   "id": "b0b7de23",
   "metadata": {},
   "source": [
    "Select the first 3 rows of the DataFrame created in question 6."
   ]
  },
  {
   "cell_type": "code",
   "execution_count": 22,
   "id": "82245ed0",
   "metadata": {},
   "outputs": [
    {
     "data": {
      "text/html": [
       "<div>\n",
       "<style scoped>\n",
       "    .dataframe tbody tr th:only-of-type {\n",
       "        vertical-align: middle;\n",
       "    }\n",
       "\n",
       "    .dataframe tbody tr th {\n",
       "        vertical-align: top;\n",
       "    }\n",
       "\n",
       "    .dataframe thead th {\n",
       "        text-align: right;\n",
       "    }\n",
       "</style>\n",
       "<table border=\"1\" class=\"dataframe\">\n",
       "  <thead>\n",
       "    <tr style=\"text-align: right;\">\n",
       "      <th></th>\n",
       "      <th>A</th>\n",
       "      <th>B</th>\n",
       "      <th>C</th>\n",
       "      <th>D</th>\n",
       "      <th>E</th>\n",
       "      <th>F</th>\n",
       "    </tr>\n",
       "  </thead>\n",
       "  <tbody>\n",
       "    <tr>\n",
       "      <th>1</th>\n",
       "      <td>1.0</td>\n",
       "      <td>2013-01-02</td>\n",
       "      <td>1.0</td>\n",
       "      <td>3</td>\n",
       "      <td>train</td>\n",
       "      <td>foo</td>\n",
       "    </tr>\n",
       "    <tr>\n",
       "      <th>2</th>\n",
       "      <td>1.0</td>\n",
       "      <td>2013-01-02</td>\n",
       "      <td>1.0</td>\n",
       "      <td>3</td>\n",
       "      <td>test</td>\n",
       "      <td>foo</td>\n",
       "    </tr>\n",
       "    <tr>\n",
       "      <th>3</th>\n",
       "      <td>1.0</td>\n",
       "      <td>2013-01-02</td>\n",
       "      <td>1.0</td>\n",
       "      <td>3</td>\n",
       "      <td>train</td>\n",
       "      <td>foo</td>\n",
       "    </tr>\n",
       "  </tbody>\n",
       "</table>\n",
       "</div>"
      ],
      "text/plain": [
       "     A          B    C  D      E    F\n",
       "1  1.0 2013-01-02  1.0  3  train  foo\n",
       "2  1.0 2013-01-02  1.0  3   test  foo\n",
       "3  1.0 2013-01-02  1.0  3  train  foo"
      ]
     },
     "execution_count": 22,
     "metadata": {},
     "output_type": "execute_result"
    }
   ],
   "source": [
    "sd =df.loc[1:3]\n",
    "sd"
   ]
  },
  {
   "cell_type": "markdown",
   "id": "ff633322",
   "metadata": {},
   "source": [
    "Select the rows from \"2024-01-02\" to \"2024-01-04\" from the DataFrame created in question 6."
   ]
  },
  {
   "cell_type": "code",
   "execution_count": 23,
   "id": "799195bc",
   "metadata": {},
   "outputs": [
    {
     "data": {
      "text/html": [
       "<div>\n",
       "<style scoped>\n",
       "    .dataframe tbody tr th:only-of-type {\n",
       "        vertical-align: middle;\n",
       "    }\n",
       "\n",
       "    .dataframe tbody tr th {\n",
       "        vertical-align: top;\n",
       "    }\n",
       "\n",
       "    .dataframe thead th {\n",
       "        text-align: right;\n",
       "    }\n",
       "</style>\n",
       "<table border=\"1\" class=\"dataframe\">\n",
       "  <thead>\n",
       "    <tr style=\"text-align: right;\">\n",
       "      <th></th>\n",
       "      <th>A</th>\n",
       "      <th>B</th>\n",
       "      <th>C</th>\n",
       "      <th>D</th>\n",
       "    </tr>\n",
       "  </thead>\n",
       "  <tbody>\n",
       "    <tr>\n",
       "      <th>2024-01-02</th>\n",
       "      <td>-1.137083</td>\n",
       "      <td>0.954583</td>\n",
       "      <td>-0.175268</td>\n",
       "      <td>-1.240513</td>\n",
       "    </tr>\n",
       "    <tr>\n",
       "      <th>2024-01-03</th>\n",
       "      <td>-1.351875</td>\n",
       "      <td>1.141696</td>\n",
       "      <td>0.053363</td>\n",
       "      <td>-0.433388</td>\n",
       "    </tr>\n",
       "    <tr>\n",
       "      <th>2024-01-04</th>\n",
       "      <td>0.083324</td>\n",
       "      <td>-0.803758</td>\n",
       "      <td>-0.451653</td>\n",
       "      <td>0.530138</td>\n",
       "    </tr>\n",
       "  </tbody>\n",
       "</table>\n",
       "</div>"
      ],
      "text/plain": [
       "                   A         B         C         D\n",
       "2024-01-02 -1.137083  0.954583 -0.175268 -1.240513\n",
       "2024-01-03 -1.351875  1.141696  0.053363 -0.433388\n",
       "2024-01-04  0.083324 -0.803758 -0.451653  0.530138"
      ]
     },
     "execution_count": 23,
     "metadata": {},
     "output_type": "execute_result"
    }
   ],
   "source": [
    "sc=dates.loc[['2024-01-02', '2024-01-03', '2024-01-04']]\n",
    "sc"
   ]
  }
 ],
 "metadata": {
  "kernelspec": {
   "display_name": "Python 3",
   "language": "python",
   "name": "python3"
  },
  "language_info": {
   "codemirror_mode": {
    "name": "ipython",
    "version": 3
   },
   "file_extension": ".py",
   "mimetype": "text/x-python",
   "name": "python",
   "nbconvert_exporter": "python",
   "pygments_lexer": "ipython3",
   "version": "3.13.2"
  }
 },
 "nbformat": 4,
 "nbformat_minor": 5
}
