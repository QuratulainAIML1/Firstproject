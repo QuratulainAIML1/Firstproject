{
 "cells": [
  {
   "cell_type": "markdown",
   "metadata": {},
   "source": [
    "<center>Name : Quratulain<br>\n",
    "Email : QuratulainkhanAIML1@hotmail.com<br>\n",
    "Github :QuratulainkhanAIML1<br>\n",
    "Title : Assignment 1</center>"
   ]
  },
  {
   "cell_type": "markdown",
   "metadata": {},
   "source": [
    "**Data Preparation**"
   ]
  },
  {
   "cell_type": "markdown",
   "metadata": {},
   "source": [
    "Install Libraries"
   ]
  },
  {
   "cell_type": "code",
   "execution_count": 1,
   "metadata": {},
   "outputs": [
    {
     "name": "stdout",
     "output_type": "stream",
     "text": [
      "Requirement already satisfied: pandas in c:\\users\\qurat\\appdata\\local\\programs\\python\\python313\\lib\\site-packages (2.2.3)\n",
      "Requirement already satisfied: numpy>=1.26.0 in c:\\users\\qurat\\appdata\\local\\programs\\python\\python313\\lib\\site-packages (from pandas) (2.2.3)\n",
      "Requirement already satisfied: python-dateutil>=2.8.2 in c:\\users\\qurat\\appdata\\roaming\\python\\python313\\site-packages (from pandas) (2.9.0.post0)\n",
      "Requirement already satisfied: pytz>=2020.1 in c:\\users\\qurat\\appdata\\local\\programs\\python\\python313\\lib\\site-packages (from pandas) (2025.1)\n",
      "Requirement already satisfied: tzdata>=2022.7 in c:\\users\\qurat\\appdata\\local\\programs\\python\\python313\\lib\\site-packages (from pandas) (2025.1)\n",
      "Requirement already satisfied: six>=1.5 in c:\\users\\qurat\\appdata\\roaming\\python\\python313\\site-packages (from python-dateutil>=2.8.2->pandas) (1.17.0)\n",
      "Note: you may need to restart the kernel to use updated packages.\n"
     ]
    }
   ],
   "source": [
    "%pip install pandas"
   ]
  },
  {
   "cell_type": "code",
   "execution_count": 2,
   "metadata": {},
   "outputs": [
    {
     "name": "stdout",
     "output_type": "stream",
     "text": [
      "Requirement already satisfied: numpy in c:\\users\\qurat\\appdata\\local\\programs\\python\\python313\\lib\\site-packages (2.2.3)\n",
      "Note: you may need to restart the kernel to use updated packages.\n"
     ]
    }
   ],
   "source": [
    "%pip install numpy"
   ]
  },
  {
   "cell_type": "code",
   "execution_count": 3,
   "metadata": {},
   "outputs": [
    {
     "name": "stdout",
     "output_type": "stream",
     "text": [
      "Note: you may need to restart the kernel to use updated packages.\n"
     ]
    },
    {
     "name": "stderr",
     "output_type": "stream",
     "text": [
      "WARNING: Retrying (Retry(total=4, connect=None, read=None, redirect=None, status=None)) after connection broken by 'NewConnectionError('<pip._vendor.urllib3.connection.HTTPSConnection object at 0x000002EF4347CAD0>: Failed to establish a new connection: [Errno 11001] getaddrinfo failed')': /simple/matplotlib-pyplot/\n",
      "WARNING: Retrying (Retry(total=3, connect=None, read=None, redirect=None, status=None)) after connection broken by 'NewConnectionError('<pip._vendor.urllib3.connection.HTTPSConnection object at 0x000002EF4341E490>: Failed to establish a new connection: [Errno 11001] getaddrinfo failed')': /simple/matplotlib-pyplot/\n",
      "WARNING: Retrying (Retry(total=2, connect=None, read=None, redirect=None, status=None)) after connection broken by 'NewConnectionError('<pip._vendor.urllib3.connection.HTTPSConnection object at 0x000002EF4341E710>: Failed to establish a new connection: [Errno 11001] getaddrinfo failed')': /simple/matplotlib-pyplot/\n",
      "WARNING: Retrying (Retry(total=1, connect=None, read=None, redirect=None, status=None)) after connection broken by 'NewConnectionError('<pip._vendor.urllib3.connection.HTTPSConnection object at 0x000002EF4341E990>: Failed to establish a new connection: [Errno 11001] getaddrinfo failed')': /simple/matplotlib-pyplot/\n",
      "WARNING: Retrying (Retry(total=0, connect=None, read=None, redirect=None, status=None)) after connection broken by 'NewConnectionError('<pip._vendor.urllib3.connection.HTTPSConnection object at 0x000002EF4341EC10>: Failed to establish a new connection: [Errno 11001] getaddrinfo failed')': /simple/matplotlib-pyplot/\n",
      "ERROR: Could not find a version that satisfies the requirement matplotlib.pyplot (from versions: none)\n",
      "ERROR: No matching distribution found for matplotlib.pyplot\n"
     ]
    }
   ],
   "source": [
    "%pip install matplotlib.pyplot"
   ]
  },
  {
   "cell_type": "markdown",
   "metadata": {},
   "source": [
    "Import Libraries"
   ]
  },
  {
   "cell_type": "code",
   "execution_count": 4,
   "metadata": {},
   "outputs": [],
   "source": [
    "import pandas as pd"
   ]
  },
  {
   "cell_type": "code",
   "execution_count": 5,
   "metadata": {},
   "outputs": [],
   "source": [
    "import numpy as np"
   ]
  },
  {
   "cell_type": "code",
   "execution_count": 6,
   "metadata": {},
   "outputs": [],
   "source": [
    "import matplotlib.pyplot as plt"
   ]
  },
  {
   "cell_type": "markdown",
   "metadata": {},
   "source": [
    "Load the Dataset"
   ]
  },
  {
   "cell_type": "code",
   "execution_count": 7,
   "metadata": {},
   "outputs": [],
   "source": [
    "df=pd.read_csv(\"Sales_data.csv\")"
   ]
  },
  {
   "cell_type": "markdown",
   "metadata": {},
   "source": [
    "**Data Exploration**"
   ]
  },
  {
   "cell_type": "markdown",
   "metadata": {},
   "source": [
    "View the Data:"
   ]
  },
  {
   "cell_type": "code",
   "execution_count": 8,
   "metadata": {},
   "outputs": [
    {
     "data": {
      "text/html": [
       "<div>\n",
       "<style scoped>\n",
       "    .dataframe tbody tr th:only-of-type {\n",
       "        vertical-align: middle;\n",
       "    }\n",
       "\n",
       "    .dataframe tbody tr th {\n",
       "        vertical-align: top;\n",
       "    }\n",
       "\n",
       "    .dataframe thead th {\n",
       "        text-align: right;\n",
       "    }\n",
       "</style>\n",
       "<table border=\"1\" class=\"dataframe\">\n",
       "  <thead>\n",
       "    <tr style=\"text-align: right;\">\n",
       "      <th></th>\n",
       "      <th>Date</th>\n",
       "      <th>Product Name</th>\n",
       "      <th>Region</th>\n",
       "      <th>Quantity Sold</th>\n",
       "      <th>Revenue (PKR)</th>\n",
       "    </tr>\n",
       "  </thead>\n",
       "  <tbody>\n",
       "    <tr>\n",
       "      <th>0</th>\n",
       "      <td>1/1/2025</td>\n",
       "      <td>Shalwar Kameez</td>\n",
       "      <td>Lahore</td>\n",
       "      <td>120.0</td>\n",
       "      <td>240000.0</td>\n",
       "    </tr>\n",
       "    <tr>\n",
       "      <th>1</th>\n",
       "      <td>1/1/2025</td>\n",
       "      <td>Kurti</td>\n",
       "      <td>Karachi</td>\n",
       "      <td>80.0</td>\n",
       "      <td>80000.0</td>\n",
       "    </tr>\n",
       "    <tr>\n",
       "      <th>2</th>\n",
       "      <td>1/2/2025</td>\n",
       "      <td>Dupatta</td>\n",
       "      <td>Islamabad</td>\n",
       "      <td>50.0</td>\n",
       "      <td>25000.0</td>\n",
       "    </tr>\n",
       "    <tr>\n",
       "      <th>3</th>\n",
       "      <td>1/2/2025</td>\n",
       "      <td>Jeans</td>\n",
       "      <td>Lahore</td>\n",
       "      <td>100.0</td>\n",
       "      <td>120000.0</td>\n",
       "    </tr>\n",
       "    <tr>\n",
       "      <th>4</th>\n",
       "      <td>1/3/2025</td>\n",
       "      <td>T-Shirt</td>\n",
       "      <td>Faisalabad</td>\n",
       "      <td>NaN</td>\n",
       "      <td>75000.0</td>\n",
       "    </tr>\n",
       "    <tr>\n",
       "      <th>5</th>\n",
       "      <td>2/4/2025</td>\n",
       "      <td>Kurti</td>\n",
       "      <td>Lahore</td>\n",
       "      <td>90.0</td>\n",
       "      <td>90000.0</td>\n",
       "    </tr>\n",
       "    <tr>\n",
       "      <th>6</th>\n",
       "      <td>2/5/2025</td>\n",
       "      <td>Dupatta</td>\n",
       "      <td>Multan</td>\n",
       "      <td>60.0</td>\n",
       "      <td>30000.0</td>\n",
       "    </tr>\n",
       "    <tr>\n",
       "      <th>7</th>\n",
       "      <td>3/5/2025</td>\n",
       "      <td>Shalwar Kameez</td>\n",
       "      <td>Karachi</td>\n",
       "      <td>110.0</td>\n",
       "      <td>220000.0</td>\n",
       "    </tr>\n",
       "    <tr>\n",
       "      <th>8</th>\n",
       "      <td>3/6/2025</td>\n",
       "      <td>T-Shirt</td>\n",
       "      <td>Peshawar</td>\n",
       "      <td>130.0</td>\n",
       "      <td>65000.0</td>\n",
       "    </tr>\n",
       "    <tr>\n",
       "      <th>9</th>\n",
       "      <td>3/10/2025</td>\n",
       "      <td>Jeans</td>\n",
       "      <td>Lahore</td>\n",
       "      <td>95.0</td>\n",
       "      <td>NaN</td>\n",
       "    </tr>\n",
       "    <tr>\n",
       "      <th>10</th>\n",
       "      <td>4/8/2025</td>\n",
       "      <td>Shalwar Kameez</td>\n",
       "      <td>Islamabad</td>\n",
       "      <td>NaN</td>\n",
       "      <td>200000.0</td>\n",
       "    </tr>\n",
       "    <tr>\n",
       "      <th>11</th>\n",
       "      <td>4/10/2025</td>\n",
       "      <td>Kurti</td>\n",
       "      <td>Faisalabad</td>\n",
       "      <td>85.0</td>\n",
       "      <td>85000.0</td>\n",
       "    </tr>\n",
       "    <tr>\n",
       "      <th>12</th>\n",
       "      <td>5/10/2025</td>\n",
       "      <td>Dupatta</td>\n",
       "      <td>Lahore</td>\n",
       "      <td>70.0</td>\n",
       "      <td>35000.0</td>\n",
       "    </tr>\n",
       "    <tr>\n",
       "      <th>13</th>\n",
       "      <td>5/24/2025</td>\n",
       "      <td>T-Shirt</td>\n",
       "      <td>Karachi</td>\n",
       "      <td>140.0</td>\n",
       "      <td>70000.0</td>\n",
       "    </tr>\n",
       "    <tr>\n",
       "      <th>14</th>\n",
       "      <td>6/12/2025</td>\n",
       "      <td>Jeans</td>\n",
       "      <td>Multan</td>\n",
       "      <td>80.0</td>\n",
       "      <td>NaN</td>\n",
       "    </tr>\n",
       "    <tr>\n",
       "      <th>15</th>\n",
       "      <td>7/13/2025</td>\n",
       "      <td>Kurti</td>\n",
       "      <td>Lahore</td>\n",
       "      <td>100.0</td>\n",
       "      <td>100000.0</td>\n",
       "    </tr>\n",
       "    <tr>\n",
       "      <th>16</th>\n",
       "      <td>8/7/2025</td>\n",
       "      <td>Shalwar Kameez</td>\n",
       "      <td>Peshawar</td>\n",
       "      <td>90.0</td>\n",
       "      <td>180000.0</td>\n",
       "    </tr>\n",
       "    <tr>\n",
       "      <th>17</th>\n",
       "      <td>8/13/2025</td>\n",
       "      <td>Dupatta</td>\n",
       "      <td>Islamabad</td>\n",
       "      <td>55.0</td>\n",
       "      <td>27500.0</td>\n",
       "    </tr>\n",
       "    <tr>\n",
       "      <th>18</th>\n",
       "      <td>9/16/2025</td>\n",
       "      <td>T-Shirt</td>\n",
       "      <td>Faisalabad</td>\n",
       "      <td>160.0</td>\n",
       "      <td>NaN</td>\n",
       "    </tr>\n",
       "    <tr>\n",
       "      <th>19</th>\n",
       "      <td>10/17/2025</td>\n",
       "      <td>Jeans</td>\n",
       "      <td>Lahore</td>\n",
       "      <td>105.0</td>\n",
       "      <td>126000.0</td>\n",
       "    </tr>\n",
       "  </tbody>\n",
       "</table>\n",
       "</div>"
      ],
      "text/plain": [
       "          Date    Product Name      Region  Quantity Sold  Revenue (PKR)\n",
       "0     1/1/2025  Shalwar Kameez      Lahore          120.0       240000.0\n",
       "1     1/1/2025           Kurti     Karachi           80.0        80000.0\n",
       "2     1/2/2025         Dupatta   Islamabad           50.0        25000.0\n",
       "3     1/2/2025           Jeans      Lahore          100.0       120000.0\n",
       "4     1/3/2025         T-Shirt  Faisalabad            NaN        75000.0\n",
       "5     2/4/2025           Kurti      Lahore           90.0        90000.0\n",
       "6     2/5/2025         Dupatta      Multan           60.0        30000.0\n",
       "7     3/5/2025  Shalwar Kameez     Karachi          110.0       220000.0\n",
       "8     3/6/2025         T-Shirt    Peshawar          130.0        65000.0\n",
       "9    3/10/2025           Jeans      Lahore           95.0            NaN\n",
       "10    4/8/2025  Shalwar Kameez   Islamabad            NaN       200000.0\n",
       "11   4/10/2025           Kurti  Faisalabad           85.0        85000.0\n",
       "12   5/10/2025         Dupatta      Lahore           70.0        35000.0\n",
       "13   5/24/2025         T-Shirt     Karachi          140.0        70000.0\n",
       "14   6/12/2025           Jeans      Multan           80.0            NaN\n",
       "15   7/13/2025           Kurti      Lahore          100.0       100000.0\n",
       "16    8/7/2025  Shalwar Kameez    Peshawar           90.0       180000.0\n",
       "17   8/13/2025         Dupatta   Islamabad           55.0        27500.0\n",
       "18   9/16/2025         T-Shirt  Faisalabad          160.0            NaN\n",
       "19  10/17/2025           Jeans      Lahore          105.0       126000.0"
      ]
     },
     "execution_count": 8,
     "metadata": {},
     "output_type": "execute_result"
    }
   ],
   "source": [
    "df"
   ]
  },
  {
   "cell_type": "markdown",
   "metadata": {},
   "source": [
    "Display the first 10 rows of the DataFrame to understand the structure of the data:"
   ]
  },
  {
   "cell_type": "code",
   "execution_count": 9,
   "metadata": {},
   "outputs": [
    {
     "data": {
      "text/html": [
       "<div>\n",
       "<style scoped>\n",
       "    .dataframe tbody tr th:only-of-type {\n",
       "        vertical-align: middle;\n",
       "    }\n",
       "\n",
       "    .dataframe tbody tr th {\n",
       "        vertical-align: top;\n",
       "    }\n",
       "\n",
       "    .dataframe thead th {\n",
       "        text-align: right;\n",
       "    }\n",
       "</style>\n",
       "<table border=\"1\" class=\"dataframe\">\n",
       "  <thead>\n",
       "    <tr style=\"text-align: right;\">\n",
       "      <th></th>\n",
       "      <th>Date</th>\n",
       "      <th>Product Name</th>\n",
       "      <th>Region</th>\n",
       "      <th>Quantity Sold</th>\n",
       "      <th>Revenue (PKR)</th>\n",
       "    </tr>\n",
       "  </thead>\n",
       "  <tbody>\n",
       "    <tr>\n",
       "      <th>0</th>\n",
       "      <td>1/1/2025</td>\n",
       "      <td>Shalwar Kameez</td>\n",
       "      <td>Lahore</td>\n",
       "      <td>120.0</td>\n",
       "      <td>240000.0</td>\n",
       "    </tr>\n",
       "    <tr>\n",
       "      <th>1</th>\n",
       "      <td>1/1/2025</td>\n",
       "      <td>Kurti</td>\n",
       "      <td>Karachi</td>\n",
       "      <td>80.0</td>\n",
       "      <td>80000.0</td>\n",
       "    </tr>\n",
       "    <tr>\n",
       "      <th>2</th>\n",
       "      <td>1/2/2025</td>\n",
       "      <td>Dupatta</td>\n",
       "      <td>Islamabad</td>\n",
       "      <td>50.0</td>\n",
       "      <td>25000.0</td>\n",
       "    </tr>\n",
       "    <tr>\n",
       "      <th>3</th>\n",
       "      <td>1/2/2025</td>\n",
       "      <td>Jeans</td>\n",
       "      <td>Lahore</td>\n",
       "      <td>100.0</td>\n",
       "      <td>120000.0</td>\n",
       "    </tr>\n",
       "    <tr>\n",
       "      <th>4</th>\n",
       "      <td>1/3/2025</td>\n",
       "      <td>T-Shirt</td>\n",
       "      <td>Faisalabad</td>\n",
       "      <td>NaN</td>\n",
       "      <td>75000.0</td>\n",
       "    </tr>\n",
       "    <tr>\n",
       "      <th>5</th>\n",
       "      <td>2/4/2025</td>\n",
       "      <td>Kurti</td>\n",
       "      <td>Lahore</td>\n",
       "      <td>90.0</td>\n",
       "      <td>90000.0</td>\n",
       "    </tr>\n",
       "    <tr>\n",
       "      <th>6</th>\n",
       "      <td>2/5/2025</td>\n",
       "      <td>Dupatta</td>\n",
       "      <td>Multan</td>\n",
       "      <td>60.0</td>\n",
       "      <td>30000.0</td>\n",
       "    </tr>\n",
       "    <tr>\n",
       "      <th>7</th>\n",
       "      <td>3/5/2025</td>\n",
       "      <td>Shalwar Kameez</td>\n",
       "      <td>Karachi</td>\n",
       "      <td>110.0</td>\n",
       "      <td>220000.0</td>\n",
       "    </tr>\n",
       "    <tr>\n",
       "      <th>8</th>\n",
       "      <td>3/6/2025</td>\n",
       "      <td>T-Shirt</td>\n",
       "      <td>Peshawar</td>\n",
       "      <td>130.0</td>\n",
       "      <td>65000.0</td>\n",
       "    </tr>\n",
       "    <tr>\n",
       "      <th>9</th>\n",
       "      <td>3/10/2025</td>\n",
       "      <td>Jeans</td>\n",
       "      <td>Lahore</td>\n",
       "      <td>95.0</td>\n",
       "      <td>NaN</td>\n",
       "    </tr>\n",
       "  </tbody>\n",
       "</table>\n",
       "</div>"
      ],
      "text/plain": [
       "        Date    Product Name      Region  Quantity Sold  Revenue (PKR)\n",
       "0   1/1/2025  Shalwar Kameez      Lahore          120.0       240000.0\n",
       "1   1/1/2025           Kurti     Karachi           80.0        80000.0\n",
       "2   1/2/2025         Dupatta   Islamabad           50.0        25000.0\n",
       "3   1/2/2025           Jeans      Lahore          100.0       120000.0\n",
       "4   1/3/2025         T-Shirt  Faisalabad            NaN        75000.0\n",
       "5   2/4/2025           Kurti      Lahore           90.0        90000.0\n",
       "6   2/5/2025         Dupatta      Multan           60.0        30000.0\n",
       "7   3/5/2025  Shalwar Kameez     Karachi          110.0       220000.0\n",
       "8   3/6/2025         T-Shirt    Peshawar          130.0        65000.0\n",
       "9  3/10/2025           Jeans      Lahore           95.0            NaN"
      ]
     },
     "execution_count": 9,
     "metadata": {},
     "output_type": "execute_result"
    }
   ],
   "source": [
    "df.head(10)"
   ]
  },
  {
   "cell_type": "markdown",
   "metadata": {},
   "source": [
    "**Summary Statistics**"
   ]
  },
  {
   "cell_type": "code",
   "execution_count": 10,
   "metadata": {},
   "outputs": [
    {
     "data": {
      "text/html": [
       "<div>\n",
       "<style scoped>\n",
       "    .dataframe tbody tr th:only-of-type {\n",
       "        vertical-align: middle;\n",
       "    }\n",
       "\n",
       "    .dataframe tbody tr th {\n",
       "        vertical-align: top;\n",
       "    }\n",
       "\n",
       "    .dataframe thead th {\n",
       "        text-align: right;\n",
       "    }\n",
       "</style>\n",
       "<table border=\"1\" class=\"dataframe\">\n",
       "  <thead>\n",
       "    <tr style=\"text-align: right;\">\n",
       "      <th></th>\n",
       "      <th>Quantity Sold</th>\n",
       "      <th>Revenue (PKR)</th>\n",
       "    </tr>\n",
       "  </thead>\n",
       "  <tbody>\n",
       "    <tr>\n",
       "      <th>count</th>\n",
       "      <td>18.000000</td>\n",
       "      <td>17.000000</td>\n",
       "    </tr>\n",
       "    <tr>\n",
       "      <th>mean</th>\n",
       "      <td>95.555556</td>\n",
       "      <td>104029.411765</td>\n",
       "    </tr>\n",
       "    <tr>\n",
       "      <th>std</th>\n",
       "      <td>29.249881</td>\n",
       "      <td>68319.669246</td>\n",
       "    </tr>\n",
       "    <tr>\n",
       "      <th>min</th>\n",
       "      <td>50.000000</td>\n",
       "      <td>25000.000000</td>\n",
       "    </tr>\n",
       "    <tr>\n",
       "      <th>25%</th>\n",
       "      <td>80.000000</td>\n",
       "      <td>65000.000000</td>\n",
       "    </tr>\n",
       "    <tr>\n",
       "      <th>50%</th>\n",
       "      <td>92.500000</td>\n",
       "      <td>85000.000000</td>\n",
       "    </tr>\n",
       "    <tr>\n",
       "      <th>75%</th>\n",
       "      <td>108.750000</td>\n",
       "      <td>126000.000000</td>\n",
       "    </tr>\n",
       "    <tr>\n",
       "      <th>max</th>\n",
       "      <td>160.000000</td>\n",
       "      <td>240000.000000</td>\n",
       "    </tr>\n",
       "  </tbody>\n",
       "</table>\n",
       "</div>"
      ],
      "text/plain": [
       "       Quantity Sold  Revenue (PKR)\n",
       "count      18.000000      17.000000\n",
       "mean       95.555556  104029.411765\n",
       "std        29.249881   68319.669246\n",
       "min        50.000000   25000.000000\n",
       "25%        80.000000   65000.000000\n",
       "50%        92.500000   85000.000000\n",
       "75%       108.750000  126000.000000\n",
       "max       160.000000  240000.000000"
      ]
     },
     "execution_count": 10,
     "metadata": {},
     "output_type": "execute_result"
    }
   ],
   "source": [
    "df.describe()"
   ]
  },
  {
   "cell_type": "markdown",
   "metadata": {},
   "source": [
    "Display the data types of each column"
   ]
  },
  {
   "cell_type": "code",
   "execution_count": 11,
   "metadata": {},
   "outputs": [
    {
     "data": {
      "text/plain": [
       "Date              object\n",
       "Product Name      object\n",
       "Region            object\n",
       "Quantity Sold    float64\n",
       "Revenue (PKR)    float64\n",
       "dtype: object"
      ]
     },
     "execution_count": 11,
     "metadata": {},
     "output_type": "execute_result"
    }
   ],
   "source": [
    "df.dtypes"
   ]
  },
  {
   "cell_type": "markdown",
   "metadata": {},
   "source": [
    "**Data Cleaning**"
   ]
  },
  {
   "cell_type": "markdown",
   "metadata": {},
   "source": [
    "\n",
    "Handle Missing Values:"
   ]
  },
  {
   "cell_type": "code",
   "execution_count": 12,
   "metadata": {},
   "outputs": [
    {
     "data": {
      "text/plain": [
       "Date             0\n",
       "Product Name     0\n",
       "Region           0\n",
       "Quantity Sold    2\n",
       "Revenue (PKR)    3\n",
       "dtype: int64"
      ]
     },
     "execution_count": 12,
     "metadata": {},
     "output_type": "execute_result"
    }
   ],
   "source": [
    "df.isnull().sum()"
   ]
  },
  {
   "cell_type": "markdown",
   "metadata": {},
   "source": [
    "Drop Missing Values in Revenue"
   ]
  },
  {
   "cell_type": "code",
   "execution_count": 13,
   "metadata": {},
   "outputs": [],
   "source": [
    "Clean_df=df.dropna(subset=['Revenue (PKR)'])"
   ]
  },
  {
   "cell_type": "markdown",
   "metadata": {},
   "source": [
    "Preview Clean Data"
   ]
  },
  {
   "cell_type": "code",
   "execution_count": 14,
   "metadata": {},
   "outputs": [
    {
     "name": "stdout",
     "output_type": "stream",
     "text": [
      "          Date    Product Name      Region  Quantity Sold  Revenue (PKR)\n",
      "0     1/1/2025  Shalwar Kameez      Lahore          120.0       240000.0\n",
      "1     1/1/2025           Kurti     Karachi           80.0        80000.0\n",
      "2     1/2/2025         Dupatta   Islamabad           50.0        25000.0\n",
      "3     1/2/2025           Jeans      Lahore          100.0       120000.0\n",
      "4     1/3/2025         T-Shirt  Faisalabad            NaN        75000.0\n",
      "5     2/4/2025           Kurti      Lahore           90.0        90000.0\n",
      "6     2/5/2025         Dupatta      Multan           60.0        30000.0\n",
      "7     3/5/2025  Shalwar Kameez     Karachi          110.0       220000.0\n",
      "8     3/6/2025         T-Shirt    Peshawar          130.0        65000.0\n",
      "10    4/8/2025  Shalwar Kameez   Islamabad            NaN       200000.0\n",
      "11   4/10/2025           Kurti  Faisalabad           85.0        85000.0\n",
      "12   5/10/2025         Dupatta      Lahore           70.0        35000.0\n",
      "13   5/24/2025         T-Shirt     Karachi          140.0        70000.0\n",
      "15   7/13/2025           Kurti      Lahore          100.0       100000.0\n",
      "16    8/7/2025  Shalwar Kameez    Peshawar           90.0       180000.0\n",
      "17   8/13/2025         Dupatta   Islamabad           55.0        27500.0\n",
      "19  10/17/2025           Jeans      Lahore          105.0       126000.0\n"
     ]
    }
   ],
   "source": [
    "print(Clean_df)"
   ]
  },
  {
   "cell_type": "markdown",
   "metadata": {},
   "source": [
    "Check Misiing Values"
   ]
  },
  {
   "cell_type": "code",
   "execution_count": 15,
   "metadata": {},
   "outputs": [
    {
     "data": {
      "text/plain": [
       "Date             0\n",
       "Product Name     0\n",
       "Region           0\n",
       "Quantity Sold    2\n",
       "Revenue (PKR)    0\n",
       "dtype: int64"
      ]
     },
     "execution_count": 15,
     "metadata": {},
     "output_type": "execute_result"
    }
   ],
   "source": [
    "Clean_df.isnull().sum()"
   ]
  },
  {
   "cell_type": "markdown",
   "metadata": {},
   "source": [
    "Fill missing values in QuantitySold Column with mean of the column."
   ]
  },
  {
   "cell_type": "code",
   "execution_count": 16,
   "metadata": {},
   "outputs": [
    {
     "name": "stdout",
     "output_type": "stream",
     "text": [
      "          Date    Product Name      Region  Quantity Sold  Revenue (PKR)\n",
      "0     1/1/2025  Shalwar Kameez      Lahore     120.000000       240000.0\n",
      "1     1/1/2025           Kurti     Karachi      80.000000        80000.0\n",
      "2     1/2/2025         Dupatta   Islamabad      50.000000        25000.0\n",
      "3     1/2/2025           Jeans      Lahore     100.000000       120000.0\n",
      "4     1/3/2025         T-Shirt  Faisalabad      92.333333        75000.0\n",
      "5     2/4/2025           Kurti      Lahore      90.000000        90000.0\n",
      "6     2/5/2025         Dupatta      Multan      60.000000        30000.0\n",
      "7     3/5/2025  Shalwar Kameez     Karachi     110.000000       220000.0\n",
      "8     3/6/2025         T-Shirt    Peshawar     130.000000        65000.0\n",
      "10    4/8/2025  Shalwar Kameez   Islamabad      92.333333       200000.0\n",
      "11   4/10/2025           Kurti  Faisalabad      85.000000        85000.0\n",
      "12   5/10/2025         Dupatta      Lahore      70.000000        35000.0\n",
      "13   5/24/2025         T-Shirt     Karachi     140.000000        70000.0\n",
      "15   7/13/2025           Kurti      Lahore     100.000000       100000.0\n",
      "16    8/7/2025  Shalwar Kameez    Peshawar      90.000000       180000.0\n",
      "17   8/13/2025         Dupatta   Islamabad      55.000000        27500.0\n",
      "19  10/17/2025           Jeans      Lahore     105.000000       126000.0\n"
     ]
    },
    {
     "name": "stderr",
     "output_type": "stream",
     "text": [
      "C:\\Users\\qurat\\AppData\\Local\\Temp\\ipykernel_13664\\3775666950.py:2: FutureWarning: A value is trying to be set on a copy of a DataFrame or Series through chained assignment using an inplace method.\n",
      "The behavior will change in pandas 3.0. This inplace method will never work because the intermediate object on which we are setting values always behaves as a copy.\n",
      "\n",
      "For example, when doing 'df[col].method(value, inplace=True)', try using 'df.method({col: value}, inplace=True)' or df[col] = df[col].method(value) instead, to perform the operation inplace on the original object.\n",
      "\n",
      "\n",
      "  Clean_df['Quantity Sold'].fillna(mean_quantity, inplace=True)\n",
      "C:\\Users\\qurat\\AppData\\Local\\Temp\\ipykernel_13664\\3775666950.py:2: SettingWithCopyWarning: \n",
      "A value is trying to be set on a copy of a slice from a DataFrame\n",
      "\n",
      "See the caveats in the documentation: https://pandas.pydata.org/pandas-docs/stable/user_guide/indexing.html#returning-a-view-versus-a-copy\n",
      "  Clean_df['Quantity Sold'].fillna(mean_quantity, inplace=True)\n"
     ]
    }
   ],
   "source": [
    "mean_quantity = Clean_df['Quantity Sold'].mean()\n",
    "Clean_df['Quantity Sold'].fillna(mean_quantity, inplace=True)\n",
    "print(Clean_df)"
   ]
  },
  {
   "cell_type": "markdown",
   "metadata": {},
   "source": [
    "**Convert Data Types**"
   ]
  },
  {
   "cell_type": "code",
   "execution_count": 17,
   "metadata": {},
   "outputs": [
    {
     "name": "stderr",
     "output_type": "stream",
     "text": [
      "C:\\Users\\qurat\\AppData\\Local\\Temp\\ipykernel_13664\\3062965615.py:1: SettingWithCopyWarning: \n",
      "A value is trying to be set on a copy of a slice from a DataFrame.\n",
      "Try using .loc[row_indexer,col_indexer] = value instead\n",
      "\n",
      "See the caveats in the documentation: https://pandas.pydata.org/pandas-docs/stable/user_guide/indexing.html#returning-a-view-versus-a-copy\n",
      "  Clean_df['Date'] = pd.to_datetime(Clean_df['Date'])\n"
     ]
    }
   ],
   "source": [
    "Clean_df['Date'] = pd.to_datetime(Clean_df['Date'])"
   ]
  },
  {
   "cell_type": "code",
   "execution_count": 18,
   "metadata": {},
   "outputs": [
    {
     "data": {
      "text/plain": [
       "0    2025-01-01\n",
       "1    2025-01-01\n",
       "2    2025-01-02\n",
       "3    2025-01-02\n",
       "4    2025-01-03\n",
       "5    2025-02-04\n",
       "6    2025-02-05\n",
       "7    2025-03-05\n",
       "8    2025-03-06\n",
       "10   2025-04-08\n",
       "11   2025-04-10\n",
       "12   2025-05-10\n",
       "13   2025-05-24\n",
       "15   2025-07-13\n",
       "16   2025-08-07\n",
       "17   2025-08-13\n",
       "19   2025-10-17\n",
       "Name: Date, dtype: datetime64[ns]"
      ]
     },
     "execution_count": 18,
     "metadata": {},
     "output_type": "execute_result"
    }
   ],
   "source": [
    "Clean_df['Date']"
   ]
  },
  {
   "cell_type": "markdown",
   "metadata": {},
   "source": [
    "Convert 'Product Name' and 'Region' to categorical data types"
   ]
  },
  {
   "cell_type": "code",
   "execution_count": 19,
   "metadata": {},
   "outputs": [
    {
     "name": "stderr",
     "output_type": "stream",
     "text": [
      "C:\\Users\\qurat\\AppData\\Local\\Temp\\ipykernel_13664\\4051484598.py:1: SettingWithCopyWarning: \n",
      "A value is trying to be set on a copy of a slice from a DataFrame.\n",
      "Try using .loc[row_indexer,col_indexer] = value instead\n",
      "\n",
      "See the caveats in the documentation: https://pandas.pydata.org/pandas-docs/stable/user_guide/indexing.html#returning-a-view-versus-a-copy\n",
      "  Clean_df['Product Name'] = Clean_df['Product Name'].astype('category')\n",
      "C:\\Users\\qurat\\AppData\\Local\\Temp\\ipykernel_13664\\4051484598.py:2: SettingWithCopyWarning: \n",
      "A value is trying to be set on a copy of a slice from a DataFrame.\n",
      "Try using .loc[row_indexer,col_indexer] = value instead\n",
      "\n",
      "See the caveats in the documentation: https://pandas.pydata.org/pandas-docs/stable/user_guide/indexing.html#returning-a-view-versus-a-copy\n",
      "  Clean_df['Region'] = Clean_df['Region'].astype('category')\n"
     ]
    }
   ],
   "source": [
    "Clean_df['Product Name'] = Clean_df['Product Name'].astype('category')\n",
    "Clean_df['Region'] = Clean_df['Region'].astype('category')\n"
   ]
  },
  {
   "cell_type": "code",
   "execution_count": 20,
   "metadata": {},
   "outputs": [
    {
     "name": "stdout",
     "output_type": "stream",
     "text": [
      "Date             datetime64[ns]\n",
      "Product Name           category\n",
      "Region                 category\n",
      "Quantity Sold           float64\n",
      "Revenue (PKR)           float64\n",
      "dtype: object\n"
     ]
    }
   ],
   "source": [
    "print(Clean_df.dtypes)"
   ]
  },
  {
   "cell_type": "markdown",
   "metadata": {},
   "source": [
    "**Data Analysis**"
   ]
  },
  {
   "cell_type": "markdown",
   "metadata": {},
   "source": [
    "Create a new column 'Month'"
   ]
  },
  {
   "cell_type": "code",
   "execution_count": 21,
   "metadata": {},
   "outputs": [
    {
     "name": "stderr",
     "output_type": "stream",
     "text": [
      "C:\\Users\\qurat\\AppData\\Local\\Temp\\ipykernel_13664\\521232643.py:1: SettingWithCopyWarning: \n",
      "A value is trying to be set on a copy of a slice from a DataFrame.\n",
      "Try using .loc[row_indexer,col_indexer] = value instead\n",
      "\n",
      "See the caveats in the documentation: https://pandas.pydata.org/pandas-docs/stable/user_guide/indexing.html#returning-a-view-versus-a-copy\n",
      "  Clean_df['Month'] = Clean_df['Date'].dt.month_name()\n"
     ]
    }
   ],
   "source": [
    "Clean_df['Month'] = Clean_df['Date'].dt.month_name()"
   ]
  },
  {
   "cell_type": "markdown",
   "metadata": {},
   "source": [
    "Preview 2 Columns 'Date' and 'Month'"
   ]
  },
  {
   "cell_type": "code",
   "execution_count": 22,
   "metadata": {},
   "outputs": [
    {
     "name": "stdout",
     "output_type": "stream",
     "text": [
      "         Date     Month\n",
      "0  2025-01-01   January\n",
      "1  2025-01-01   January\n",
      "2  2025-01-02   January\n",
      "3  2025-01-02   January\n",
      "4  2025-01-03   January\n",
      "5  2025-02-04  February\n",
      "6  2025-02-05  February\n",
      "7  2025-03-05     March\n",
      "8  2025-03-06     March\n",
      "10 2025-04-08     April\n",
      "11 2025-04-10     April\n",
      "12 2025-05-10       May\n",
      "13 2025-05-24       May\n",
      "15 2025-07-13      July\n",
      "16 2025-08-07    August\n",
      "17 2025-08-13    August\n",
      "19 2025-10-17   October\n"
     ]
    }
   ],
   "source": [
    "print(Clean_df[['Date', 'Month']])"
   ]
  },
  {
   "cell_type": "markdown",
   "metadata": {},
   "source": [
    "Create a new Column'Month_Num'"
   ]
  },
  {
   "cell_type": "code",
   "execution_count": 23,
   "metadata": {},
   "outputs": [
    {
     "name": "stderr",
     "output_type": "stream",
     "text": [
      "C:\\Users\\qurat\\AppData\\Local\\Temp\\ipykernel_13664\\2887953682.py:1: SettingWithCopyWarning: \n",
      "A value is trying to be set on a copy of a slice from a DataFrame.\n",
      "Try using .loc[row_indexer,col_indexer] = value instead\n",
      "\n",
      "See the caveats in the documentation: https://pandas.pydata.org/pandas-docs/stable/user_guide/indexing.html#returning-a-view-versus-a-copy\n",
      "  Clean_df['Month_Num'] = Clean_df['Date'].dt.month\n"
     ]
    }
   ],
   "source": [
    "Clean_df['Month_Num'] = Clean_df['Date'].dt.month"
   ]
  },
  {
   "cell_type": "markdown",
   "metadata": {},
   "source": [
    "Group the data by Month and calculate the total sales revenue for each month."
   ]
  },
  {
   "cell_type": "code",
   "execution_count": 24,
   "metadata": {},
   "outputs": [],
   "source": [
    "monthly_sales = Clean_df.groupby(['Month_Num', 'Month'])['Revenue (PKR)'].sum().reset_index()"
   ]
  },
  {
   "cell_type": "code",
   "execution_count": 25,
   "metadata": {},
   "outputs": [
    {
     "data": {
      "text/html": [
       "<div>\n",
       "<style scoped>\n",
       "    .dataframe tbody tr th:only-of-type {\n",
       "        vertical-align: middle;\n",
       "    }\n",
       "\n",
       "    .dataframe tbody tr th {\n",
       "        vertical-align: top;\n",
       "    }\n",
       "\n",
       "    .dataframe thead th {\n",
       "        text-align: right;\n",
       "    }\n",
       "</style>\n",
       "<table border=\"1\" class=\"dataframe\">\n",
       "  <thead>\n",
       "    <tr style=\"text-align: right;\">\n",
       "      <th></th>\n",
       "      <th>Month_Num</th>\n",
       "      <th>Month</th>\n",
       "      <th>Revenue (PKR)</th>\n",
       "    </tr>\n",
       "  </thead>\n",
       "  <tbody>\n",
       "    <tr>\n",
       "      <th>0</th>\n",
       "      <td>1</td>\n",
       "      <td>January</td>\n",
       "      <td>540000.0</td>\n",
       "    </tr>\n",
       "    <tr>\n",
       "      <th>1</th>\n",
       "      <td>2</td>\n",
       "      <td>February</td>\n",
       "      <td>120000.0</td>\n",
       "    </tr>\n",
       "    <tr>\n",
       "      <th>2</th>\n",
       "      <td>3</td>\n",
       "      <td>March</td>\n",
       "      <td>285000.0</td>\n",
       "    </tr>\n",
       "    <tr>\n",
       "      <th>3</th>\n",
       "      <td>4</td>\n",
       "      <td>April</td>\n",
       "      <td>285000.0</td>\n",
       "    </tr>\n",
       "    <tr>\n",
       "      <th>4</th>\n",
       "      <td>5</td>\n",
       "      <td>May</td>\n",
       "      <td>105000.0</td>\n",
       "    </tr>\n",
       "    <tr>\n",
       "      <th>5</th>\n",
       "      <td>7</td>\n",
       "      <td>July</td>\n",
       "      <td>100000.0</td>\n",
       "    </tr>\n",
       "    <tr>\n",
       "      <th>6</th>\n",
       "      <td>8</td>\n",
       "      <td>August</td>\n",
       "      <td>207500.0</td>\n",
       "    </tr>\n",
       "    <tr>\n",
       "      <th>7</th>\n",
       "      <td>10</td>\n",
       "      <td>October</td>\n",
       "      <td>126000.0</td>\n",
       "    </tr>\n",
       "  </tbody>\n",
       "</table>\n",
       "</div>"
      ],
      "text/plain": [
       "   Month_Num     Month  Revenue (PKR)\n",
       "0          1   January       540000.0\n",
       "1          2  February       120000.0\n",
       "2          3     March       285000.0\n",
       "3          4     April       285000.0\n",
       "4          5       May       105000.0\n",
       "5          7      July       100000.0\n",
       "6          8    August       207500.0\n",
       "7         10   October       126000.0"
      ]
     },
     "execution_count": 25,
     "metadata": {},
     "output_type": "execute_result"
    }
   ],
   "source": [
    "monthly_sales"
   ]
  },
  {
   "cell_type": "markdown",
   "metadata": {},
   "source": [
    "Plot the Result"
   ]
  },
  {
   "cell_type": "code",
   "execution_count": 26,
   "metadata": {},
   "outputs": [
    {
     "data": {
      "image/png": "[encoded data removed]",
      "text/plain": [
       "<Figure size 640x480 with 1 Axes>"
      ]
     },
     "metadata": {},
     "output_type": "display_data"
    }
   ],
   "source": [
    "x=monthly_sales['Month']\n",
    "y=monthly_sales['Revenue (PKR)']\n",
    "plt.plot(x,y , marker='o', linestyle='-')\n",
    "plt.title('Monthly Sales Revenue')\n",
    "plt.xlabel('Month')\n",
    "plt.ylabel('Total Revenue (PKR)')\n",
    "plt.grid(True)\n",
    "plt.show()"
   ]
  },
  {
   "cell_type": "markdown",
   "metadata": {},
   "source": [
    "**Regional Sales Performance**"
   ]
  },
  {
   "cell_type": "markdown",
   "metadata": {},
   "source": [
    "Group the data by Region and calculate the total sales revenue for each region"
   ]
  },
  {
   "cell_type": "code",
   "execution_count": 27,
   "metadata": {},
   "outputs": [
    {
     "name": "stderr",
     "output_type": "stream",
     "text": [
      "C:\\Users\\qurat\\AppData\\Local\\Temp\\ipykernel_13664\\1727847519.py:1: FutureWarning: The default of observed=False is deprecated and will be changed to True in a future version of pandas. Pass observed=False to retain current behavior or observed=True to adopt the future default and silence this warning.\n",
      "  regional_sales = Clean_df.groupby('Region')['Revenue (PKR)'].sum().reset_index()\n"
     ]
    }
   ],
   "source": [
    "regional_sales = Clean_df.groupby('Region')['Revenue (PKR)'].sum().reset_index()"
   ]
  },
  {
   "cell_type": "code",
   "execution_count": 28,
   "metadata": {},
   "outputs": [
    {
     "name": "stdout",
     "output_type": "stream",
     "text": [
      "       Region  Revenue (PKR)\n",
      "0  Faisalabad       160000.0\n",
      "1   Islamabad       252500.0\n",
      "2     Karachi       370000.0\n",
      "3      Lahore       711000.0\n",
      "4      Multan        30000.0\n",
      "5    Peshawar       245000.0\n"
     ]
    }
   ],
   "source": [
    "print(regional_sales)"
   ]
  },
  {
   "cell_type": "markdown",
   "metadata": {},
   "source": [
    "Plot the Result"
   ]
  },
  {
   "cell_type": "code",
   "execution_count": 29,
   "metadata": {},
   "outputs": [
    {
     "data": {
      "image/png": "[encoded data removed]",
      "text/plain": [
       "<Figure size 640x480 with 1 Axes>"
      ]
     },
     "metadata": {},
     "output_type": "display_data"
    }
   ],
   "source": [
    "x=regional_sales['Region']\n",
    "y=regional_sales['Revenue (PKR)']\n",
    "plt.plot(x,y , marker='o', linestyle='-')\n",
    "plt.title('Regional Sales Revenue')\n",
    "plt.xlabel('Region')\n",
    "plt.ylabel('Total Revenue (PKR)')\n",
    "plt.grid(True)\n",
    "plt.show()"
   ]
  },
  {
   "cell_type": "markdown",
   "metadata": {},
   "source": [
    "**Top-Selling Products**"
   ]
  },
  {
   "cell_type": "markdown",
   "metadata": {},
   "source": [
    "Group the Data by Product and calculate Revenue"
   ]
  },
  {
   "cell_type": "code",
   "execution_count": 30,
   "metadata": {},
   "outputs": [
    {
     "name": "stderr",
     "output_type": "stream",
     "text": [
      "C:\\Users\\qurat\\AppData\\Local\\Temp\\ipykernel_13664\\2535888480.py:1: FutureWarning: The default of observed=False is deprecated and will be changed to True in a future version of pandas. Pass observed=False to retain current behavior or observed=True to adopt the future default and silence this warning.\n",
      "  top_products = Clean_df.groupby('Product Name')['Revenue (PKR)'].sum().reset_index()\n"
     ]
    }
   ],
   "source": [
    "top_products = Clean_df.groupby('Product Name')['Revenue (PKR)'].sum().reset_index()"
   ]
  },
  {
   "cell_type": "markdown",
   "metadata": {},
   "source": [
    "Identify the top 5 products based on total sales revenue"
   ]
  },
  {
   "cell_type": "code",
   "execution_count": 31,
   "metadata": {},
   "outputs": [
    {
     "data": {
      "text/html": [
       "<div>\n",
       "<style scoped>\n",
       "    .dataframe tbody tr th:only-of-type {\n",
       "        vertical-align: middle;\n",
       "    }\n",
       "\n",
       "    .dataframe tbody tr th {\n",
       "        vertical-align: top;\n",
       "    }\n",
       "\n",
       "    .dataframe thead th {\n",
       "        text-align: right;\n",
       "    }\n",
       "</style>\n",
       "<table border=\"1\" class=\"dataframe\">\n",
       "  <thead>\n",
       "    <tr style=\"text-align: right;\">\n",
       "      <th></th>\n",
       "      <th>Product Name</th>\n",
       "      <th>Revenue (PKR)</th>\n",
       "    </tr>\n",
       "  </thead>\n",
       "  <tbody>\n",
       "    <tr>\n",
       "      <th>0</th>\n",
       "      <td>Dupatta</td>\n",
       "      <td>117500.0</td>\n",
       "    </tr>\n",
       "    <tr>\n",
       "      <th>1</th>\n",
       "      <td>Jeans</td>\n",
       "      <td>246000.0</td>\n",
       "    </tr>\n",
       "    <tr>\n",
       "      <th>2</th>\n",
       "      <td>Kurti</td>\n",
       "      <td>355000.0</td>\n",
       "    </tr>\n",
       "    <tr>\n",
       "      <th>3</th>\n",
       "      <td>Shalwar Kameez</td>\n",
       "      <td>840000.0</td>\n",
       "    </tr>\n",
       "    <tr>\n",
       "      <th>4</th>\n",
       "      <td>T-Shirt</td>\n",
       "      <td>210000.0</td>\n",
       "    </tr>\n",
       "  </tbody>\n",
       "</table>\n",
       "</div>"
      ],
      "text/plain": [
       "     Product Name  Revenue (PKR)\n",
       "0         Dupatta       117500.0\n",
       "1           Jeans       246000.0\n",
       "2           Kurti       355000.0\n",
       "3  Shalwar Kameez       840000.0\n",
       "4         T-Shirt       210000.0"
      ]
     },
     "execution_count": 31,
     "metadata": {},
     "output_type": "execute_result"
    }
   ],
   "source": [
    "top_products.head(5)"
   ]
  },
  {
   "cell_type": "markdown",
   "metadata": {},
   "source": [
    "Plot the sales revenue of these top 5 products."
   ]
  },
  {
   "cell_type": "code",
   "execution_count": 32,
   "metadata": {},
   "outputs": [
    {
     "data": {
      "image/png": "[encoded data removed]",
      "text/plain": [
       "<Figure size 640x480 with 1 Axes>"
      ]
     },
     "metadata": {},
     "output_type": "display_data"
    }
   ],
   "source": [
    "x=top_products['Product Name']\n",
    "y=top_products['Revenue (PKR)']\n",
    "plt.plot(x,y , marker='o', linestyle='-')\n",
    "plt.title('Top 5 Products by Sales Revenue')\n",
    "plt.xlabel('Product Name')\n",
    "plt.ylabel('Total Revenue (PKR)')\n",
    "plt.show()"
   ]
  },
  {
   "cell_type": "markdown",
   "metadata": {},
   "source": [
    "**Sales Trends:**"
   ]
  },
  {
   "cell_type": "code",
   "execution_count": 33,
   "metadata": {},
   "outputs": [
    {
     "name": "stdout",
     "output_type": "stream",
     "text": [
      "Requirement already satisfied: statsmodels in c:\\users\\qurat\\appdata\\local\\programs\\python\\python313\\lib\\site-packages (0.14.4)\n",
      "Requirement already satisfied: numpy<3,>=1.22.3 in c:\\users\\qurat\\appdata\\local\\programs\\python\\python313\\lib\\site-packages (from statsmodels) (2.2.3)\n",
      "Requirement already satisfied: scipy!=1.9.2,>=1.8 in c:\\users\\qurat\\appdata\\local\\programs\\python\\python313\\lib\\site-packages (from statsmodels) (1.15.2)\n",
      "Requirement already satisfied: pandas!=2.1.0,>=1.4 in c:\\users\\qurat\\appdata\\local\\programs\\python\\python313\\lib\\site-packages (from statsmodels) (2.2.3)\n",
      "Requirement already satisfied: patsy>=0.5.6 in c:\\users\\qurat\\appdata\\local\\programs\\python\\python313\\lib\\site-packages (from statsmodels) (1.0.1)\n",
      "Requirement already satisfied: packaging>=21.3 in c:\\users\\qurat\\appdata\\roaming\\python\\python313\\site-packages (from statsmodels) (24.2)\n",
      "Requirement already satisfied: python-dateutil>=2.8.2 in c:\\users\\qurat\\appdata\\roaming\\python\\python313\\site-packages (from pandas!=2.1.0,>=1.4->statsmodels) (2.9.0.post0)\n",
      "Requirement already satisfied: pytz>=2020.1 in c:\\users\\qurat\\appdata\\local\\programs\\python\\python313\\lib\\site-packages (from pandas!=2.1.0,>=1.4->statsmodels) (2025.1)\n",
      "Requirement already satisfied: tzdata>=2022.7 in c:\\users\\qurat\\appdata\\local\\programs\\python\\python313\\lib\\site-packages (from pandas!=2.1.0,>=1.4->statsmodels) (2025.1)\n",
      "Requirement already satisfied: six>=1.5 in c:\\users\\qurat\\appdata\\roaming\\python\\python313\\site-packages (from python-dateutil>=2.8.2->pandas!=2.1.0,>=1.4->statsmodels) (1.17.0)\n",
      "Note: you may need to restart the kernel to use updated packages.\n"
     ]
    }
   ],
   "source": [
    "%pip install statsmodels"
   ]
  },
  {
   "cell_type": "code",
   "execution_count": 34,
   "metadata": {},
   "outputs": [],
   "source": [
    "from statsmodels.tsa.seasonal import seasonal_decompose"
   ]
  },
  {
   "cell_type": "markdown",
   "metadata": {},
   "source": [
    "Perform a time series analysis to identify trends in the sales data"
   ]
  },
  {
   "cell_type": "code",
   "execution_count": 35,
   "metadata": {},
   "outputs": [
    {
     "name": "stderr",
     "output_type": "stream",
     "text": [
      "C:\\Users\\qurat\\AppData\\Local\\Temp\\ipykernel_13664\\1771968555.py:1: SettingWithCopyWarning: \n",
      "A value is trying to be set on a copy of a slice from a DataFrame.\n",
      "Try using .loc[row_indexer,col_indexer] = value instead\n",
      "\n",
      "See the caveats in the documentation: https://pandas.pydata.org/pandas-docs/stable/user_guide/indexing.html#returning-a-view-versus-a-copy\n",
      "  Clean_df['Date'] = pd.to_datetime(Clean_df['Date'])\n"
     ]
    }
   ],
   "source": [
    "Clean_df['Date'] = pd.to_datetime(Clean_df['Date'])\n",
    "Clean_df.set_index('Date', inplace=True)"
   ]
  },
  {
   "cell_type": "code",
   "execution_count": 36,
   "metadata": {},
   "outputs": [
    {
     "name": "stderr",
     "output_type": "stream",
     "text": [
      "C:\\Users\\qurat\\AppData\\Local\\Temp\\ipykernel_13664\\3645372941.py:1: FutureWarning: 'M' is deprecated and will be removed in a future version, please use 'ME' instead.\n",
      "  monthly_data = Clean_df['Revenue (PKR)'].resample('M').sum()\n"
     ]
    }
   ],
   "source": [
    "monthly_data = Clean_df['Revenue (PKR)'].resample('M').sum()"
   ]
  },
  {
   "cell_type": "markdown",
   "metadata": {},
   "source": [
    "Plot the Graph"
   ]
  },
  {
   "cell_type": "code",
   "execution_count": 37,
   "metadata": {},
   "outputs": [
    {
     "data": {
      "image/png": "[encoded data removed]",
      "text/plain": [
       "<Figure size 1000x600 with 1 Axes>"
      ]
     },
     "metadata": {},
     "output_type": "display_data"
    }
   ],
   "source": [
    "rolling_avg = monthly_data.rolling(window=3).mean()  \n",
    "\n",
    "plt.figure(figsize=(10, 6))\n",
    "plt.plot(monthly_data, label='Original Data')\n",
    "plt.plot(rolling_avg, label='Rolling Average', color='orange')\n",
    "plt.legend()\n",
    "plt.title('Sales Revenue with Rolling Average')\n",
    "plt.xlabel('Date')\n",
    "plt.ylabel('Revenue (PKR)')\n",
    "plt.show()"
   ]
  },
  {
   "cell_type": "markdown",
   "metadata": {},
   "source": [
    "**Forecasting Future Sales**"
   ]
  },
  {
   "cell_type": "code",
   "execution_count": 38,
   "metadata": {},
   "outputs": [
    {
     "name": "stdout",
     "output_type": "stream",
     "text": [
      "Requirement already satisfied: statsmodels in c:\\users\\qurat\\appdata\\local\\programs\\python\\python313\\lib\\site-packages (0.14.4)\n",
      "Note: you may need to restart the kernel to use updated packages.\n"
     ]
    },
    {
     "name": "stderr",
     "output_type": "stream",
     "text": [
      "WARNING: Retrying (Retry(total=4, connect=None, read=None, redirect=None, status=None)) after connection broken by 'NewConnectionError('<pip._vendor.urllib3.connection.HTTPSConnection object at 0x0000027D4D90CAD0>: Failed to establish a new connection: [Errno 11001] getaddrinfo failed')': /simple/pmdarima/\n",
      "WARNING: Retrying (Retry(total=3, connect=None, read=None, redirect=None, status=None)) after connection broken by 'NewConnectionError('<pip._vendor.urllib3.connection.HTTPSConnection object at 0x0000027D4D83EFD0>: Failed to establish a new connection: [Errno 11001] getaddrinfo failed')': /simple/pmdarima/\n",
      "WARNING: Retrying (Retry(total=2, connect=None, read=None, redirect=None, status=None)) after connection broken by 'NewConnectionError('<pip._vendor.urllib3.connection.HTTPSConnection object at 0x0000027D4D83F250>: Failed to establish a new connection: [Errno 11001] getaddrinfo failed')': /simple/pmdarima/\n",
      "WARNING: Retrying (Retry(total=1, connect=None, read=None, redirect=None, status=None)) after connection broken by 'NewConnectionError('<pip._vendor.urllib3.connection.HTTPSConnection object at 0x0000027D4D83F4D0>: Failed to establish a new connection: [Errno 11001] getaddrinfo failed')': /simple/pmdarima/\n",
      "WARNING: Retrying (Retry(total=0, connect=None, read=None, redirect=None, status=None)) after connection broken by 'NewConnectionError('<pip._vendor.urllib3.connection.HTTPSConnection object at 0x0000027D4D83F750>: Failed to establish a new connection: [Errno 11001] getaddrinfo failed')': /simple/pmdarima/\n",
      "ERROR: Could not find a version that satisfies the requirement pmdarima (from versions: none)\n",
      "ERROR: No matching distribution found for pmdarima\n"
     ]
    }
   ],
   "source": [
    "%pip install statsmodels pmdarima"
   ]
  },
  {
   "cell_type": "code",
   "execution_count": 39,
   "metadata": {},
   "outputs": [],
   "source": [
    "from statsmodels.tsa.arima.model import ARIMA\n",
    "from datetime import timedelta"
   ]
  },
  {
   "cell_type": "markdown",
   "metadata": {},
   "source": [
    "Using an ARIMA model, forecast the sales revenue for the next 6 months"
   ]
  },
  {
   "cell_type": "code",
   "execution_count": 40,
   "metadata": {},
   "outputs": [],
   "source": [
    "model = ARIMA(monthly_data, order=(1, 1, 1)) \n",
    "fitted_model = model.fit()"
   ]
  },
  {
   "cell_type": "code",
   "execution_count": 41,
   "metadata": {},
   "outputs": [
    {
     "name": "stderr",
     "output_type": "stream",
     "text": [
      "C:\\Users\\qurat\\AppData\\Local\\Temp\\ipykernel_13664\\3437852472.py:4: FutureWarning: 'M' is deprecated and will be removed in a future version, please use 'ME' instead.\n",
      "  forecast_index = pd.date_range(start=monthly_data.index[-1] + timedelta(days=1), periods=forecast_steps, freq='M')\n"
     ]
    }
   ],
   "source": [
    "forecast_steps = 6\n",
    "forecast = fitted_model.forecast(steps=forecast_steps)\n",
    "\n",
    "forecast_index = pd.date_range(start=monthly_data.index[-1] + timedelta(days=1), periods=forecast_steps, freq='M')\n",
    "\n",
    "forecast_df = pd.DataFrame(forecast, index=forecast_index, columns=['Forecasted Revenue'])"
   ]
  },
  {
   "cell_type": "markdown",
   "metadata": {},
   "source": [
    "Plot the forecasted values along with the historical sales data"
   ]
  },
  {
   "cell_type": "code",
   "execution_count": 42,
   "metadata": {},
   "outputs": [
    {
     "data": {
      "image/png": "[encoded data removed]",
      "text/plain": [
       "<Figure size 1200x800 with 1 Axes>"
      ]
     },
     "metadata": {},
     "output_type": "display_data"
    }
   ],
   "source": [
    "plt.figure(figsize=(12, 8))\n",
    "plt.plot(monthly_data, label='Historical Sales Revenue', color='blue')\n",
    "plt.plot(forecast_df, label='Forecasted Sales Revenue', color='orange', linestyle='--')\n",
    "plt.title('Sales Revenue Forecast for the Next 6 Months')\n",
    "plt.xlabel('Date')\n",
    "plt.ylabel('Sales Revenue (PKR)')\n",
    "plt.legend()\n",
    "plt.grid(True)\n",
    "plt.tight_layout()\n",
    "plt.show()"
   ]
  },
  {
   "cell_type": "markdown",
   "metadata": {},
   "source": [
    "**Regional Performance**"
   ]
  },
  {
   "cell_type": "markdown",
   "metadata": {},
   "source": [
    "Group the data by Region and calculate the Region which region has the highest sales revenue"
   ]
  },
  {
   "cell_type": "code",
   "execution_count": 43,
   "metadata": {},
   "outputs": [
    {
     "name": "stdout",
     "output_type": "stream",
     "text": [
      "Region\n",
      "Lahore        711000.0\n",
      "Karachi       370000.0\n",
      "Islamabad     252500.0\n",
      "Peshawar      245000.0\n",
      "Faisalabad    160000.0\n",
      "Multan         30000.0\n",
      "Name: Revenue (PKR), dtype: float64\n"
     ]
    },
    {
     "name": "stderr",
     "output_type": "stream",
     "text": [
      "C:\\Users\\qurat\\AppData\\Local\\Temp\\ipykernel_13664\\2064902350.py:1: FutureWarning: The default of observed=False is deprecated and will be changed to True in a future version of pandas. Pass observed=False to retain current behavior or observed=True to adopt the future default and silence this warning.\n",
      "  regional_sales = Clean_df.groupby('Region')['Revenue (PKR)'].sum().sort_values(ascending=False)\n"
     ]
    }
   ],
   "source": [
    "regional_sales = Clean_df.groupby('Region')['Revenue (PKR)'].sum().sort_values(ascending=False)\n",
    "print(regional_sales)"
   ]
  },
  {
   "cell_type": "markdown",
   "metadata": {},
   "source": [
    "Check the Region which has the loweest sales revenue"
   ]
  },
  {
   "cell_type": "code",
   "execution_count": 44,
   "metadata": {},
   "outputs": [
    {
     "name": "stdout",
     "output_type": "stream",
     "text": [
      "Region\n",
      "Multan         30000.0\n",
      "Faisalabad    160000.0\n",
      "Peshawar      245000.0\n",
      "Islamabad     252500.0\n",
      "Karachi       370000.0\n",
      "Lahore        711000.0\n",
      "Name: Revenue (PKR), dtype: float64\n"
     ]
    },
    {
     "name": "stderr",
     "output_type": "stream",
     "text": [
      "C:\\Users\\qurat\\AppData\\Local\\Temp\\ipykernel_13664\\3179007224.py:1: FutureWarning: The default of observed=False is deprecated and will be changed to True in a future version of pandas. Pass observed=False to retain current behavior or observed=True to adopt the future default and silence this warning.\n",
      "  regional_sales = Clean_df.groupby('Region')['Revenue (PKR)'].sum().sort_values(ascending=True)\n"
     ]
    }
   ],
   "source": [
    "regional_sales = Clean_df.groupby('Region')['Revenue (PKR)'].sum().sort_values(ascending=True)\n",
    "print(regional_sales)"
   ]
  },
  {
   "cell_type": "markdown",
   "metadata": {},
   "source": [
    "**Product Performance**"
   ]
  },
  {
   "cell_type": "markdown",
   "metadata": {},
   "source": [
    "List the top 5 products with the highest sales revenue"
   ]
  },
  {
   "cell_type": "code",
   "execution_count": 45,
   "metadata": {},
   "outputs": [
    {
     "name": "stdout",
     "output_type": "stream",
     "text": [
      "Product Name\n",
      "Shalwar Kameez    840000.0\n",
      "Kurti             355000.0\n",
      "Jeans             246000.0\n",
      "T-Shirt           210000.0\n",
      "Dupatta           117500.0\n",
      "Name: Revenue (PKR), dtype: float64\n"
     ]
    },
    {
     "name": "stderr",
     "output_type": "stream",
     "text": [
      "C:\\Users\\qurat\\AppData\\Local\\Temp\\ipykernel_13664\\2479231732.py:1: FutureWarning: The default of observed=False is deprecated and will be changed to True in a future version of pandas. Pass observed=False to retain current behavior or observed=True to adopt the future default and silence this warning.\n",
      "  top_products = Clean_df.groupby('Product Name')['Revenue (PKR)'].sum().sort_values(ascending=False).head(5)\n"
     ]
    }
   ],
   "source": [
    "top_products = Clean_df.groupby('Product Name')['Revenue (PKR)'].sum().sort_values(ascending=False).head(5)\n",
    "print(top_products)"
   ]
  },
  {
   "cell_type": "markdown",
   "metadata": {},
   "source": [
    "**Sales Forecast**"
   ]
  },
  {
   "cell_type": "markdown",
   "metadata": {},
   "source": [
    "Based on the ARIMA model forecast, Expected sales revenue for the next 6 months is:"
   ]
  },
  {
   "cell_type": "code",
   "execution_count": 46,
   "metadata": {},
   "outputs": [
    {
     "name": "stdout",
     "output_type": "stream",
     "text": [
      "2025-11-30    87878.410257\n",
      "2025-12-31    98146.403728\n",
      "2026-01-31    95380.734965\n",
      "2026-02-28    96125.663731\n",
      "2026-03-31    95925.018277\n",
      "2026-04-30    95979.061831\n",
      "Freq: ME, Name: predicted_mean, dtype: float64\n"
     ]
    }
   ],
   "source": [
    "forecast = fitted_model.forecast(steps=6)\n",
    "print(forecast)"
   ]
  },
  {
   "cell_type": "markdown",
   "metadata": {},
   "source": [
    "Based on your analysis, recommend three data-driven strategies the company should implement to optimize their sales performance:"
   ]
  },
  {
   "cell_type": "markdown",
   "metadata": {},
   "source": [
    "1. Focus Marketing Efforts on High-Revenue Regions (e.g., Karachi)\n",
    "2. Stock Smart: Use Forecasting for Inventory Management\n",
    "3. Boost Sales in Low-Performing Regions (e.g., Quetta)"
   ]
  }
 ],
 "metadata": {
  "kernelspec": {
   "display_name": "Python 3",
   "language": "python",
   "name": "python3"
  },
  "language_info": {
   "codemirror_mode": {
    "name": "ipython",
    "version": 3
   },
   "file_extension": ".py",
   "mimetype": "text/x-python",
   "name": "python",
   "nbconvert_exporter": "python",
   "pygments_lexer": "ipython3",
   "version": "3.13.2"
  }
 },
 "nbformat": 4,
 "nbformat_minor": 2
}
